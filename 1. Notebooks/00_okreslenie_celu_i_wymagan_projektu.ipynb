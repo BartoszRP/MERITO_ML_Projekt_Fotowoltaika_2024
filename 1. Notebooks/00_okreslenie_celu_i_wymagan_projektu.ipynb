{
 "cells": [
  {
   "cell_type": "markdown",
   "metadata": {},
   "source": [
    "### Okreselnie celu i Wymagan Projektu"
   ]
  },
  {
   "cell_type": "markdown",
   "metadata": {},
   "source": [
    "wypisac i uzuplenic z OneNote\n"
   ]
  },
  {
   "cell_type": "markdown",
   "metadata": {},
   "source": [
    "## Etapy procesu Data Science:\n",
    "\n",
    "0. Zdefiniowanie problemu,\n",
    "1. Zebranie surowych danych,\n",
    "2. Przetwarzanie i czyszczenie danych,\n",
    "3. Eksploracja danych,\n",
    "4. Pogłębiona analiza danych,\n",
    "5. Komunikacja wyników."
   ]
  },
  {
   "cell_type": "markdown",
   "metadata": {},
   "source": [
    "## Etapy procesu Machine Learning:\n",
    "\n",
    "10. XXX\n",
    "11. XXX\n",
    "12. XXX"
   ]
  },
  {
   "cell_type": "markdown",
   "metadata": {},
   "source": [
    "Aby ocenić opłacalność paneli fotowoltaicznych na podstawie Twojej ramki danych, najpierw warto zrozumieć, jakie informacje zawiera. Spójrzmy na dane, aby zobaczyć, co mamy do dyspozycji i jak możemy na tej podstawie analizować opłacalność instalacji fotowoltaicznych.\n",
    "\n",
    "Co do wzoru na produkcję energii z paneli fotowoltaicznych, istnieje kilka podstawowych czynników wpływających na ilość generowanej energii, takich jak moc zainstalowana (w kWp), nasłonecznienie (w kWh/m²), efektywność paneli oraz liczba godzin słonecznych. Zazwyczaj wydajność instalacji fotowoltaicznej wyraża się wzorem:\n",
    "\n",
    "\n",
    "E=P×H×PR\n",
    "gdzie:\n",
    "\n",
    "E jest wyprodukowaną energią elektryczną w kWh,\n",
    "\n",
    "P oznacza moc zainstalowaną w kWp,\n",
    "\n",
    "H jest średnim rocznym nasłonecznieniem na jednostkę powierzchni (w kWh/m²),\n",
    "\n",
    "PR to współczynnik wydajności (Performance Ratio), który uwzględnia straty systemowe i realne warunki pracy (zwykle w przedziale 0,75 do 0,85)."
   ]
  },
  {
   "cell_type": "markdown",
   "metadata": {},
   "source": [
    "Strona ile produkuje fotowoltaika srednio\n",
    "\n",
    "https://kotly.pl/instalacja-fotowoltaiczna-ile-pradu-ze-slonca/#:~:text=Instalacja%20fotowoltaiczna%20o%20mocy%201,kąta%20nachylenia%20do%20płaszczyzny%20poziomej)."
   ]
  }
 ],
 "metadata": {
  "language_info": {
   "name": "python"
  }
 },
 "nbformat": 4,
 "nbformat_minor": 2
}
