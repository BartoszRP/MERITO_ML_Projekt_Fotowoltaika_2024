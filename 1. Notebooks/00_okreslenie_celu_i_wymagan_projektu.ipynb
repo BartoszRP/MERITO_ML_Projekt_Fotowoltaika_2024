{
 "cells": [
  {
   "cell_type": "markdown",
   "metadata": {},
   "source": [
    "### Okreselnie celu i Wymagan Projektu"
   ]
  },
  {
   "cell_type": "markdown",
   "metadata": {},
   "source": [
    "wypisac i uzuplenic z OneNote\n"
   ]
  }
 ],
 "metadata": {
  "language_info": {
   "name": "python"
  }
 },
 "nbformat": 4,
 "nbformat_minor": 2
}
