{
 "cells": [
  {
   "cell_type": "markdown",
   "metadata": {},
   "source": [
    "# Temat pracy: \n",
    "\n",
    "## \"Analiza opłacalności instalacji fotowoltaicznych w wybranych regioniach na podstawie danych z OpenWeatherMap.\""
   ]
  },
  {
   "cell_type": "markdown",
   "metadata": {},
   "source": [
    "------"
   ]
  },
  {
   "cell_type": "markdown",
   "metadata": {},
   "source": [
    "### **Okreselnie celu i Wymagan Projektu:**\n",
    "\n",
    "Projekt musi być napisany w jednej z poznanych technologii na zajęciach. Można mieszać technologie np. SQL+ Python, R+ Python, etc., ale też wystarczy projekt przygotować w jednej technologii np. Python. (Może to być statystyczna analiza wybranego zjawiska, wizualizacja wybranych zjawisk – tworzenie dashboardów, etc., prognozowanie wybranych wskaźników, stworzenie kalkulatora składek, kalkulatora kredytu hipotecznego, etc. ). \n",
    "\n",
    "**Kryteria oceny:** student potrafi poprawnie stworzyć programy rozwiązujące średnio-zaawansowane problemy wykorzystując odpowiednie struktury danych oraz konstrukcje programistyczne dostępne w wybranej technologii. Korzysta bez większych problemów z wybranych bibliotek (posiłkując się dokumentacją).\n",
    "\n",
    "**Składowe projektu:**\n",
    "- Instrukcja szczegółowa krok po kroku co zainstalować aby uruchomić projekt, link do strony aby ściągnąć wymagane pliki, jakie biblioteki i jak zainstalować, etc.\n",
    "- Instrukcja powinna być na tyle przystępna aby każdy mógł zainstalować wymagane oprogramowanie i bez przeszkód uruchomić program. \n",
    "- Kod + pliki ewentualne do wczytania poprzez kod; wszystkie elementy aby uruchomić projekt;\n",
    "- Prezentacja ppt/pdf [Zawiera Temat, Autorów, Promotora, Cel projektu, instalowane biblioteki, ciekawy fragment/ty kodu, ew. trudności w pisaniu projektu, etc. 5-7 slajdów]\n",
    "- Projekt maksymalnie może mieć 5GB. \n",
    "- Ma być dostarczony do promotora na maila (zip, rar, lub przez Microsoft Drive, Google Drive, GitHub)\n"
   ]
  },
  {
   "cell_type": "markdown",
   "metadata": {},
   "source": [
    "## Etapy procesu Data Science:\n",
    "\n",
    "**1. Określenie Celu i Wymagań Projektu (Zdefiniowanie problemu):**\n",
    "-   Definicja wybranego miejsca/geograficznej lokalizacji.\n",
    "-   Określenie kryteriów opłacalności instalacji fotowoltaicznych.\n",
    "-   Wymagania dotyczące danych i ich źródeł (np. zakres czasowy danych, częstotliwość pomiarów).\n",
    "        \n",
    "**2. Zbieranie Danych:**\n",
    "\n",
    "-   Wybór i integracja z API dostarczającym dane pogodowe, takie jak nasłonecznienie (np. OpenWeatherMap, Weather API).\n",
    "-   Napisanie skryptu w Pythonie do automatycznego pobierania danych.\n",
    "\n",
    "**3. Przetwarzanie i Oczyszczanie Danych:**\n",
    "\n",
    "-   Usuwanie brakujących wartości, normalizacja i standardyzacja danych.\n",
    "-   Wybór istotnych kolumn danych do analizy.\n",
    "\n",
    "**4. Tworzenie Bazy Danych:**\n",
    "\n",
    "-   Decyzja o wyborze bazy danych: SQL vs SQLite (SQLite jest łatwiejszy w obsłudze i nie wymaga osobnego serwera).\n",
    "-   Projektowanie schematu bazy danych.\n",
    "-   Implementacja bazy danych i zapis oczyszczonych danych.\n",
    "\n",
    "**5. Analiza Danych (Eksploracja danych oraz poglebiona analiza danych):**\n",
    "\n",
    "-   Wykorzystanie biblioteki Pandas do dalszego przetwarzania danych.\n",
    "-   Analiza dni nasłonecznionych i ocena efektywności paneli słonecznych.\n",
    "-   Wykorzystanie danych geograficznych (szerokość i długość geograficzna) do oceny nasłonecznienia w różnych porach roku.\n",
    "-   Obliczenie ilości dni słonecznych i ich wpływu na potencjalną produkcję energii.\n",
    "                  \n",
    "**6. Tworzenie Dashboardu (Komunikacja wynikow):**\n",
    "\n",
    "-   Projektowanie i implementacja dashboardu (w jezyku Python), który będzie wizualizował kluczowe wskaźniki.\n",
    "\n",
    "**7. Machine Learning:**\n",
    "\n",
    "-   Przygotowanie danych do modelowania.\n",
    "-   Budowa modeli predykcyjnych dla przewidywania przyszłego nasłonecznienia (regresja, drzewa decyzyjne, itp.).\n",
    "-   Walidacja modeli i ocena ich wydajności.\n",
    "        \n",
    "**8. Dokumentacja i Prezentacja:**\n",
    "\n",
    "-   Przygotowanie dokumentacji projektu, w tym instrukcji instalacji i uruchomienia.\n",
    "-   Tworzenie prezentacji wyników.\n",
    "\n",
    "**9. Testowanie i Weryfikacja:**\n",
    "\n",
    "-   Testowanie całego systemu, weryfikacja działania dashboardu i skryptów.\n",
    "-   Sprawdzenie dokładności modeli ML.\n",
    "\n",
    "**10. Pakowanie i Wysyłka:**\n",
    "\n",
    "-   Zapis projektu w formacie ZIP lub RAR.\n",
    "-   Przesłanie projektu do promotora za pośrednictwem wybranej platformy (Microsoft Drive, Google Drive, GitHub)."
   ]
  }
 ],
 "metadata": {
  "language_info": {
   "codemirror_mode": {
    "name": "ipython",
    "version": 3
   },
   "file_extension": ".py",
   "mimetype": "text/x-python",
   "name": "python",
   "nbconvert_exporter": "python",
   "pygments_lexer": "ipython3",
   "version": "3.9.1"
  }
 },
 "nbformat": 4,
 "nbformat_minor": 2
}
