{
 "cells": [
  {
   "cell_type": "markdown",
   "metadata": {},
   "source": [
    "### Okreselnie celu i Wymagan Projektu"
   ]
  },
  {
   "cell_type": "markdown",
   "metadata": {},
   "source": [
    "wypisac i uzuplenic z OneNote\n"
   ]
  },
  {
   "cell_type": "markdown",
   "metadata": {},
   "source": [
    "## Etapy procesu Data Science:\n",
    "\n",
    "0. Zdefiniowanie problemu,\n",
    "1. Zebranie surowych danych,\n",
    "2. Przetwarzanie i czyszczenie danych,\n",
    "3. Eksploracja danych,\n",
    "4. Pogłębiona analiza danych,\n",
    "5. Komunikacja wyników."
   ]
  },
  {
   "cell_type": "markdown",
   "metadata": {},
   "source": [
    "## Etapy procesu Machine Learning:\n",
    "\n",
    "10. XXX\n",
    "11. XXX\n",
    "12. XXX"
   ]
  }
 ],
 "metadata": {
  "language_info": {
   "name": "python"
  }
 },
 "nbformat": 4,
 "nbformat_minor": 2
}
