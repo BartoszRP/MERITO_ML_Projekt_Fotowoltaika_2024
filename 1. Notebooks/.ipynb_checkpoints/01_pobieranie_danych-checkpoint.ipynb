{
 "cells": [
  {
   "cell_type": "code",
   "execution_count": 3,
   "id": "R2dTMT4GcBO3",
   "metadata": {
    "colab": {
     "base_uri": "https://localhost:8080/"
    },
    "executionInfo": {
     "elapsed": 1966,
     "status": "ok",
     "timestamp": 1708716528181,
     "user": {
      "displayName": "Bartosz Reszka-Piwowarski",
      "userId": "06991531007012083325"
     },
     "user_tz": -60
    },
    "id": "R2dTMT4GcBO3",
    "outputId": "10b46bd2-bfd0-4f11-8a01-7ba525ac0584"
   },
   "outputs": [
    {
     "name": "stdout",
     "output_type": "stream",
     "text": [
      "Drive already mounted at /content/drive; to attempt to forcibly remount, call drive.mount(\"/content/drive\", force_remount=True).\n"
     ]
    }
   ],
   "source": [
    "from google.colab import drive\n",
    "drive.mount('/content/drive')"
   ]
  },
  {
   "cell_type": "code",
   "execution_count": null,
   "id": "0ed7b6b1",
   "metadata": {
    "id": "0ed7b6b1",
    "outputId": "fcc62db1-dc29-457a-ff79-bd72b89ac681"
   },
   "outputs": [
    {
     "name": "stdout",
     "output_type": "stream",
     "text": [
      "Hello Wordl!\n"
     ]
    }
   ],
   "source": [
    "print(\"Hello Wordl!\")"
   ]
  },
  {
   "cell_type": "markdown",
   "id": "v9ayekw5b4Ou",
   "metadata": {
    "id": "v9ayekw5b4Ou"
   },
   "source": [
    "### Test"
   ]
  },
  {
   "cell_type": "code",
   "execution_count": 1,
   "id": "tVzIgJd4b7Gs",
   "metadata": {
    "colab": {
     "base_uri": "https://localhost:8080/"
    },
    "executionInfo": {
     "elapsed": 4,
     "status": "ok",
     "timestamp": 1708716455685,
     "user": {
      "displayName": "Bartosz Reszka-Piwowarski",
      "userId": "06991531007012083325"
     },
     "user_tz": -60
    },
    "id": "tVzIgJd4b7Gs",
    "outputId": "348f1b53-d5d9-4f61-d376-0b592acee955"
   },
   "outputs": [
    {
     "name": "stdout",
     "output_type": "stream",
     "text": [
      "test\n"
     ]
    }
   ],
   "source": [
    "print(\"test\")"
   ]
  }
 ],
 "metadata": {
  "colab": {
   "provenance": []
  },
  "kernelspec": {
   "display_name": "Python 3 (ipykernel)",
   "language": "python",
   "name": "python3"
  },
  "language_info": {
   "codemirror_mode": {
    "name": "ipython",
    "version": 3
   },
   "file_extension": ".py",
   "mimetype": "text/x-python",
   "name": "python",
   "nbconvert_exporter": "python",
   "pygments_lexer": "ipython3",
   "version": "3.9.13"
  }
 },
 "nbformat": 4,
 "nbformat_minor": 5
}
