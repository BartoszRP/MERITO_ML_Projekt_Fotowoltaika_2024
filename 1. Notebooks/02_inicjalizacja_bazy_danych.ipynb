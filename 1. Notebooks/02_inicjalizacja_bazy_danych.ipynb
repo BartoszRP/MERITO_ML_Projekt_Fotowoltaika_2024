{
 "cells": [
  {
   "cell_type": "markdown",
   "metadata": {},
   "source": [
    "#### Wstęp do Użycia SQLite w Analizie Danych\n",
    "W dzisiejszych czasach danych jest więcej niż kiedykolwiek, a ich rola w podejmowaniu decyzji biznesowych i naukowych jest nie do przecenienia. Jednak zarządzanie i analiza tych danych wymaga odpowiednich narzędzi. SQLite, jako lekka baza danych, doskonale nadaje się do tego zadania, szczególnie gdy praca odbywa się w środowisku deweloperskim lub testowym, gdzie pełnowymiarowe systemy baz danych mogą być niepraktyczne.\n",
    "\n",
    "SQLite to biblioteka w języku C, która dostarcza lekki dyskowy system baz danych. Pozwala na dostęp do bazy danych bez konieczności konfiguracji serwera czy wykonywania złożonych procedur instalacyjnych, co czyni ją idealnym wyborem dla indywidualnych deweloperów, małych projektów, a także aplikacji mobilnych i desktopowych.\n",
    "\n",
    "#### Główne zalety SQLite:\n",
    "\n",
    "- **Samowystarczalność**: SQLite jest samodzielnym systemem baz danych, który nie wymaga serwera bazy danych, co oznacza mniej konfiguracji i prostszą administrację.\n",
    "- **Zero konfiguracji**: Nie wymaga od użytkownika konfigurowania. Po prostu jest gotowa do użycia.\n",
    "- **Przenośność**: Baza danych SQLite jest przechowywana w jednym pliku na dysku, co ułatwia zarządzanie danymi i ich przenoszenie.\n",
    "- **Niewielki rozmiar**: Jest bardzo lekka i nie obciąża zasobów systemu, co jest ważne w środowiskach z ograniczonymi zasobami.\n",
    "- **Transakcyjność**: SQLite obsługuje transakcje ACID, co gwarantuje, że wszystkie operacje na bazie są wykonane poprawnie lub w przypadku błędu nie zostaną wykonane wcale.\n",
    "- **Dynamiczne typowanie**: SQLite stosuje dynamiczne typowanie, co oznacza, że typ danych kolumny może zmieniać się w zależności od wstawionych danych. Pozwala to na większą elastyczność, ale wymaga również większej uwagi podczas wstawiania danych.\n",
    "\n",
    "#### Inne popularne bazy danych SQL:\n",
    "\n",
    "1. **MySQL**:\n",
    "   - **Zalety**:\n",
    "     - Popularność i szerokie wsparcie społeczności.\n",
    "     - Wysoka wydajność i skalowalność.\n",
    "     - Otwarty kod źródłowy z opcją komercyjnego wsparcia (np. przez Oracle).\n",
    "   - **Wady**:\n",
    "     - Wymaga konfiguracji serwera.\n",
    "     - Może być bardziej skomplikowana w zarządzaniu w porównaniu do SQLite.\n",
    "\n",
    "2. **PostgreSQL**:\n",
    "   - **Zalety**:\n",
    "     - Bardzo zaawansowane funkcje, wsparcie dla skomplikowanych zapytań i operacji.\n",
    "     - Wysoka wydajność i skalowalność.\n",
    "     - Otwarty kod źródłowy z silnym wsparciem społeczności.\n",
    "   - **Wady**:\n",
    "     - Wymaga konfiguracji serwera.\n",
    "     - Może być bardziej zasobożerna w porównaniu do SQLite.\n",
    "\n",
    "3. **Microsoft SQL Server**:\n",
    "   - **Zalety**:\n",
    "     - Mocna integracja z ekosystemem Microsoft.\n",
    "     - Zaawansowane funkcje analizy danych i BI.\n",
    "     - Wsparcie techniczne i regularne aktualizacje.\n",
    "   - **Wady**:\n",
    "     - Wysokie koszty licencji.\n",
    "     - Wymaga konfiguracji serwera.\n",
    "\n",
    "4. **Oracle Database**:\n",
    "   - **Zalety**:\n",
    "     - Bardzo skalowalna i niezawodna baza danych.\n",
    "     - Szeroki zakres zaawansowanych funkcji.\n",
    "     - Mocne wsparcie techniczne.\n",
    "   - **Wady**:\n",
    "     - Wysokie koszty licencji.\n",
    "     - Bardzo złożona w konfiguracji i zarządzaniu.\n",
    "\n",
    "#### Dlaczego użyliśmy SQLite w naszym projekcie?\n",
    "\n",
    "W naszym projekcie, wykorzystujemy SQLite do przechowywania, zarządzania i analizowania danych związanych z instalacjami fotowoltaicznymi. Wybraliśmy SQLite z kilku powodów:\n",
    "\n",
    "- **Lekkość i prostota**: SQLite nie wymaga konfiguracji serwera, co znacznie uprościło proces wdrożenia.\n",
    "- **Przenośność**: Możliwość przechowywania bazy danych w jednym pliku ułatwiła zarządzanie i przenoszenie danych między różnymi środowiskami.\n",
    "- **Wydajność w małych projektach**: W naszym przypadku, ilość danych i wymagania dotyczące ich przetwarzania idealnie pasują do możliwości SQLite.\n",
    "- **Brak potrzeby zaawansowanych funkcji**: Nasz projekt nie wymagał zaawansowanych funkcji, które oferują większe systemy baz danych, takie jak PostgreSQL czy Oracle.\n",
    "\n",
    "SQLite zapewniła nam elastyczność i wydajność, nie obciążając przy tym zasobów systemowych, co było kluczowe w realizacji naszego projektu.\n"
   ]
  },
  {
   "cell_type": "code",
   "execution_count": 1,
   "metadata": {
    "execution": {
     "iopub.execute_input": "2024-05-14T11:31:11.130354Z",
     "iopub.status.busy": "2024-05-14T11:31:11.129356Z",
     "iopub.status.idle": "2024-05-14T11:31:12.053696Z",
     "shell.execute_reply": "2024-05-14T11:31:12.054697Z"
    }
   },
   "outputs": [],
   "source": [
    "# Importujemy moduł sqlite3 do pracy z bazą danych SQLite\n",
    "import sqlite3\n",
    "\n",
    "# Importujemy pandas do manipulacji i analizy danych\n",
    "import pandas as pd\n",
    "\n",
    "# Importujemy create_engine i text z SQLAlchemy do zarządzania połączeniami bazodanowymi\n",
    "from sqlalchemy import create_engine, text"
   ]
  },
  {
   "cell_type": "code",
   "execution_count": 2,
   "metadata": {
    "execution": {
     "iopub.execute_input": "2024-05-14T11:31:12.059683Z",
     "iopub.status.busy": "2024-05-14T11:31:12.059683Z",
     "iopub.status.idle": "2024-05-14T11:31:12.068830Z",
     "shell.execute_reply": "2024-05-14T11:31:12.068830Z"
    }
   },
   "outputs": [],
   "source": [
    "# Ścieżka do przetworzonego pliku danych\n",
    "csv_file_path = '../2. Data/processed/combined_data_processed.csv'"
   ]
  },
  {
   "cell_type": "code",
   "execution_count": 3,
   "metadata": {},
   "outputs": [],
   "source": [
    "df_weather = pd.read_csv('../2. Data/processed/combined_data_processed.csv')"
   ]
  },
  {
   "cell_type": "code",
   "execution_count": 4,
   "metadata": {},
   "outputs": [
    {
     "data": {
      "text/html": [
       "<div>\n",
       "<style scoped>\n",
       "    .dataframe tbody tr th:only-of-type {\n",
       "        vertical-align: middle;\n",
       "    }\n",
       "\n",
       "    .dataframe tbody tr th {\n",
       "        vertical-align: top;\n",
       "    }\n",
       "\n",
       "    .dataframe thead th {\n",
       "        text-align: right;\n",
       "    }\n",
       "</style>\n",
       "<table border=\"1\" class=\"dataframe\">\n",
       "  <thead>\n",
       "    <tr style=\"text-align: right;\">\n",
       "      <th></th>\n",
       "      <th>Unnamed: 0</th>\n",
       "      <th>date</th>\n",
       "      <th>city_name</th>\n",
       "      <th>lat</th>\n",
       "      <th>lon</th>\n",
       "      <th>temp</th>\n",
       "      <th>feels_like</th>\n",
       "      <th>temp_min</th>\n",
       "      <th>temp_max</th>\n",
       "      <th>pressure</th>\n",
       "      <th>humidity</th>\n",
       "      <th>wind_speed</th>\n",
       "      <th>clouds_all</th>\n",
       "      <th>weather_main</th>\n",
       "    </tr>\n",
       "  </thead>\n",
       "  <tbody>\n",
       "    <tr>\n",
       "      <th>0</th>\n",
       "      <td>0</td>\n",
       "      <td>1979-01-01</td>\n",
       "      <td>Baden_Baden</td>\n",
       "      <td>48.765640</td>\n",
       "      <td>8.228524</td>\n",
       "      <td>-10.442083</td>\n",
       "      <td>-16.532917</td>\n",
       "      <td>-16.18</td>\n",
       "      <td>3.02</td>\n",
       "      <td>1013.666667</td>\n",
       "      <td>81.916667</td>\n",
       "      <td>3.681667</td>\n",
       "      <td>84.500000</td>\n",
       "      <td>Cloudy</td>\n",
       "    </tr>\n",
       "    <tr>\n",
       "      <th>1</th>\n",
       "      <td>1</td>\n",
       "      <td>1979-01-01</td>\n",
       "      <td>Bozanska</td>\n",
       "      <td>54.473028</td>\n",
       "      <td>18.302179</td>\n",
       "      <td>-14.100000</td>\n",
       "      <td>-20.617500</td>\n",
       "      <td>-19.14</td>\n",
       "      <td>-9.46</td>\n",
       "      <td>1002.416667</td>\n",
       "      <td>82.000000</td>\n",
       "      <td>6.157917</td>\n",
       "      <td>100.000000</td>\n",
       "      <td>Cloudy</td>\n",
       "    </tr>\n",
       "    <tr>\n",
       "      <th>2</th>\n",
       "      <td>2</td>\n",
       "      <td>1979-01-01</td>\n",
       "      <td>Walcz_Drugi</td>\n",
       "      <td>53.257039</td>\n",
       "      <td>16.521203</td>\n",
       "      <td>-16.437083</td>\n",
       "      <td>-23.322500</td>\n",
       "      <td>-21.26</td>\n",
       "      <td>-9.57</td>\n",
       "      <td>1003.708333</td>\n",
       "      <td>82.416667</td>\n",
       "      <td>3.682083</td>\n",
       "      <td>94.791667</td>\n",
       "      <td>Cloudy</td>\n",
       "    </tr>\n",
       "    <tr>\n",
       "      <th>3</th>\n",
       "      <td>3</td>\n",
       "      <td>1979-01-02</td>\n",
       "      <td>Baden_Baden</td>\n",
       "      <td>48.765640</td>\n",
       "      <td>8.228524</td>\n",
       "      <td>-8.856667</td>\n",
       "      <td>-14.874167</td>\n",
       "      <td>-15.82</td>\n",
       "      <td>-3.96</td>\n",
       "      <td>1024.250000</td>\n",
       "      <td>84.208333</td>\n",
       "      <td>4.524583</td>\n",
       "      <td>71.708333</td>\n",
       "      <td>Snow</td>\n",
       "    </tr>\n",
       "    <tr>\n",
       "      <th>4</th>\n",
       "      <td>4</td>\n",
       "      <td>1979-01-02</td>\n",
       "      <td>Bozanska</td>\n",
       "      <td>54.473028</td>\n",
       "      <td>18.302179</td>\n",
       "      <td>-9.037917</td>\n",
       "      <td>-15.179167</td>\n",
       "      <td>-14.14</td>\n",
       "      <td>-7.40</td>\n",
       "      <td>1004.791667</td>\n",
       "      <td>85.375000</td>\n",
       "      <td>4.449583</td>\n",
       "      <td>99.541667</td>\n",
       "      <td>Cloudy</td>\n",
       "    </tr>\n",
       "  </tbody>\n",
       "</table>\n",
       "</div>"
      ],
      "text/plain": [
       "   Unnamed: 0        date    city_name        lat        lon       temp  \\\n",
       "0           0  1979-01-01  Baden_Baden  48.765640   8.228524 -10.442083   \n",
       "1           1  1979-01-01     Bozanska  54.473028  18.302179 -14.100000   \n",
       "2           2  1979-01-01  Walcz_Drugi  53.257039  16.521203 -16.437083   \n",
       "3           3  1979-01-02  Baden_Baden  48.765640   8.228524  -8.856667   \n",
       "4           4  1979-01-02     Bozanska  54.473028  18.302179  -9.037917   \n",
       "\n",
       "   feels_like  temp_min  temp_max     pressure   humidity  wind_speed  \\\n",
       "0  -16.532917    -16.18      3.02  1013.666667  81.916667    3.681667   \n",
       "1  -20.617500    -19.14     -9.46  1002.416667  82.000000    6.157917   \n",
       "2  -23.322500    -21.26     -9.57  1003.708333  82.416667    3.682083   \n",
       "3  -14.874167    -15.82     -3.96  1024.250000  84.208333    4.524583   \n",
       "4  -15.179167    -14.14     -7.40  1004.791667  85.375000    4.449583   \n",
       "\n",
       "   clouds_all weather_main  \n",
       "0   84.500000       Cloudy  \n",
       "1  100.000000       Cloudy  \n",
       "2   94.791667       Cloudy  \n",
       "3   71.708333         Snow  \n",
       "4   99.541667       Cloudy  "
      ]
     },
     "execution_count": 4,
     "metadata": {},
     "output_type": "execute_result"
    }
   ],
   "source": [
    "df_weather.head()"
   ]
  },
  {
   "cell_type": "code",
   "execution_count": 5,
   "metadata": {
    "execution": {
     "iopub.execute_input": "2024-05-14T11:31:12.073902Z",
     "iopub.status.busy": "2024-05-14T11:31:12.073902Z",
     "iopub.status.idle": "2024-05-14T11:31:12.084165Z",
     "shell.execute_reply": "2024-05-14T11:31:12.084165Z"
    }
   },
   "outputs": [],
   "source": [
    "# Ścieżka do pliku bazy danych SQLite\n",
    "sqlite_db_path = r'../5. Baza_Danych/projekt_fotowoltaika_2024.db'"
   ]
  },
  {
   "cell_type": "code",
   "execution_count": 11,
   "metadata": {
    "execution": {
     "iopub.execute_input": "2024-05-14T11:31:12.090112Z",
     "iopub.status.busy": "2024-05-14T11:31:12.087119Z",
     "iopub.status.idle": "2024-05-14T11:31:12.116052Z",
     "shell.execute_reply": "2024-05-14T11:31:12.116052Z"
    }
   },
   "outputs": [],
   "source": [
    "# Tworzenie połączenia z bazą danych SQLite za pomocą SQLAlchemy\n",
    "engine = create_engine(f'sqlite:///{sqlite_db_path}')"
   ]
  },
  {
   "cell_type": "code",
   "execution_count": 12,
   "metadata": {},
   "outputs": [],
   "source": [
    "# Usunięcie istniejącej tabeli (jeśli istnieje) i stworzenie nowej\n",
    "with engine.connect() as con:\n",
    "    # Wykonanie zapytania SQL do usunięcia tabeli\n",
    "    con.execute(text('DROP TABLE IF EXISTS projekt_fotowoltaika_2024'))"
   ]
  },
  {
   "cell_type": "code",
   "execution_count": 13,
   "metadata": {
    "execution": {
     "iopub.execute_input": "2024-05-14T11:31:13.101137Z",
     "iopub.status.busy": "2024-05-14T11:31:13.101137Z",
     "iopub.status.idle": "2024-05-14T11:31:13.112265Z",
     "shell.execute_reply": "2024-05-14T11:31:13.112265Z"
    }
   },
   "outputs": [
    {
     "name": "stdout",
     "output_type": "stream",
     "text": [
      "Lista tabel: []\n"
     ]
    }
   ],
   "source": [
    "# Sprawdzenie bazy danych\n",
    "\n",
    "# Zapytanie o listę tabel w bazie danych\n",
    "with engine.connect() as con:\n",
    "    # Wykonanie zapytania SQL do pobrania listy tabel w bazie danych\n",
    "    tables_list = con.execute(text(\"SELECT name FROM sqlite_master WHERE type='table';\")).fetchall()\n",
    "    # Wyświetlenie listy tabel\n",
    "    print('Lista tabel:', tables_list)"
   ]
  },
  {
   "cell_type": "code",
   "execution_count": 14,
   "metadata": {
    "execution": {
     "iopub.execute_input": "2024-05-14T11:31:13.119248Z",
     "iopub.status.busy": "2024-05-14T11:31:13.117253Z",
     "iopub.status.idle": "2024-05-14T11:31:13.144011Z",
     "shell.execute_reply": "2024-05-14T11:31:13.144011Z"
    }
   },
   "outputs": [
    {
     "ename": "OperationalError",
     "evalue": "(sqlite3.OperationalError) no such table: projekt_fotowoltaika_2024\n[SQL: SELECT * FROM projekt_fotowoltaika_2024 LIMIT 5;]\n(Background on this error at: https://sqlalche.me/e/20/e3q8)",
     "output_type": "error",
     "traceback": [
      "\u001b[1;31m---------------------------------------------------------------------------\u001b[0m",
      "\u001b[1;31mOperationalError\u001b[0m                          Traceback (most recent call last)",
      "\u001b[1;32mc:\\Users\\reszbart\\AppData\\Local\\Programs\\Python\\Python39\\lib\\site-packages\\sqlalchemy\\engine\\base.py\u001b[0m in \u001b[0;36m_exec_single_context\u001b[1;34m(self, dialect, context, statement, parameters)\u001b[0m\n\u001b[0;32m   1970\u001b[0m                 \u001b[1;32mif\u001b[0m \u001b[1;32mnot\u001b[0m \u001b[0mevt_handled\u001b[0m\u001b[1;33m:\u001b[0m\u001b[1;33m\u001b[0m\u001b[1;33m\u001b[0m\u001b[0m\n\u001b[1;32m-> 1971\u001b[1;33m                     self.dialect.do_execute(\n\u001b[0m\u001b[0;32m   1972\u001b[0m                         \u001b[0mcursor\u001b[0m\u001b[1;33m,\u001b[0m \u001b[0mstr_statement\u001b[0m\u001b[1;33m,\u001b[0m \u001b[0meffective_parameters\u001b[0m\u001b[1;33m,\u001b[0m \u001b[0mcontext\u001b[0m\u001b[1;33m\u001b[0m\u001b[1;33m\u001b[0m\u001b[0m\n",
      "\u001b[1;32mc:\\Users\\reszbart\\AppData\\Local\\Programs\\Python\\Python39\\lib\\site-packages\\sqlalchemy\\engine\\default.py\u001b[0m in \u001b[0;36mdo_execute\u001b[1;34m(self, cursor, statement, parameters, context)\u001b[0m\n\u001b[0;32m    918\u001b[0m     \u001b[1;32mdef\u001b[0m \u001b[0mdo_execute\u001b[0m\u001b[1;33m(\u001b[0m\u001b[0mself\u001b[0m\u001b[1;33m,\u001b[0m \u001b[0mcursor\u001b[0m\u001b[1;33m,\u001b[0m \u001b[0mstatement\u001b[0m\u001b[1;33m,\u001b[0m \u001b[0mparameters\u001b[0m\u001b[1;33m,\u001b[0m \u001b[0mcontext\u001b[0m\u001b[1;33m=\u001b[0m\u001b[1;32mNone\u001b[0m\u001b[1;33m)\u001b[0m\u001b[1;33m:\u001b[0m\u001b[1;33m\u001b[0m\u001b[1;33m\u001b[0m\u001b[0m\n\u001b[1;32m--> 919\u001b[1;33m         \u001b[0mcursor\u001b[0m\u001b[1;33m.\u001b[0m\u001b[0mexecute\u001b[0m\u001b[1;33m(\u001b[0m\u001b[0mstatement\u001b[0m\u001b[1;33m,\u001b[0m \u001b[0mparameters\u001b[0m\u001b[1;33m)\u001b[0m\u001b[1;33m\u001b[0m\u001b[1;33m\u001b[0m\u001b[0m\n\u001b[0m\u001b[0;32m    920\u001b[0m \u001b[1;33m\u001b[0m\u001b[0m\n",
      "\u001b[1;31mOperationalError\u001b[0m: no such table: projekt_fotowoltaika_2024",
      "\nThe above exception was the direct cause of the following exception:\n",
      "\u001b[1;31mOperationalError\u001b[0m                          Traceback (most recent call last)",
      "\u001b[1;32m~\\AppData\\Local\\Temp/ipykernel_26360/3377065874.py\u001b[0m in \u001b[0;36m<module>\u001b[1;34m\u001b[0m\n\u001b[0;32m      4\u001b[0m     \u001b[0mquery\u001b[0m \u001b[1;33m=\u001b[0m \u001b[0mtext\u001b[0m\u001b[1;33m(\u001b[0m\u001b[1;34m\"SELECT * FROM projekt_fotowoltaika_2024 LIMIT 5;\"\u001b[0m\u001b[1;33m)\u001b[0m\u001b[1;33m\u001b[0m\u001b[1;33m\u001b[0m\u001b[0m\n\u001b[0;32m      5\u001b[0m     \u001b[1;31m# Wykonanie zapytania i załadowanie wyników do DataFrame\u001b[0m\u001b[1;33m\u001b[0m\u001b[1;33m\u001b[0m\u001b[1;33m\u001b[0m\u001b[0m\n\u001b[1;32m----> 6\u001b[1;33m     \u001b[0mexample_data\u001b[0m \u001b[1;33m=\u001b[0m \u001b[0mpd\u001b[0m\u001b[1;33m.\u001b[0m\u001b[0mread_sql\u001b[0m\u001b[1;33m(\u001b[0m\u001b[0mquery\u001b[0m\u001b[1;33m,\u001b[0m \u001b[0mcon\u001b[0m\u001b[1;33m)\u001b[0m\u001b[1;33m\u001b[0m\u001b[1;33m\u001b[0m\u001b[0m\n\u001b[0m\u001b[0;32m      7\u001b[0m \u001b[1;33m\u001b[0m\u001b[0m\n\u001b[0;32m      8\u001b[0m \u001b[1;31m# Wyświetlenie pierwszych rekordów w tabeli projekt_fotowoltaika_2024\u001b[0m\u001b[1;33m\u001b[0m\u001b[1;33m\u001b[0m\u001b[1;33m\u001b[0m\u001b[0m\n",
      "\u001b[1;32mc:\\Users\\reszbart\\AppData\\Local\\Programs\\Python\\Python39\\lib\\site-packages\\pandas\\io\\sql.py\u001b[0m in \u001b[0;36mread_sql\u001b[1;34m(sql, con, index_col, coerce_float, params, parse_dates, columns, chunksize)\u001b[0m\n\u001b[0;32m    590\u001b[0m         )\n\u001b[0;32m    591\u001b[0m     \u001b[1;32melse\u001b[0m\u001b[1;33m:\u001b[0m\u001b[1;33m\u001b[0m\u001b[1;33m\u001b[0m\u001b[0m\n\u001b[1;32m--> 592\u001b[1;33m         return pandas_sql.read_query(\n\u001b[0m\u001b[0;32m    593\u001b[0m             \u001b[0msql\u001b[0m\u001b[1;33m,\u001b[0m\u001b[1;33m\u001b[0m\u001b[1;33m\u001b[0m\u001b[0m\n\u001b[0;32m    594\u001b[0m             \u001b[0mindex_col\u001b[0m\u001b[1;33m=\u001b[0m\u001b[0mindex_col\u001b[0m\u001b[1;33m,\u001b[0m\u001b[1;33m\u001b[0m\u001b[1;33m\u001b[0m\u001b[0m\n",
      "\u001b[1;32mc:\\Users\\reszbart\\AppData\\Local\\Programs\\Python\\Python39\\lib\\site-packages\\pandas\\io\\sql.py\u001b[0m in \u001b[0;36mread_query\u001b[1;34m(self, sql, index_col, coerce_float, parse_dates, params, chunksize, dtype)\u001b[0m\n\u001b[0;32m   1555\u001b[0m         \u001b[0margs\u001b[0m \u001b[1;33m=\u001b[0m \u001b[0m_convert_params\u001b[0m\u001b[1;33m(\u001b[0m\u001b[0msql\u001b[0m\u001b[1;33m,\u001b[0m \u001b[0mparams\u001b[0m\u001b[1;33m)\u001b[0m\u001b[1;33m\u001b[0m\u001b[1;33m\u001b[0m\u001b[0m\n\u001b[0;32m   1556\u001b[0m \u001b[1;33m\u001b[0m\u001b[0m\n\u001b[1;32m-> 1557\u001b[1;33m         \u001b[0mresult\u001b[0m \u001b[1;33m=\u001b[0m \u001b[0mself\u001b[0m\u001b[1;33m.\u001b[0m\u001b[0mexecute\u001b[0m\u001b[1;33m(\u001b[0m\u001b[1;33m*\u001b[0m\u001b[0margs\u001b[0m\u001b[1;33m)\u001b[0m\u001b[1;33m\u001b[0m\u001b[1;33m\u001b[0m\u001b[0m\n\u001b[0m\u001b[0;32m   1558\u001b[0m         \u001b[0mcolumns\u001b[0m \u001b[1;33m=\u001b[0m \u001b[0mresult\u001b[0m\u001b[1;33m.\u001b[0m\u001b[0mkeys\u001b[0m\u001b[1;33m(\u001b[0m\u001b[1;33m)\u001b[0m\u001b[1;33m\u001b[0m\u001b[1;33m\u001b[0m\u001b[0m\n\u001b[0;32m   1559\u001b[0m \u001b[1;33m\u001b[0m\u001b[0m\n",
      "\u001b[1;32mc:\\Users\\reszbart\\AppData\\Local\\Programs\\Python\\Python39\\lib\\site-packages\\pandas\\io\\sql.py\u001b[0m in \u001b[0;36mexecute\u001b[1;34m(self, *args, **kwargs)\u001b[0m\n\u001b[0;32m   1400\u001b[0m     \u001b[1;32mdef\u001b[0m \u001b[0mexecute\u001b[0m\u001b[1;33m(\u001b[0m\u001b[0mself\u001b[0m\u001b[1;33m,\u001b[0m \u001b[1;33m*\u001b[0m\u001b[0margs\u001b[0m\u001b[1;33m,\u001b[0m \u001b[1;33m**\u001b[0m\u001b[0mkwargs\u001b[0m\u001b[1;33m)\u001b[0m\u001b[1;33m:\u001b[0m\u001b[1;33m\u001b[0m\u001b[1;33m\u001b[0m\u001b[0m\n\u001b[0;32m   1401\u001b[0m         \u001b[1;34m\"\"\"Simple passthrough to SQLAlchemy connectable\"\"\"\u001b[0m\u001b[1;33m\u001b[0m\u001b[1;33m\u001b[0m\u001b[0m\n\u001b[1;32m-> 1402\u001b[1;33m         \u001b[1;32mreturn\u001b[0m \u001b[0mself\u001b[0m\u001b[1;33m.\u001b[0m\u001b[0mconnectable\u001b[0m\u001b[1;33m.\u001b[0m\u001b[0mexecution_options\u001b[0m\u001b[1;33m(\u001b[0m\u001b[1;33m)\u001b[0m\u001b[1;33m.\u001b[0m\u001b[0mexecute\u001b[0m\u001b[1;33m(\u001b[0m\u001b[1;33m*\u001b[0m\u001b[0margs\u001b[0m\u001b[1;33m,\u001b[0m \u001b[1;33m**\u001b[0m\u001b[0mkwargs\u001b[0m\u001b[1;33m)\u001b[0m\u001b[1;33m\u001b[0m\u001b[1;33m\u001b[0m\u001b[0m\n\u001b[0m\u001b[0;32m   1403\u001b[0m \u001b[1;33m\u001b[0m\u001b[0m\n\u001b[0;32m   1404\u001b[0m     def read_table(\n",
      "\u001b[1;32mc:\\Users\\reszbart\\AppData\\Local\\Programs\\Python\\Python39\\lib\\site-packages\\sqlalchemy\\engine\\base.py\u001b[0m in \u001b[0;36mexecute\u001b[1;34m(self, statement, parameters, execution_options)\u001b[0m\n\u001b[0;32m   1420\u001b[0m             \u001b[1;32mraise\u001b[0m \u001b[0mexc\u001b[0m\u001b[1;33m.\u001b[0m\u001b[0mObjectNotExecutableError\u001b[0m\u001b[1;33m(\u001b[0m\u001b[0mstatement\u001b[0m\u001b[1;33m)\u001b[0m \u001b[1;32mfrom\u001b[0m \u001b[0merr\u001b[0m\u001b[1;33m\u001b[0m\u001b[1;33m\u001b[0m\u001b[0m\n\u001b[0;32m   1421\u001b[0m         \u001b[1;32melse\u001b[0m\u001b[1;33m:\u001b[0m\u001b[1;33m\u001b[0m\u001b[1;33m\u001b[0m\u001b[0m\n\u001b[1;32m-> 1422\u001b[1;33m             return meth(\n\u001b[0m\u001b[0;32m   1423\u001b[0m                 \u001b[0mself\u001b[0m\u001b[1;33m,\u001b[0m\u001b[1;33m\u001b[0m\u001b[1;33m\u001b[0m\u001b[0m\n\u001b[0;32m   1424\u001b[0m                 \u001b[0mdistilled_parameters\u001b[0m\u001b[1;33m,\u001b[0m\u001b[1;33m\u001b[0m\u001b[1;33m\u001b[0m\u001b[0m\n",
      "\u001b[1;32mc:\\Users\\reszbart\\AppData\\Local\\Programs\\Python\\Python39\\lib\\site-packages\\sqlalchemy\\sql\\elements.py\u001b[0m in \u001b[0;36m_execute_on_connection\u001b[1;34m(self, connection, distilled_params, execution_options)\u001b[0m\n\u001b[0;32m    512\u001b[0m             \u001b[1;32mif\u001b[0m \u001b[0mTYPE_CHECKING\u001b[0m\u001b[1;33m:\u001b[0m\u001b[1;33m\u001b[0m\u001b[1;33m\u001b[0m\u001b[0m\n\u001b[0;32m    513\u001b[0m                 \u001b[1;32massert\u001b[0m \u001b[0misinstance\u001b[0m\u001b[1;33m(\u001b[0m\u001b[0mself\u001b[0m\u001b[1;33m,\u001b[0m \u001b[0mExecutable\u001b[0m\u001b[1;33m)\u001b[0m\u001b[1;33m\u001b[0m\u001b[1;33m\u001b[0m\u001b[0m\n\u001b[1;32m--> 514\u001b[1;33m             return connection._execute_clauseelement(\n\u001b[0m\u001b[0;32m    515\u001b[0m                 \u001b[0mself\u001b[0m\u001b[1;33m,\u001b[0m \u001b[0mdistilled_params\u001b[0m\u001b[1;33m,\u001b[0m \u001b[0mexecution_options\u001b[0m\u001b[1;33m\u001b[0m\u001b[1;33m\u001b[0m\u001b[0m\n\u001b[0;32m    516\u001b[0m             )\n",
      "\u001b[1;32mc:\\Users\\reszbart\\AppData\\Local\\Programs\\Python\\Python39\\lib\\site-packages\\sqlalchemy\\engine\\base.py\u001b[0m in \u001b[0;36m_execute_clauseelement\u001b[1;34m(self, elem, distilled_parameters, execution_options)\u001b[0m\n\u001b[0;32m   1642\u001b[0m             \u001b[0mlinting\u001b[0m\u001b[1;33m=\u001b[0m\u001b[0mself\u001b[0m\u001b[1;33m.\u001b[0m\u001b[0mdialect\u001b[0m\u001b[1;33m.\u001b[0m\u001b[0mcompiler_linting\u001b[0m \u001b[1;33m|\u001b[0m \u001b[0mcompiler\u001b[0m\u001b[1;33m.\u001b[0m\u001b[0mWARN_LINTING\u001b[0m\u001b[1;33m,\u001b[0m\u001b[1;33m\u001b[0m\u001b[1;33m\u001b[0m\u001b[0m\n\u001b[0;32m   1643\u001b[0m         )\n\u001b[1;32m-> 1644\u001b[1;33m         ret = self._execute_context(\n\u001b[0m\u001b[0;32m   1645\u001b[0m             \u001b[0mdialect\u001b[0m\u001b[1;33m,\u001b[0m\u001b[1;33m\u001b[0m\u001b[1;33m\u001b[0m\u001b[0m\n\u001b[0;32m   1646\u001b[0m             \u001b[0mdialect\u001b[0m\u001b[1;33m.\u001b[0m\u001b[0mexecution_ctx_cls\u001b[0m\u001b[1;33m.\u001b[0m\u001b[0m_init_compiled\u001b[0m\u001b[1;33m,\u001b[0m\u001b[1;33m\u001b[0m\u001b[1;33m\u001b[0m\u001b[0m\n",
      "\u001b[1;32mc:\\Users\\reszbart\\AppData\\Local\\Programs\\Python\\Python39\\lib\\site-packages\\sqlalchemy\\engine\\base.py\u001b[0m in \u001b[0;36m_execute_context\u001b[1;34m(self, dialect, constructor, statement, parameters, execution_options, *args, **kw)\u001b[0m\n\u001b[0;32m   1848\u001b[0m             \u001b[1;32mreturn\u001b[0m \u001b[0mself\u001b[0m\u001b[1;33m.\u001b[0m\u001b[0m_exec_insertmany_context\u001b[0m\u001b[1;33m(\u001b[0m\u001b[0mdialect\u001b[0m\u001b[1;33m,\u001b[0m \u001b[0mcontext\u001b[0m\u001b[1;33m)\u001b[0m\u001b[1;33m\u001b[0m\u001b[1;33m\u001b[0m\u001b[0m\n\u001b[0;32m   1849\u001b[0m         \u001b[1;32melse\u001b[0m\u001b[1;33m:\u001b[0m\u001b[1;33m\u001b[0m\u001b[1;33m\u001b[0m\u001b[0m\n\u001b[1;32m-> 1850\u001b[1;33m             return self._exec_single_context(\n\u001b[0m\u001b[0;32m   1851\u001b[0m                 \u001b[0mdialect\u001b[0m\u001b[1;33m,\u001b[0m \u001b[0mcontext\u001b[0m\u001b[1;33m,\u001b[0m \u001b[0mstatement\u001b[0m\u001b[1;33m,\u001b[0m \u001b[0mparameters\u001b[0m\u001b[1;33m\u001b[0m\u001b[1;33m\u001b[0m\u001b[0m\n\u001b[0;32m   1852\u001b[0m             )\n",
      "\u001b[1;32mc:\\Users\\reszbart\\AppData\\Local\\Programs\\Python\\Python39\\lib\\site-packages\\sqlalchemy\\engine\\base.py\u001b[0m in \u001b[0;36m_exec_single_context\u001b[1;34m(self, dialect, context, statement, parameters)\u001b[0m\n\u001b[0;32m   1988\u001b[0m \u001b[1;33m\u001b[0m\u001b[0m\n\u001b[0;32m   1989\u001b[0m         \u001b[1;32mexcept\u001b[0m \u001b[0mBaseException\u001b[0m \u001b[1;32mas\u001b[0m \u001b[0me\u001b[0m\u001b[1;33m:\u001b[0m\u001b[1;33m\u001b[0m\u001b[1;33m\u001b[0m\u001b[0m\n\u001b[1;32m-> 1990\u001b[1;33m             self._handle_dbapi_exception(\n\u001b[0m\u001b[0;32m   1991\u001b[0m                 \u001b[0me\u001b[0m\u001b[1;33m,\u001b[0m \u001b[0mstr_statement\u001b[0m\u001b[1;33m,\u001b[0m \u001b[0meffective_parameters\u001b[0m\u001b[1;33m,\u001b[0m \u001b[0mcursor\u001b[0m\u001b[1;33m,\u001b[0m \u001b[0mcontext\u001b[0m\u001b[1;33m\u001b[0m\u001b[1;33m\u001b[0m\u001b[0m\n\u001b[0;32m   1992\u001b[0m             )\n",
      "\u001b[1;32mc:\\Users\\reszbart\\AppData\\Local\\Programs\\Python\\Python39\\lib\\site-packages\\sqlalchemy\\engine\\base.py\u001b[0m in \u001b[0;36m_handle_dbapi_exception\u001b[1;34m(self, e, statement, parameters, cursor, context, is_sub_exec)\u001b[0m\n\u001b[0;32m   2355\u001b[0m             \u001b[1;32melif\u001b[0m \u001b[0mshould_wrap\u001b[0m\u001b[1;33m:\u001b[0m\u001b[1;33m\u001b[0m\u001b[1;33m\u001b[0m\u001b[0m\n\u001b[0;32m   2356\u001b[0m                 \u001b[1;32massert\u001b[0m \u001b[0msqlalchemy_exception\u001b[0m \u001b[1;32mis\u001b[0m \u001b[1;32mnot\u001b[0m \u001b[1;32mNone\u001b[0m\u001b[1;33m\u001b[0m\u001b[1;33m\u001b[0m\u001b[0m\n\u001b[1;32m-> 2357\u001b[1;33m                 \u001b[1;32mraise\u001b[0m \u001b[0msqlalchemy_exception\u001b[0m\u001b[1;33m.\u001b[0m\u001b[0mwith_traceback\u001b[0m\u001b[1;33m(\u001b[0m\u001b[0mexc_info\u001b[0m\u001b[1;33m[\u001b[0m\u001b[1;36m2\u001b[0m\u001b[1;33m]\u001b[0m\u001b[1;33m)\u001b[0m \u001b[1;32mfrom\u001b[0m \u001b[0me\u001b[0m\u001b[1;33m\u001b[0m\u001b[1;33m\u001b[0m\u001b[0m\n\u001b[0m\u001b[0;32m   2358\u001b[0m             \u001b[1;32melse\u001b[0m\u001b[1;33m:\u001b[0m\u001b[1;33m\u001b[0m\u001b[1;33m\u001b[0m\u001b[0m\n\u001b[0;32m   2359\u001b[0m                 \u001b[1;32massert\u001b[0m \u001b[0mexc_info\u001b[0m\u001b[1;33m[\u001b[0m\u001b[1;36m1\u001b[0m\u001b[1;33m]\u001b[0m \u001b[1;32mis\u001b[0m \u001b[1;32mnot\u001b[0m \u001b[1;32mNone\u001b[0m\u001b[1;33m\u001b[0m\u001b[1;33m\u001b[0m\u001b[0m\n",
      "\u001b[1;32mc:\\Users\\reszbart\\AppData\\Local\\Programs\\Python\\Python39\\lib\\site-packages\\sqlalchemy\\engine\\base.py\u001b[0m in \u001b[0;36m_exec_single_context\u001b[1;34m(self, dialect, context, statement, parameters)\u001b[0m\n\u001b[0;32m   1969\u001b[0m                             \u001b[1;32mbreak\u001b[0m\u001b[1;33m\u001b[0m\u001b[1;33m\u001b[0m\u001b[0m\n\u001b[0;32m   1970\u001b[0m                 \u001b[1;32mif\u001b[0m \u001b[1;32mnot\u001b[0m \u001b[0mevt_handled\u001b[0m\u001b[1;33m:\u001b[0m\u001b[1;33m\u001b[0m\u001b[1;33m\u001b[0m\u001b[0m\n\u001b[1;32m-> 1971\u001b[1;33m                     self.dialect.do_execute(\n\u001b[0m\u001b[0;32m   1972\u001b[0m                         \u001b[0mcursor\u001b[0m\u001b[1;33m,\u001b[0m \u001b[0mstr_statement\u001b[0m\u001b[1;33m,\u001b[0m \u001b[0meffective_parameters\u001b[0m\u001b[1;33m,\u001b[0m \u001b[0mcontext\u001b[0m\u001b[1;33m\u001b[0m\u001b[1;33m\u001b[0m\u001b[0m\n\u001b[0;32m   1973\u001b[0m                     )\n",
      "\u001b[1;32mc:\\Users\\reszbart\\AppData\\Local\\Programs\\Python\\Python39\\lib\\site-packages\\sqlalchemy\\engine\\default.py\u001b[0m in \u001b[0;36mdo_execute\u001b[1;34m(self, cursor, statement, parameters, context)\u001b[0m\n\u001b[0;32m    917\u001b[0m \u001b[1;33m\u001b[0m\u001b[0m\n\u001b[0;32m    918\u001b[0m     \u001b[1;32mdef\u001b[0m \u001b[0mdo_execute\u001b[0m\u001b[1;33m(\u001b[0m\u001b[0mself\u001b[0m\u001b[1;33m,\u001b[0m \u001b[0mcursor\u001b[0m\u001b[1;33m,\u001b[0m \u001b[0mstatement\u001b[0m\u001b[1;33m,\u001b[0m \u001b[0mparameters\u001b[0m\u001b[1;33m,\u001b[0m \u001b[0mcontext\u001b[0m\u001b[1;33m=\u001b[0m\u001b[1;32mNone\u001b[0m\u001b[1;33m)\u001b[0m\u001b[1;33m:\u001b[0m\u001b[1;33m\u001b[0m\u001b[1;33m\u001b[0m\u001b[0m\n\u001b[1;32m--> 919\u001b[1;33m         \u001b[0mcursor\u001b[0m\u001b[1;33m.\u001b[0m\u001b[0mexecute\u001b[0m\u001b[1;33m(\u001b[0m\u001b[0mstatement\u001b[0m\u001b[1;33m,\u001b[0m \u001b[0mparameters\u001b[0m\u001b[1;33m)\u001b[0m\u001b[1;33m\u001b[0m\u001b[1;33m\u001b[0m\u001b[0m\n\u001b[0m\u001b[0;32m    920\u001b[0m \u001b[1;33m\u001b[0m\u001b[0m\n\u001b[0;32m    921\u001b[0m     \u001b[1;32mdef\u001b[0m \u001b[0mdo_execute_no_params\u001b[0m\u001b[1;33m(\u001b[0m\u001b[0mself\u001b[0m\u001b[1;33m,\u001b[0m \u001b[0mcursor\u001b[0m\u001b[1;33m,\u001b[0m \u001b[0mstatement\u001b[0m\u001b[1;33m,\u001b[0m \u001b[0mcontext\u001b[0m\u001b[1;33m=\u001b[0m\u001b[1;32mNone\u001b[0m\u001b[1;33m)\u001b[0m\u001b[1;33m:\u001b[0m\u001b[1;33m\u001b[0m\u001b[1;33m\u001b[0m\u001b[0m\n",
      "\u001b[1;31mOperationalError\u001b[0m: (sqlite3.OperationalError) no such table: projekt_fotowoltaika_2024\n[SQL: SELECT * FROM projekt_fotowoltaika_2024 LIMIT 5;]\n(Background on this error at: https://sqlalche.me/e/20/e3q8)"
     ]
    }
   ],
   "source": [
    "# Sprawdzenie kilku pierwszych rekordów z tabeli projekt_fotowoltaika_2024\n",
    "with engine.connect() as con:\n",
    "    # Definiowanie zapytania SQL do pobrania pierwszych 5 rekordów z tabeli\n",
    "    query = text(\"SELECT * FROM projekt_fotowoltaika_2024 LIMIT 5;\")\n",
    "    # Wykonanie zapytania i załadowanie wyników do DataFrame\n",
    "    example_data = pd.read_sql(query, con)\n",
    "\n",
    "# Wyświetlenie pierwszych rekordów w tabeli projekt_fotowoltaika_2024\n",
    "print('Pierwsze rekordy w tabeli projekt_fotowoltaika_2024:')\n",
    "print(example_data)"
   ]
  },
  {
   "cell_type": "code",
   "execution_count": 9,
   "metadata": {
    "execution": {
     "iopub.execute_input": "2024-05-14T11:31:13.149995Z",
     "iopub.status.busy": "2024-05-14T11:31:13.147997Z",
     "iopub.status.idle": "2024-05-14T11:31:13.159969Z",
     "shell.execute_reply": "2024-05-14T11:31:13.158973Z"
    }
   },
   "outputs": [
    {
     "name": "stdout",
     "output_type": "stream",
     "text": [
      "Informacje o kolumnach:\n",
      "    cid          name    type  notnull dflt_value  pk\n",
      "0     0    Unnamed: 0  BIGINT        0       None   0\n",
      "1     1          date    TEXT        0       None   0\n",
      "2     2     city_name    TEXT        0       None   0\n",
      "3     3           lat   FLOAT        0       None   0\n",
      "4     4           lon   FLOAT        0       None   0\n",
      "5     5          temp   FLOAT        0       None   0\n",
      "6     6    feels_like   FLOAT        0       None   0\n",
      "7     7      temp_min   FLOAT        0       None   0\n",
      "8     8      temp_max   FLOAT        0       None   0\n",
      "9     9      pressure   FLOAT        0       None   0\n",
      "10   10      humidity   FLOAT        0       None   0\n",
      "11   11    wind_speed   FLOAT        0       None   0\n",
      "12   12    clouds_all   FLOAT        0       None   0\n",
      "13   13  weather_main    TEXT        0       None   0\n"
     ]
    }
   ],
   "source": [
    "# Sprawdzenie struktury tabeli (nazwy kolumn)\n",
    "with engine.connect() as con:\n",
    "    # Definiowanie zapytania SQL do pobrania informacji o kolumnach w tabeli\n",
    "    query = text(\"PRAGMA table_info(projekt_fotowoltaika_2024);\")\n",
    "    # Wykonanie zapytania i załadowanie wyników do DataFrame\n",
    "    columns_info = pd.read_sql(query, con)\n",
    "\n",
    "# Wyświetlenie informacji o kolumnach\n",
    "print('Informacje o kolumnach:')\n",
    "print(columns_info)"
   ]
  }
 ],
 "metadata": {
  "kernelspec": {
   "display_name": "Python 3",
   "language": "python",
   "name": "python3"
  },
  "language_info": {
   "codemirror_mode": {
    "name": "ipython",
    "version": 3
   },
   "file_extension": ".py",
   "mimetype": "text/x-python",
   "name": "python",
   "nbconvert_exporter": "python",
   "pygments_lexer": "ipython3",
   "version": "3.9.1"
  }
 },
 "nbformat": 4,
 "nbformat_minor": 2
}
