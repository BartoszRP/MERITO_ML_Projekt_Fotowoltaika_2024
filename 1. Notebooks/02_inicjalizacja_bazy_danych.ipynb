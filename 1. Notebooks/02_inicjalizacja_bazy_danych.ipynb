{
 "cells": [
  {
   "cell_type": "markdown",
   "metadata": {},
   "source": [
    "#### Wstęp do Użycia SQLite w Analizie Danych\n",
    "W dzisiejszych czasach danych jest więcej niż kiedykolwiek, a ich rola w podejmowaniu decyzji biznesowych i naukowych jest nie do przecenienia. Jednak zarządzanie i analiza tych danych wymaga odpowiednich narzędzi. SQLite, jako lekka baza danych, doskonale nadaje się do tego zadania, szczególnie gdy praca odbywa się w środowisku deweloperskim lub testowym, gdzie pełnowymiarowe systemy baz danych mogą być niepraktyczne.\n",
    "\n",
    "SQLite to biblioteka w języku C, która dostarcza lekki dyskowy system baz danych. Pozwala na dostęp do bazy danych bez konieczności konfiguracji serwera czy wykonywania złożonych procedur instalacyjnych, co czyni ją idealnym wyborem dla indywidualnych deweloperów, małych projektów, a także aplikacji mobilnych i desktopowych.\n",
    "\n",
    "#### Główne zalety SQLite:\n",
    "\n",
    "- Samowystarczalność: SQLite jest samodzielnym systemem baz danych, który nie wymaga serwera bazy danych, co oznacza mniej konfiguracji i prostszą administrację.\n",
    "- Zero konfiguracji: Nie wymaga od użytkownika konfigurowania. Po prostu jest gotowa do użycia.\n",
    "- Przenośność: Baza danych SQLite jest przechowywana w jednym pliku na dysku, co ułatwia zarządzanie danymi i ich przenoszenie.\n",
    "- Niewielki rozmiar: Jest bardzo lekka i nie obciąża zasobów systemu, co jest ważne w środowiskach z ograniczonymi zasobami.\n",
    "- Transakcyjność: SQLite obsługuje transakcje ACID, co gwarantuje, że wszystkie operacje na bazie są wykonane poprawnie lub w przypadku błędu nie zostaną wykonane wcale.\n",
    "\n",
    "W naszym projekcie, wykorzystujemy SQLite do przechowywania, zarządzania i analizowania danych związanych z instalacjami fotowoltaicznymi. Użycie tego systemu baz danych pozwala na elastyczne zarządzanie danymi i ich szybką analizę."
   ]
  },
  {
   "cell_type": "code",
   "execution_count": 1,
   "metadata": {},
   "outputs": [],
   "source": [
    "import sqlite3\n",
    "import pandas as pd\n",
    "from sqlalchemy import create_engine,text"
   ]
  },
  {
   "cell_type": "code",
   "execution_count": 2,
   "metadata": {},
   "outputs": [],
   "source": [
    "# Ścieżka do przetworzonego pliku danych\n",
    "csv_file_path = '../2. Data/processed/combined_data_processed.csv'"
   ]
  },
  {
   "cell_type": "code",
   "execution_count": 3,
   "metadata": {},
   "outputs": [],
   "source": [
    "# Ścieżka do pliku bazy danych SQLite\n",
    "sqlite_db_path = r'../5. Baza_Danych/projekt_fotowoltaika_2024.db'"
   ]
  },
  {
   "cell_type": "code",
   "execution_count": 4,
   "metadata": {},
   "outputs": [],
   "source": [
    "# Tworzenie połączenia z bazą danych\n",
    "engine = create_engine(f'sqlite:///{sqlite_db_path}')"
   ]
  },
  {
   "cell_type": "code",
   "execution_count": 5,
   "metadata": {},
   "outputs": [],
   "source": [
    "# Usunięcie istniejącej tabeli (jeśli istnieje) i stworzenie nowej\n",
    "with engine.connect() as con:\n",
    "    con.execute(text('DROP TABLE IF EXISTS projekt_fotowoltaika_2024'))"
   ]
  },
  {
   "cell_type": "code",
   "execution_count": 6,
   "metadata": {},
   "outputs": [
    {
     "data": {
      "text/plain": [
       "49308"
      ]
     },
     "execution_count": 6,
     "metadata": {},
     "output_type": "execute_result"
    }
   ],
   "source": [
    "# Załadowanie danych z pliku CSV do bazy danych SQLite\n",
    "df = pd.read_csv(csv_file_path)\n",
    "df.to_sql('projekt_fotowoltaika_2024', engine, if_exists='replace', index=False)"
   ]
  },
  {
   "cell_type": "markdown",
   "metadata": {},
   "source": [
    "#### Sprawdzenia bazy danych"
   ]
  },
  {
   "cell_type": "code",
   "execution_count": 7,
   "metadata": {},
   "outputs": [
    {
     "name": "stdout",
     "output_type": "stream",
     "text": [
      "Lista tabel: [('projekt_fotowoltaika_2024',)]\n"
     ]
    }
   ],
   "source": [
    "# Zapytanie o listę tabel w bazie danych\n",
    "with engine.connect() as con:\n",
    "    tables_list = con.execute(text(\"SELECT name FROM sqlite_master WHERE type='table';\")).fetchall()\n",
    "    print('Lista tabel:', tables_list)"
   ]
  },
  {
   "cell_type": "code",
   "execution_count": 8,
   "metadata": {},
   "outputs": [
    {
     "name": "stdout",
     "output_type": "stream",
     "text": [
      "Pierwsze rekordy w tabeli projekt_fotowoltaika_2024:\n",
      "   Unnamed: 0        date    city_name        lat        lon       temp  \\\n",
      "0           0  1979-01-01  Baden_Baden  48.765640   8.228524 -10.442083   \n",
      "1           1  1979-01-01     Bozanska  54.473028  18.302179 -14.100000   \n",
      "2           2  1979-01-01  Walcz_Drugi  53.257039  16.521203 -16.437083   \n",
      "3           3  1979-01-02  Baden_Baden  48.765640   8.228524  -8.856667   \n",
      "4           4  1979-01-02     Bozanska  54.473028  18.302179  -9.037917   \n",
      "\n",
      "   feels_like  temp_min  temp_max     pressure   humidity  wind_speed  \\\n",
      "0  -16.532917    -16.18      3.02  1013.666667  81.916667    3.681667   \n",
      "1  -20.617500    -19.14     -9.46  1002.416667  82.000000    6.157917   \n",
      "2  -23.322500    -21.26     -9.57  1003.708333  82.416667    3.682083   \n",
      "3  -14.874167    -15.82     -3.96  1024.250000  84.208333    4.524583   \n",
      "4  -15.179167    -14.14     -7.40  1004.791667  85.375000    4.449583   \n",
      "\n",
      "   clouds_all weather_main  \n",
      "0         100         Snow  \n",
      "1         100         Snow  \n",
      "2         100       Clouds  \n",
      "3         100         Snow  \n",
      "4         100       Clouds  \n"
     ]
    }
   ],
   "source": [
    "# Sprawdzenie kilku pierwszych rekordów z tabeli projekt_fotowoltaika_2024\n",
    "with engine.connect() as con:\n",
    "    query = text(\"SELECT * FROM projekt_fotowoltaika_2024 LIMIT 5;\")\n",
    "    example_data = pd.read_sql(query, con)\n",
    "    \n",
    "print('Pierwsze rekordy w tabeli projekt_fotowoltaika_2024:')\n",
    "print(example_data)"
   ]
  },
  {
   "cell_type": "code",
   "execution_count": 9,
   "metadata": {},
   "outputs": [
    {
     "name": "stdout",
     "output_type": "stream",
     "text": [
      "Informacje o kolumnach:\n",
      "    cid          name    type  notnull dflt_value  pk\n",
      "0     0    Unnamed: 0  BIGINT        0       None   0\n",
      "1     1          date    TEXT        0       None   0\n",
      "2     2     city_name    TEXT        0       None   0\n",
      "3     3           lat   FLOAT        0       None   0\n",
      "4     4           lon   FLOAT        0       None   0\n",
      "5     5          temp   FLOAT        0       None   0\n",
      "6     6    feels_like   FLOAT        0       None   0\n",
      "7     7      temp_min   FLOAT        0       None   0\n",
      "8     8      temp_max   FLOAT        0       None   0\n",
      "9     9      pressure   FLOAT        0       None   0\n",
      "10   10      humidity   FLOAT        0       None   0\n",
      "11   11    wind_speed   FLOAT        0       None   0\n",
      "12   12    clouds_all  BIGINT        0       None   0\n",
      "13   13  weather_main    TEXT        0       None   0\n"
     ]
    }
   ],
   "source": [
    "# Sprawdzenie struktury tabeli (nazwy kolumn)\n",
    "with engine.connect() as con:\n",
    "    query = text(\"PRAGMA table_info(projekt_fotowoltaika_2024);\")\n",
    "    columns_info = pd.read_sql(query, con)\n",
    "\n",
    "print('Informacje o kolumnach:')\n",
    "print(columns_info)"
   ]
  }
 ],
 "metadata": {
  "kernelspec": {
   "display_name": "Python 3",
   "language": "python",
   "name": "python3"
  },
  "language_info": {
   "codemirror_mode": {
    "name": "ipython",
    "version": 3
   },
   "file_extension": ".py",
   "mimetype": "text/x-python",
   "name": "python",
   "nbconvert_exporter": "python",
   "pygments_lexer": "ipython3",
   "version": "3.9.1"
  }
 },
 "nbformat": 4,
 "nbformat_minor": 2
}
