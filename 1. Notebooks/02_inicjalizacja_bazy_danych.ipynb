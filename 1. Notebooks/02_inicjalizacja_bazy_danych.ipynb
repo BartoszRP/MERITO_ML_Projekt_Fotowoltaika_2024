{
 "cells": [
  {
   "cell_type": "code",
   "execution_count": 7,
   "metadata": {},
   "outputs": [],
   "source": [
    "import sqlite3\n",
    "import pandas as pd\n",
    "from sqlalchemy import create_engine,text"
   ]
  },
  {
   "cell_type": "code",
   "execution_count": 8,
   "metadata": {},
   "outputs": [],
   "source": [
    "# Ścieżka do przetworzonego pliku danych\n",
    "csv_file_path = '../2. Data/processed/Bozanska_Bulk_processed.csv'"
   ]
  },
  {
   "cell_type": "code",
   "execution_count": 9,
   "metadata": {},
   "outputs": [],
   "source": [
    "# Ścieżka do pliku bazy danych SQLite\n",
    "sqlite_db_path = r'../5. Baza_Danych/projekt_fotowoltaika_2024.db'"
   ]
  },
  {
   "cell_type": "code",
   "execution_count": 10,
   "metadata": {},
   "outputs": [],
   "source": [
    "# Tworzenie połączenia z bazą danych\n",
    "engine = create_engine(f'sqlite:///{sqlite_db_path}')"
   ]
  },
  {
   "cell_type": "code",
   "execution_count": 11,
   "metadata": {},
   "outputs": [],
   "source": [
    "# Usunięcie istniejącej tabeli (jeśli istnieje) i stworzenie nowej\n",
    "with engine.connect() as con:\n",
    "    con.execute(text('DROP TABLE IF EXISTS projekt_fotowoltaika_2024'))"
   ]
  },
  {
   "cell_type": "code",
   "execution_count": 12,
   "metadata": {},
   "outputs": [
    {
     "data": {
      "text/plain": [
       "16436"
      ]
     },
     "execution_count": 12,
     "metadata": {},
     "output_type": "execute_result"
    }
   ],
   "source": [
    "# Załadowanie danych z pliku CSV do bazy danych SQLite\n",
    "df = pd.read_csv(csv_file_path)\n",
    "df.to_sql('projekt_fotowoltaika_2024', engine, if_exists='replace', index=False)"
   ]
  }
 ],
 "metadata": {
  "kernelspec": {
   "display_name": "Python 3",
   "language": "python",
   "name": "python3"
  },
  "language_info": {
   "codemirror_mode": {
    "name": "ipython",
    "version": 3
   },
   "file_extension": ".py",
   "mimetype": "text/x-python",
   "name": "python",
   "nbconvert_exporter": "python",
   "pygments_lexer": "ipython3",
   "version": "3.9.1"
  }
 },
 "nbformat": 4,
 "nbformat_minor": 2
}
