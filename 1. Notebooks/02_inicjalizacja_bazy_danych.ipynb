{
 "cells": [
  {
   "cell_type": "markdown",
   "metadata": {},
   "source": [
    "#### Wstęp do Użycia SQLite w Analizie Danych\n",
    "W dzisiejszych czasach danych jest więcej niż kiedykolwiek, a ich rola w podejmowaniu decyzji biznesowych i naukowych jest nie do przecenienia. Jednak zarządzanie i analiza tych danych wymaga odpowiednich narzędzi. SQLite, jako lekka baza danych, doskonale nadaje się do tego zadania, szczególnie gdy praca odbywa się w środowisku deweloperskim lub testowym, gdzie pełnowymiarowe systemy baz danych mogą być niepraktyczne.\n",
    "\n",
    "SQLite to biblioteka w języku C, która dostarcza lekki dyskowy system baz danych. Pozwala na dostęp do bazy danych bez konieczności konfiguracji serwera czy wykonywania złożonych procedur instalacyjnych, co czyni ją idealnym wyborem dla indywidualnych deweloperów, małych projektów, a także aplikacji mobilnych i desktopowych.\n",
    "\n",
    "#### Główne zalety SQLite:\n",
    "\n",
    "- **Samowystarczalność**: SQLite jest samodzielnym systemem baz danych, który nie wymaga serwera bazy danych, co oznacza mniej konfiguracji i prostszą administrację.\n",
    "- **Zero konfiguracji**: Nie wymaga od użytkownika konfigurowania. Po prostu jest gotowa do użycia.\n",
    "- **Przenośność**: Baza danych SQLite jest przechowywana w jednym pliku na dysku, co ułatwia zarządzanie danymi i ich przenoszenie.\n",
    "- **Niewielki rozmiar**: Jest bardzo lekka i nie obciąża zasobów systemu, co jest ważne w środowiskach z ograniczonymi zasobami.\n",
    "- **Transakcyjność**: SQLite obsługuje transakcje ACID, co gwarantuje, że wszystkie operacje na bazie są wykonane poprawnie lub w przypadku błędu nie zostaną wykonane wcale.\n",
    "- **Dynamiczne typowanie**: SQLite stosuje dynamiczne typowanie, co oznacza, że typ danych kolumny może zmieniać się w zależności od wstawionych danych. Pozwala to na większą elastyczność, ale wymaga również większej uwagi podczas wstawiania danych.\n",
    "\n",
    "#### Inne popularne bazy danych SQL:\n",
    "\n",
    "1. **MySQL**:\n",
    "   - **Zalety**:\n",
    "     - Popularność i szerokie wsparcie społeczności.\n",
    "     - Wysoka wydajność i skalowalność.\n",
    "     - Otwarty kod źródłowy z opcją komercyjnego wsparcia (np. przez Oracle).\n",
    "   - **Wady**:\n",
    "     - Wymaga konfiguracji serwera.\n",
    "     - Może być bardziej skomplikowana w zarządzaniu w porównaniu do SQLite.\n",
    "\n",
    "2. **PostgreSQL**:\n",
    "   - **Zalety**:\n",
    "     - Bardzo zaawansowane funkcje, wsparcie dla skomplikowanych zapytań i operacji.\n",
    "     - Wysoka wydajność i skalowalność.\n",
    "     - Otwarty kod źródłowy z silnym wsparciem społeczności.\n",
    "   - **Wady**:\n",
    "     - Wymaga konfiguracji serwera.\n",
    "     - Może być bardziej zasobożerna w porównaniu do SQLite.\n",
    "\n",
    "3. **Microsoft SQL Server**:\n",
    "   - **Zalety**:\n",
    "     - Mocna integracja z ekosystemem Microsoft.\n",
    "     - Zaawansowane funkcje analizy danych i BI.\n",
    "     - Wsparcie techniczne i regularne aktualizacje.\n",
    "   - **Wady**:\n",
    "     - Wysokie koszty licencji.\n",
    "     - Wymaga konfiguracji serwera.\n",
    "\n",
    "4. **Oracle Database**:\n",
    "   - **Zalety**:\n",
    "     - Bardzo skalowalna i niezawodna baza danych.\n",
    "     - Szeroki zakres zaawansowanych funkcji.\n",
    "     - Mocne wsparcie techniczne.\n",
    "   - **Wady**:\n",
    "     - Wysokie koszty licencji.\n",
    "     - Bardzo złożona w konfiguracji i zarządzaniu.\n",
    "\n",
    "#### Dlaczego użyliśmy SQLite w naszym projekcie?\n",
    "\n",
    "W naszym projekcie, wykorzystujemy SQLite do przechowywania, zarządzania i analizowania danych związanych z instalacjami fotowoltaicznymi. Wybraliśmy SQLite z kilku powodów:\n",
    "\n",
    "- **Lekkość i prostota**: SQLite nie wymaga konfiguracji serwera, co znacznie uprościło proces wdrożenia.\n",
    "- **Przenośność**: Możliwość przechowywania bazy danych w jednym pliku ułatwiła zarządzanie i przenoszenie danych między różnymi środowiskami.\n",
    "- **Wydajność w małych projektach**: W naszym przypadku, ilość danych i wymagania dotyczące ich przetwarzania idealnie pasują do możliwości SQLite.\n",
    "- **Brak potrzeby zaawansowanych funkcji**: Nasz projekt nie wymagał zaawansowanych funkcji, które oferują większe systemy baz danych, takie jak PostgreSQL czy Oracle.\n",
    "\n",
    "SQLite zapewniła nam elastyczność i wydajność, nie obciążając przy tym zasobów systemowych, co było kluczowe w realizacji naszego projektu.\n"
   ]
  },
  {
   "cell_type": "code",
   "execution_count": 1,
   "metadata": {
    "execution": {
     "iopub.execute_input": "2024-05-14T11:31:11.130354Z",
     "iopub.status.busy": "2024-05-14T11:31:11.129356Z",
     "iopub.status.idle": "2024-05-14T11:31:12.053696Z",
     "shell.execute_reply": "2024-05-14T11:31:12.054697Z"
    }
   },
   "outputs": [],
   "source": [
    "# Importujemy moduł sqlite3 do pracy z bazą danych SQLite\n",
    "import sqlite3\n",
    "\n",
    "# Importujemy pandas do manipulacji i analizy danych\n",
    "import pandas as pd\n",
    "\n",
    "# Importujemy create_engine i text z SQLAlchemy do zarządzania połączeniami bazodanowymi\n",
    "from sqlalchemy import create_engine, text"
   ]
  },
  {
   "cell_type": "code",
   "execution_count": 2,
   "metadata": {
    "execution": {
     "iopub.execute_input": "2024-05-14T11:31:12.059683Z",
     "iopub.status.busy": "2024-05-14T11:31:12.059683Z",
     "iopub.status.idle": "2024-05-14T11:31:12.068830Z",
     "shell.execute_reply": "2024-05-14T11:31:12.068830Z"
    }
   },
   "outputs": [],
   "source": [
    "# Ścieżka do przetworzonego pliku danych\n",
    "csv_file_path = '../2. Data/processed/combined_data_processed.csv'"
   ]
  },
  {
   "cell_type": "code",
   "execution_count": 3,
   "metadata": {
    "execution": {
     "iopub.execute_input": "2024-05-14T11:31:12.073902Z",
     "iopub.status.busy": "2024-05-14T11:31:12.073902Z",
     "iopub.status.idle": "2024-05-14T11:31:12.084165Z",
     "shell.execute_reply": "2024-05-14T11:31:12.084165Z"
    }
   },
   "outputs": [],
   "source": [
    "# Ścieżka do pliku bazy danych SQLite\n",
    "sqlite_db_path = r'../5. Baza_Danych/projekt_fotowoltaika_2024.db'"
   ]
  },
  {
   "cell_type": "code",
   "execution_count": 4,
   "metadata": {
    "execution": {
     "iopub.execute_input": "2024-05-14T11:31:12.090112Z",
     "iopub.status.busy": "2024-05-14T11:31:12.087119Z",
     "iopub.status.idle": "2024-05-14T11:31:12.116052Z",
     "shell.execute_reply": "2024-05-14T11:31:12.116052Z"
    }
   },
   "outputs": [],
   "source": [
    "# Tworzenie połączenia z bazą danych SQLite za pomocą SQLAlchemy\n",
    "engine = create_engine(f'sqlite:///{sqlite_db_path}')"
   ]
  },
  {
   "cell_type": "code",
   "execution_count": 5,
   "metadata": {},
   "outputs": [],
   "source": [
    "# Usunięcie istniejącej tabeli (jeśli istnieje) i stworzenie nowej\n",
    "with engine.connect() as con:\n",
    "    # Wykonanie zapytania SQL do usunięcia tabeli\n",
    "    con.execute(text('DROP TABLE IF EXISTS projekt_fotowoltaika_2024'))"
   ]
  },
  {
   "cell_type": "code",
   "execution_count": 6,
   "metadata": {
    "execution": {
     "iopub.execute_input": "2024-05-14T11:31:12.169146Z",
     "iopub.status.busy": "2024-05-14T11:31:12.169146Z",
     "iopub.status.idle": "2024-05-14T11:31:13.096148Z",
     "shell.execute_reply": "2024-05-14T11:31:13.096148Z"
    }
   },
   "outputs": [],
   "source": [
    "# Usunięcie istniejącej tabeli (jeśli istnieje) i stworzenie nowej\n",
    "with engine.connect() as con:\n",
    "    # Wykonanie zapytania SQL do usunięcia tabeli\n",
    "    con.execute(text('DROP TABLE IF EXISTS projekt_fotowoltaika_2024'))"
   ]
  },
  {
   "cell_type": "code",
   "execution_count": 7,
   "metadata": {
    "execution": {
     "iopub.execute_input": "2024-05-14T11:31:13.101137Z",
     "iopub.status.busy": "2024-05-14T11:31:13.101137Z",
     "iopub.status.idle": "2024-05-14T11:31:13.112265Z",
     "shell.execute_reply": "2024-05-14T11:31:13.112265Z"
    }
   },
   "outputs": [
    {
     "name": "stdout",
     "output_type": "stream",
     "text": [
      "Lista tabel: []\n"
     ]
    }
   ],
   "source": [
    "# Sprawdzenie bazy danych\n",
    "\n",
    "# Zapytanie o listę tabel w bazie danych\n",
    "with engine.connect() as con:\n",
    "    # Wykonanie zapytania SQL do pobrania listy tabel w bazie danych\n",
    "    tables_list = con.execute(text(\"SELECT name FROM sqlite_master WHERE type='table';\")).fetchall()\n",
    "    # Wyświetlenie listy tabel\n",
    "    print('Lista tabel:', tables_list)"
   ]
  },
  {
   "cell_type": "code",
   "execution_count": 35,
   "metadata": {
    "execution": {
     "iopub.execute_input": "2024-05-14T11:31:13.119248Z",
     "iopub.status.busy": "2024-05-14T11:31:13.117253Z",
     "iopub.status.idle": "2024-05-14T11:31:13.144011Z",
     "shell.execute_reply": "2024-05-14T11:31:13.144011Z"
    }
   },
   "outputs": [
    {
     "ename": "OperationalError",
     "evalue": "(sqlite3.OperationalError) no such table: projekt_fotowoltaika_2024\n[SQL: SELECT * FROM projekt_fotowoltaika_2024 LIMIT 5;]\n(Background on this error at: https://sqlalche.me/e/14/e3q8)",
     "output_type": "error",
     "traceback": [
      "\u001b[1;31m---------------------------------------------------------------------------\u001b[0m",
      "\u001b[1;31mOperationalError\u001b[0m                          Traceback (most recent call last)",
      "\u001b[1;32mc:\\Users\\reszk\\anaconda3\\lib\\site-packages\\sqlalchemy\\engine\\base.py\u001b[0m in \u001b[0;36m_execute_context\u001b[1;34m(self, dialect, constructor, statement, parameters, execution_options, *args, **kw)\u001b[0m\n\u001b[0;32m   1818\u001b[0m                 \u001b[1;32mif\u001b[0m \u001b[1;32mnot\u001b[0m \u001b[0mevt_handled\u001b[0m\u001b[1;33m:\u001b[0m\u001b[1;33m\u001b[0m\u001b[1;33m\u001b[0m\u001b[0m\n\u001b[1;32m-> 1819\u001b[1;33m                     self.dialect.do_execute(\n\u001b[0m\u001b[0;32m   1820\u001b[0m                         \u001b[0mcursor\u001b[0m\u001b[1;33m,\u001b[0m \u001b[0mstatement\u001b[0m\u001b[1;33m,\u001b[0m \u001b[0mparameters\u001b[0m\u001b[1;33m,\u001b[0m \u001b[0mcontext\u001b[0m\u001b[1;33m\u001b[0m\u001b[1;33m\u001b[0m\u001b[0m\n",
      "\u001b[1;32mc:\\Users\\reszk\\anaconda3\\lib\\site-packages\\sqlalchemy\\engine\\default.py\u001b[0m in \u001b[0;36mdo_execute\u001b[1;34m(self, cursor, statement, parameters, context)\u001b[0m\n\u001b[0;32m    731\u001b[0m     \u001b[1;32mdef\u001b[0m \u001b[0mdo_execute\u001b[0m\u001b[1;33m(\u001b[0m\u001b[0mself\u001b[0m\u001b[1;33m,\u001b[0m \u001b[0mcursor\u001b[0m\u001b[1;33m,\u001b[0m \u001b[0mstatement\u001b[0m\u001b[1;33m,\u001b[0m \u001b[0mparameters\u001b[0m\u001b[1;33m,\u001b[0m \u001b[0mcontext\u001b[0m\u001b[1;33m=\u001b[0m\u001b[1;32mNone\u001b[0m\u001b[1;33m)\u001b[0m\u001b[1;33m:\u001b[0m\u001b[1;33m\u001b[0m\u001b[1;33m\u001b[0m\u001b[0m\n\u001b[1;32m--> 732\u001b[1;33m         \u001b[0mcursor\u001b[0m\u001b[1;33m.\u001b[0m\u001b[0mexecute\u001b[0m\u001b[1;33m(\u001b[0m\u001b[0mstatement\u001b[0m\u001b[1;33m,\u001b[0m \u001b[0mparameters\u001b[0m\u001b[1;33m)\u001b[0m\u001b[1;33m\u001b[0m\u001b[1;33m\u001b[0m\u001b[0m\n\u001b[0m\u001b[0;32m    733\u001b[0m \u001b[1;33m\u001b[0m\u001b[0m\n",
      "\u001b[1;31mOperationalError\u001b[0m: no such table: projekt_fotowoltaika_2024",
      "\nThe above exception was the direct cause of the following exception:\n",
      "\u001b[1;31mOperationalError\u001b[0m                          Traceback (most recent call last)",
      "\u001b[1;32m~\\AppData\\Local\\Temp\\ipykernel_24300\\677520376.py\u001b[0m in \u001b[0;36m<module>\u001b[1;34m\u001b[0m\n\u001b[0;32m      4\u001b[0m     \u001b[0mquery\u001b[0m \u001b[1;33m=\u001b[0m \u001b[0mtext\u001b[0m\u001b[1;33m(\u001b[0m\u001b[1;34m\"SELECT * FROM projekt_fotowoltaika_2024 LIMIT 5;\"\u001b[0m\u001b[1;33m)\u001b[0m\u001b[1;33m\u001b[0m\u001b[1;33m\u001b[0m\u001b[0m\n\u001b[0;32m      5\u001b[0m     \u001b[1;31m# Wykonanie zapytania i załadowanie wyników do DataFrame\u001b[0m\u001b[1;33m\u001b[0m\u001b[1;33m\u001b[0m\u001b[0m\n\u001b[1;32m----> 6\u001b[1;33m     \u001b[0mexample_data\u001b[0m \u001b[1;33m=\u001b[0m \u001b[0mpd\u001b[0m\u001b[1;33m.\u001b[0m\u001b[0mread_sql\u001b[0m\u001b[1;33m(\u001b[0m\u001b[0mquery\u001b[0m\u001b[1;33m,\u001b[0m \u001b[0mcon\u001b[0m\u001b[1;33m)\u001b[0m\u001b[1;33m\u001b[0m\u001b[1;33m\u001b[0m\u001b[0m\n\u001b[0m\u001b[0;32m      7\u001b[0m \u001b[1;33m\u001b[0m\u001b[0m\n\u001b[0;32m      8\u001b[0m \u001b[1;31m# Wyświetlenie pierwszych rekordów w tabeli projekt_fotowoltaika_2024\u001b[0m\u001b[1;33m\u001b[0m\u001b[1;33m\u001b[0m\u001b[0m\n",
      "\u001b[1;32mc:\\Users\\reszk\\anaconda3\\lib\\site-packages\\pandas\\io\\sql.py\u001b[0m in \u001b[0;36mread_sql\u001b[1;34m(sql, con, index_col, coerce_float, params, parse_dates, columns, chunksize)\u001b[0m\n\u001b[0;32m    591\u001b[0m         )\n\u001b[0;32m    592\u001b[0m     \u001b[1;32melse\u001b[0m\u001b[1;33m:\u001b[0m\u001b[1;33m\u001b[0m\u001b[1;33m\u001b[0m\u001b[0m\n\u001b[1;32m--> 593\u001b[1;33m         return pandas_sql.read_query(\n\u001b[0m\u001b[0;32m    594\u001b[0m             \u001b[0msql\u001b[0m\u001b[1;33m,\u001b[0m\u001b[1;33m\u001b[0m\u001b[1;33m\u001b[0m\u001b[0m\n\u001b[0;32m    595\u001b[0m             \u001b[0mindex_col\u001b[0m\u001b[1;33m=\u001b[0m\u001b[0mindex_col\u001b[0m\u001b[1;33m,\u001b[0m\u001b[1;33m\u001b[0m\u001b[1;33m\u001b[0m\u001b[0m\n",
      "\u001b[1;32mc:\\Users\\reszk\\anaconda3\\lib\\site-packages\\pandas\\io\\sql.py\u001b[0m in \u001b[0;36mread_query\u001b[1;34m(self, sql, index_col, coerce_float, parse_dates, params, chunksize, dtype)\u001b[0m\n\u001b[0;32m   1558\u001b[0m         \u001b[0margs\u001b[0m \u001b[1;33m=\u001b[0m \u001b[0m_convert_params\u001b[0m\u001b[1;33m(\u001b[0m\u001b[0msql\u001b[0m\u001b[1;33m,\u001b[0m \u001b[0mparams\u001b[0m\u001b[1;33m)\u001b[0m\u001b[1;33m\u001b[0m\u001b[1;33m\u001b[0m\u001b[0m\n\u001b[0;32m   1559\u001b[0m \u001b[1;33m\u001b[0m\u001b[0m\n\u001b[1;32m-> 1560\u001b[1;33m         \u001b[0mresult\u001b[0m \u001b[1;33m=\u001b[0m \u001b[0mself\u001b[0m\u001b[1;33m.\u001b[0m\u001b[0mexecute\u001b[0m\u001b[1;33m(\u001b[0m\u001b[1;33m*\u001b[0m\u001b[0margs\u001b[0m\u001b[1;33m)\u001b[0m\u001b[1;33m\u001b[0m\u001b[1;33m\u001b[0m\u001b[0m\n\u001b[0m\u001b[0;32m   1561\u001b[0m         \u001b[0mcolumns\u001b[0m \u001b[1;33m=\u001b[0m \u001b[0mresult\u001b[0m\u001b[1;33m.\u001b[0m\u001b[0mkeys\u001b[0m\u001b[1;33m(\u001b[0m\u001b[1;33m)\u001b[0m\u001b[1;33m\u001b[0m\u001b[1;33m\u001b[0m\u001b[0m\n\u001b[0;32m   1562\u001b[0m \u001b[1;33m\u001b[0m\u001b[0m\n",
      "\u001b[1;32mc:\\Users\\reszk\\anaconda3\\lib\\site-packages\\pandas\\io\\sql.py\u001b[0m in \u001b[0;36mexecute\u001b[1;34m(self, *args, **kwargs)\u001b[0m\n\u001b[0;32m   1403\u001b[0m     \u001b[1;32mdef\u001b[0m \u001b[0mexecute\u001b[0m\u001b[1;33m(\u001b[0m\u001b[0mself\u001b[0m\u001b[1;33m,\u001b[0m \u001b[1;33m*\u001b[0m\u001b[0margs\u001b[0m\u001b[1;33m,\u001b[0m \u001b[1;33m**\u001b[0m\u001b[0mkwargs\u001b[0m\u001b[1;33m)\u001b[0m\u001b[1;33m:\u001b[0m\u001b[1;33m\u001b[0m\u001b[1;33m\u001b[0m\u001b[0m\n\u001b[0;32m   1404\u001b[0m         \u001b[1;34m\"\"\"Simple passthrough to SQLAlchemy connectable\"\"\"\u001b[0m\u001b[1;33m\u001b[0m\u001b[1;33m\u001b[0m\u001b[0m\n\u001b[1;32m-> 1405\u001b[1;33m         \u001b[1;32mreturn\u001b[0m \u001b[0mself\u001b[0m\u001b[1;33m.\u001b[0m\u001b[0mconnectable\u001b[0m\u001b[1;33m.\u001b[0m\u001b[0mexecution_options\u001b[0m\u001b[1;33m(\u001b[0m\u001b[1;33m)\u001b[0m\u001b[1;33m.\u001b[0m\u001b[0mexecute\u001b[0m\u001b[1;33m(\u001b[0m\u001b[1;33m*\u001b[0m\u001b[0margs\u001b[0m\u001b[1;33m,\u001b[0m \u001b[1;33m**\u001b[0m\u001b[0mkwargs\u001b[0m\u001b[1;33m)\u001b[0m\u001b[1;33m\u001b[0m\u001b[1;33m\u001b[0m\u001b[0m\n\u001b[0m\u001b[0;32m   1406\u001b[0m \u001b[1;33m\u001b[0m\u001b[0m\n\u001b[0;32m   1407\u001b[0m     def read_table(\n",
      "\u001b[1;32mc:\\Users\\reszk\\anaconda3\\lib\\site-packages\\sqlalchemy\\engine\\base.py\u001b[0m in \u001b[0;36mexecute\u001b[1;34m(self, statement, *multiparams, **params)\u001b[0m\n\u001b[0;32m   1304\u001b[0m             )\n\u001b[0;32m   1305\u001b[0m         \u001b[1;32melse\u001b[0m\u001b[1;33m:\u001b[0m\u001b[1;33m\u001b[0m\u001b[1;33m\u001b[0m\u001b[0m\n\u001b[1;32m-> 1306\u001b[1;33m             \u001b[1;32mreturn\u001b[0m \u001b[0mmeth\u001b[0m\u001b[1;33m(\u001b[0m\u001b[0mself\u001b[0m\u001b[1;33m,\u001b[0m \u001b[0mmultiparams\u001b[0m\u001b[1;33m,\u001b[0m \u001b[0mparams\u001b[0m\u001b[1;33m,\u001b[0m \u001b[0m_EMPTY_EXECUTION_OPTS\u001b[0m\u001b[1;33m)\u001b[0m\u001b[1;33m\u001b[0m\u001b[1;33m\u001b[0m\u001b[0m\n\u001b[0m\u001b[0;32m   1307\u001b[0m \u001b[1;33m\u001b[0m\u001b[0m\n\u001b[0;32m   1308\u001b[0m     \u001b[1;32mdef\u001b[0m \u001b[0m_execute_function\u001b[0m\u001b[1;33m(\u001b[0m\u001b[0mself\u001b[0m\u001b[1;33m,\u001b[0m \u001b[0mfunc\u001b[0m\u001b[1;33m,\u001b[0m \u001b[0mmultiparams\u001b[0m\u001b[1;33m,\u001b[0m \u001b[0mparams\u001b[0m\u001b[1;33m,\u001b[0m \u001b[0mexecution_options\u001b[0m\u001b[1;33m)\u001b[0m\u001b[1;33m:\u001b[0m\u001b[1;33m\u001b[0m\u001b[1;33m\u001b[0m\u001b[0m\n",
      "\u001b[1;32mc:\\Users\\reszk\\anaconda3\\lib\\site-packages\\sqlalchemy\\sql\\elements.py\u001b[0m in \u001b[0;36m_execute_on_connection\u001b[1;34m(self, connection, multiparams, params, execution_options, _force)\u001b[0m\n\u001b[0;32m    330\u001b[0m     ):\n\u001b[0;32m    331\u001b[0m         \u001b[1;32mif\u001b[0m \u001b[0m_force\u001b[0m \u001b[1;32mor\u001b[0m \u001b[0mself\u001b[0m\u001b[1;33m.\u001b[0m\u001b[0msupports_execution\u001b[0m\u001b[1;33m:\u001b[0m\u001b[1;33m\u001b[0m\u001b[1;33m\u001b[0m\u001b[0m\n\u001b[1;32m--> 332\u001b[1;33m             return connection._execute_clauseelement(\n\u001b[0m\u001b[0;32m    333\u001b[0m                 \u001b[0mself\u001b[0m\u001b[1;33m,\u001b[0m \u001b[0mmultiparams\u001b[0m\u001b[1;33m,\u001b[0m \u001b[0mparams\u001b[0m\u001b[1;33m,\u001b[0m \u001b[0mexecution_options\u001b[0m\u001b[1;33m\u001b[0m\u001b[1;33m\u001b[0m\u001b[0m\n\u001b[0;32m    334\u001b[0m             )\n",
      "\u001b[1;32mc:\\Users\\reszk\\anaconda3\\lib\\site-packages\\sqlalchemy\\engine\\base.py\u001b[0m in \u001b[0;36m_execute_clauseelement\u001b[1;34m(self, elem, multiparams, params, execution_options)\u001b[0m\n\u001b[0;32m   1496\u001b[0m             \u001b[0mlinting\u001b[0m\u001b[1;33m=\u001b[0m\u001b[0mself\u001b[0m\u001b[1;33m.\u001b[0m\u001b[0mdialect\u001b[0m\u001b[1;33m.\u001b[0m\u001b[0mcompiler_linting\u001b[0m \u001b[1;33m|\u001b[0m \u001b[0mcompiler\u001b[0m\u001b[1;33m.\u001b[0m\u001b[0mWARN_LINTING\u001b[0m\u001b[1;33m,\u001b[0m\u001b[1;33m\u001b[0m\u001b[1;33m\u001b[0m\u001b[0m\n\u001b[0;32m   1497\u001b[0m         )\n\u001b[1;32m-> 1498\u001b[1;33m         ret = self._execute_context(\n\u001b[0m\u001b[0;32m   1499\u001b[0m             \u001b[0mdialect\u001b[0m\u001b[1;33m,\u001b[0m\u001b[1;33m\u001b[0m\u001b[1;33m\u001b[0m\u001b[0m\n\u001b[0;32m   1500\u001b[0m             \u001b[0mdialect\u001b[0m\u001b[1;33m.\u001b[0m\u001b[0mexecution_ctx_cls\u001b[0m\u001b[1;33m.\u001b[0m\u001b[0m_init_compiled\u001b[0m\u001b[1;33m,\u001b[0m\u001b[1;33m\u001b[0m\u001b[1;33m\u001b[0m\u001b[0m\n",
      "\u001b[1;32mc:\\Users\\reszk\\anaconda3\\lib\\site-packages\\sqlalchemy\\engine\\base.py\u001b[0m in \u001b[0;36m_execute_context\u001b[1;34m(self, dialect, constructor, statement, parameters, execution_options, *args, **kw)\u001b[0m\n\u001b[0;32m   1860\u001b[0m \u001b[1;33m\u001b[0m\u001b[0m\n\u001b[0;32m   1861\u001b[0m         \u001b[1;32mexcept\u001b[0m \u001b[0mBaseException\u001b[0m \u001b[1;32mas\u001b[0m \u001b[0me\u001b[0m\u001b[1;33m:\u001b[0m\u001b[1;33m\u001b[0m\u001b[1;33m\u001b[0m\u001b[0m\n\u001b[1;32m-> 1862\u001b[1;33m             self._handle_dbapi_exception(\n\u001b[0m\u001b[0;32m   1863\u001b[0m                 \u001b[0me\u001b[0m\u001b[1;33m,\u001b[0m \u001b[0mstatement\u001b[0m\u001b[1;33m,\u001b[0m \u001b[0mparameters\u001b[0m\u001b[1;33m,\u001b[0m \u001b[0mcursor\u001b[0m\u001b[1;33m,\u001b[0m \u001b[0mcontext\u001b[0m\u001b[1;33m\u001b[0m\u001b[1;33m\u001b[0m\u001b[0m\n\u001b[0;32m   1864\u001b[0m             )\n",
      "\u001b[1;32mc:\\Users\\reszk\\anaconda3\\lib\\site-packages\\sqlalchemy\\engine\\base.py\u001b[0m in \u001b[0;36m_handle_dbapi_exception\u001b[1;34m(self, e, statement, parameters, cursor, context)\u001b[0m\n\u001b[0;32m   2041\u001b[0m                 \u001b[0mutil\u001b[0m\u001b[1;33m.\u001b[0m\u001b[0mraise_\u001b[0m\u001b[1;33m(\u001b[0m\u001b[0mnewraise\u001b[0m\u001b[1;33m,\u001b[0m \u001b[0mwith_traceback\u001b[0m\u001b[1;33m=\u001b[0m\u001b[0mexc_info\u001b[0m\u001b[1;33m[\u001b[0m\u001b[1;36m2\u001b[0m\u001b[1;33m]\u001b[0m\u001b[1;33m,\u001b[0m \u001b[0mfrom_\u001b[0m\u001b[1;33m=\u001b[0m\u001b[0me\u001b[0m\u001b[1;33m)\u001b[0m\u001b[1;33m\u001b[0m\u001b[1;33m\u001b[0m\u001b[0m\n\u001b[0;32m   2042\u001b[0m             \u001b[1;32melif\u001b[0m \u001b[0mshould_wrap\u001b[0m\u001b[1;33m:\u001b[0m\u001b[1;33m\u001b[0m\u001b[1;33m\u001b[0m\u001b[0m\n\u001b[1;32m-> 2043\u001b[1;33m                 util.raise_(\n\u001b[0m\u001b[0;32m   2044\u001b[0m                     \u001b[0msqlalchemy_exception\u001b[0m\u001b[1;33m,\u001b[0m \u001b[0mwith_traceback\u001b[0m\u001b[1;33m=\u001b[0m\u001b[0mexc_info\u001b[0m\u001b[1;33m[\u001b[0m\u001b[1;36m2\u001b[0m\u001b[1;33m]\u001b[0m\u001b[1;33m,\u001b[0m \u001b[0mfrom_\u001b[0m\u001b[1;33m=\u001b[0m\u001b[0me\u001b[0m\u001b[1;33m\u001b[0m\u001b[1;33m\u001b[0m\u001b[0m\n\u001b[0;32m   2045\u001b[0m                 )\n",
      "\u001b[1;32mc:\\Users\\reszk\\anaconda3\\lib\\site-packages\\sqlalchemy\\util\\compat.py\u001b[0m in \u001b[0;36mraise_\u001b[1;34m(***failed resolving arguments***)\u001b[0m\n\u001b[0;32m    206\u001b[0m \u001b[1;33m\u001b[0m\u001b[0m\n\u001b[0;32m    207\u001b[0m         \u001b[1;32mtry\u001b[0m\u001b[1;33m:\u001b[0m\u001b[1;33m\u001b[0m\u001b[1;33m\u001b[0m\u001b[0m\n\u001b[1;32m--> 208\u001b[1;33m             \u001b[1;32mraise\u001b[0m \u001b[0mexception\u001b[0m\u001b[1;33m\u001b[0m\u001b[1;33m\u001b[0m\u001b[0m\n\u001b[0m\u001b[0;32m    209\u001b[0m         \u001b[1;32mfinally\u001b[0m\u001b[1;33m:\u001b[0m\u001b[1;33m\u001b[0m\u001b[1;33m\u001b[0m\u001b[0m\n\u001b[0;32m    210\u001b[0m             \u001b[1;31m# credit to\u001b[0m\u001b[1;33m\u001b[0m\u001b[1;33m\u001b[0m\u001b[0m\n",
      "\u001b[1;32mc:\\Users\\reszk\\anaconda3\\lib\\site-packages\\sqlalchemy\\engine\\base.py\u001b[0m in \u001b[0;36m_execute_context\u001b[1;34m(self, dialect, constructor, statement, parameters, execution_options, *args, **kw)\u001b[0m\n\u001b[0;32m   1817\u001b[0m                             \u001b[1;32mbreak\u001b[0m\u001b[1;33m\u001b[0m\u001b[1;33m\u001b[0m\u001b[0m\n\u001b[0;32m   1818\u001b[0m                 \u001b[1;32mif\u001b[0m \u001b[1;32mnot\u001b[0m \u001b[0mevt_handled\u001b[0m\u001b[1;33m:\u001b[0m\u001b[1;33m\u001b[0m\u001b[1;33m\u001b[0m\u001b[0m\n\u001b[1;32m-> 1819\u001b[1;33m                     self.dialect.do_execute(\n\u001b[0m\u001b[0;32m   1820\u001b[0m                         \u001b[0mcursor\u001b[0m\u001b[1;33m,\u001b[0m \u001b[0mstatement\u001b[0m\u001b[1;33m,\u001b[0m \u001b[0mparameters\u001b[0m\u001b[1;33m,\u001b[0m \u001b[0mcontext\u001b[0m\u001b[1;33m\u001b[0m\u001b[1;33m\u001b[0m\u001b[0m\n\u001b[0;32m   1821\u001b[0m                     )\n",
      "\u001b[1;32mc:\\Users\\reszk\\anaconda3\\lib\\site-packages\\sqlalchemy\\engine\\default.py\u001b[0m in \u001b[0;36mdo_execute\u001b[1;34m(self, cursor, statement, parameters, context)\u001b[0m\n\u001b[0;32m    730\u001b[0m \u001b[1;33m\u001b[0m\u001b[0m\n\u001b[0;32m    731\u001b[0m     \u001b[1;32mdef\u001b[0m \u001b[0mdo_execute\u001b[0m\u001b[1;33m(\u001b[0m\u001b[0mself\u001b[0m\u001b[1;33m,\u001b[0m \u001b[0mcursor\u001b[0m\u001b[1;33m,\u001b[0m \u001b[0mstatement\u001b[0m\u001b[1;33m,\u001b[0m \u001b[0mparameters\u001b[0m\u001b[1;33m,\u001b[0m \u001b[0mcontext\u001b[0m\u001b[1;33m=\u001b[0m\u001b[1;32mNone\u001b[0m\u001b[1;33m)\u001b[0m\u001b[1;33m:\u001b[0m\u001b[1;33m\u001b[0m\u001b[1;33m\u001b[0m\u001b[0m\n\u001b[1;32m--> 732\u001b[1;33m         \u001b[0mcursor\u001b[0m\u001b[1;33m.\u001b[0m\u001b[0mexecute\u001b[0m\u001b[1;33m(\u001b[0m\u001b[0mstatement\u001b[0m\u001b[1;33m,\u001b[0m \u001b[0mparameters\u001b[0m\u001b[1;33m)\u001b[0m\u001b[1;33m\u001b[0m\u001b[1;33m\u001b[0m\u001b[0m\n\u001b[0m\u001b[0;32m    733\u001b[0m \u001b[1;33m\u001b[0m\u001b[0m\n\u001b[0;32m    734\u001b[0m     \u001b[1;32mdef\u001b[0m \u001b[0mdo_execute_no_params\u001b[0m\u001b[1;33m(\u001b[0m\u001b[0mself\u001b[0m\u001b[1;33m,\u001b[0m \u001b[0mcursor\u001b[0m\u001b[1;33m,\u001b[0m \u001b[0mstatement\u001b[0m\u001b[1;33m,\u001b[0m \u001b[0mcontext\u001b[0m\u001b[1;33m=\u001b[0m\u001b[1;32mNone\u001b[0m\u001b[1;33m)\u001b[0m\u001b[1;33m:\u001b[0m\u001b[1;33m\u001b[0m\u001b[1;33m\u001b[0m\u001b[0m\n",
      "\u001b[1;31mOperationalError\u001b[0m: (sqlite3.OperationalError) no such table: projekt_fotowoltaika_2024\n[SQL: SELECT * FROM projekt_fotowoltaika_2024 LIMIT 5;]\n(Background on this error at: https://sqlalche.me/e/14/e3q8)"
     ]
    }
   ],
   "source": [
    "# Sprawdzenie kilku pierwszych rekordów z tabeli projekt_fotowoltaika_2024\n",
    "with engine.connect() as con:\n",
    "    # Definiowanie zapytania SQL do pobrania pierwszych 5 rekordów z tabeli\n",
    "    query = text(\"SELECT * FROM projekt_fotowoltaika_2024 LIMIT 5;\")\n",
    "    # Wykonanie zapytania i załadowanie wyników do DataFrame\n",
    "    example_data = pd.read_sql(query, con)\n",
    "\n",
    "# Wyświetlenie pierwszych rekordów w tabeli projekt_fotowoltaika_2024\n",
    "print('Pierwsze rekordy w tabeli projekt_fotowoltaika_2024:')\n",
    "print(example_data)"
   ]
  },
  {
   "cell_type": "code",
   "execution_count": 9,
   "metadata": {
    "execution": {
     "iopub.execute_input": "2024-05-14T11:31:13.149995Z",
     "iopub.status.busy": "2024-05-14T11:31:13.147997Z",
     "iopub.status.idle": "2024-05-14T11:31:13.159969Z",
     "shell.execute_reply": "2024-05-14T11:31:13.158973Z"
    }
   },
   "outputs": [
    {
     "name": "stdout",
     "output_type": "stream",
     "text": [
      "Informacje o kolumnach:\n",
      "    cid          name    type  notnull dflt_value  pk\n",
      "0     0    Unnamed: 0  BIGINT        0       None   0\n",
      "1     1          date    TEXT        0       None   0\n",
      "2     2     city_name    TEXT        0       None   0\n",
      "3     3           lat   FLOAT        0       None   0\n",
      "4     4           lon   FLOAT        0       None   0\n",
      "5     5          temp   FLOAT        0       None   0\n",
      "6     6    feels_like   FLOAT        0       None   0\n",
      "7     7      temp_min   FLOAT        0       None   0\n",
      "8     8      temp_max   FLOAT        0       None   0\n",
      "9     9      pressure   FLOAT        0       None   0\n",
      "10   10      humidity   FLOAT        0       None   0\n",
      "11   11    wind_speed   FLOAT        0       None   0\n",
      "12   12    clouds_all   FLOAT        0       None   0\n",
      "13   13  weather_main    TEXT        0       None   0\n"
     ]
    }
   ],
   "source": [
    "# Sprawdzenie struktury tabeli (nazwy kolumn)\n",
    "with engine.connect() as con:\n",
    "    # Definiowanie zapytania SQL do pobrania informacji o kolumnach w tabeli\n",
    "    query = text(\"PRAGMA table_info(projekt_fotowoltaika_2024);\")\n",
    "    # Wykonanie zapytania i załadowanie wyników do DataFrame\n",
    "    columns_info = pd.read_sql(query, con)\n",
    "\n",
    "# Wyświetlenie informacji o kolumnach\n",
    "print('Informacje o kolumnach:')\n",
    "print(columns_info)"
   ]
  }
 ],
 "metadata": {
  "kernelspec": {
   "display_name": "Python 3",
   "language": "python",
   "name": "python3"
  },
  "language_info": {
   "codemirror_mode": {
    "name": "ipython",
    "version": 3
   },
   "file_extension": ".py",
   "mimetype": "text/x-python",
   "name": "python",
   "nbconvert_exporter": "python",
   "pygments_lexer": "ipython3",
   "version": "3.9.13"
  }
 },
 "nbformat": 4,
 "nbformat_minor": 2
}
