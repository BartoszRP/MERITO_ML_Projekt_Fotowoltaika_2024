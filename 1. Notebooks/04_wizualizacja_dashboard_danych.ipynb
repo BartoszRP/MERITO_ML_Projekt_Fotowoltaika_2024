{
 "cells": [
  {
   "cell_type": "markdown",
   "metadata": {},
   "source": [
    "Wytłumaczenie kodu:\n",
    "Dropdown: Pozwala użytkownikowi wybierać lokalizacje.\n",
    "Mapa: Używam biblioteki dash_leaflet do stworzenia interaktywnej mapy.\n",
    "Callback: Funkcja w Dash, która aktualizuje pozycję markera i centrum mapy na podstawie wybranej lokalizacji.\n",
    "Po uruchomieniu tego kodu, Dash utworzy lokalny serwer, na którym będzie dostępna aplikacja z mapą i listą rozwijaną. Użytkownik będzie mógł wybrać lokalizację z listy, a mapa automatycznie skupi się na wybranej lokalizacji."
   ]
  },
  {
   "cell_type": "code",
   "execution_count": 6,
   "metadata": {},
   "outputs": [
    {
     "data": {
      "text/html": [
       "\n",
       "        <iframe\n",
       "            width=\"100%\"\n",
       "            height=\"650\"\n",
       "            src=\"http://127.0.0.1:8050/\"\n",
       "            frameborder=\"0\"\n",
       "            allowfullscreen\n",
       "        ></iframe>\n",
       "        "
      ],
      "text/plain": [
       "<IPython.lib.display.IFrame at 0x2639eba3700>"
      ]
     },
     "metadata": {},
     "output_type": "display_data"
    }
   ],
   "source": [
    "import dash\n",
    "from dash import dcc, html\n",
    "from dash.dependencies import Input, Output\n",
    "import dash_leaflet as dl\n",
    "\n",
    "# Dane lokalizacji\n",
    "locations = {\n",
    "    'Baden_Baden': {'lat': 48.765640, 'lon': 8.228524},\n",
    "    'Bozanska': {'lat': 54.473028, 'lon': 18.302179},\n",
    "    'Walcz_Drugi': {'lat': 53.257039, 'lon': 16.521203}\n",
    "}\n",
    "\n",
    "# Inicjalizacja aplikacji Dash\n",
    "app = dash.Dash(__name__)\n",
    "\n",
    "# Struktura aplikacji\n",
    "app.layout = html.Div([\n",
    "    dl.Map([\n",
    "        dl.TileLayer(),  # Warstwa kafelków mapy\n",
    "        dl.Marker(position=(48.765640, 8.228524), id='map-marker')  # Marker z początkową pozycją\n",
    "    ], id='map', style={'width': '100%', 'height': '50vh'}, center=(50, 10), zoom=4),\n",
    "    html.Div([  # Kontener dla menu rozwijanego\n",
    "        dcc.Dropdown(\n",
    "            id='location-dropdown',\n",
    "            options=[{'label': loc, 'value': loc} for loc in locations.keys()],\n",
    "            value='Bozanska',  # Wartość domyślna\n",
    "            style={'width': '40%'}  # Zmniejszenie szerokości dropdown\n",
    "        )\n",
    "    ], style={'position': 'absolute', 'bottom': 10, 'left': 10, 'width': '100%', 'z-index': '1000'})\n",
    "], style={'position': 'relative'})\n",
    "\n",
    "# Callback do aktualizacji markera i centrum mapy\n",
    "@app.callback(\n",
    "    [Output('map-marker', 'position'),\n",
    "     Output('map', 'center')],\n",
    "    [Input('location-dropdown', 'value')]\n",
    ")\n",
    "def update_map(selected_location):\n",
    "    lat_lon = locations[selected_location]\n",
    "    return (lat_lon['lat'], lat_lon['lon']), (lat_lon['lat'], lat_lon['lon'])\n",
    "\n",
    "# Uruchomienie serwera\n",
    "if __name__ == '__main__':\n",
    "    app.run_server(debug=True)\n"
   ]
  },
  {
   "cell_type": "markdown",
   "metadata": {},
   "source": [
    "w dashu1 beda pokazywane ogolne wykresy historyczne i beda dynamicznie sie zminiec na podstawie wybranej lokalizacji, tez obliczone wartosci dla paneli slonecznych\n",
    "\n",
    "w dashu 2 bedzie to samo tylko z predykcja"
   ]
  }
 ],
 "metadata": {
  "kernelspec": {
   "display_name": "Python 3",
   "language": "python",
   "name": "python3"
  },
  "language_info": {
   "codemirror_mode": {
    "name": "ipython",
    "version": 3
   },
   "file_extension": ".py",
   "mimetype": "text/x-python",
   "name": "python",
   "nbconvert_exporter": "python",
   "pygments_lexer": "ipython3",
   "version": "3.9.1"
  }
 },
 "nbformat": 4,
 "nbformat_minor": 2
}
