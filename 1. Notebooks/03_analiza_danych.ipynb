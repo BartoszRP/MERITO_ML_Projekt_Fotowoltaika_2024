{
 "cells": [
  {
   "cell_type": "markdown",
   "metadata": {},
   "source": [
    "## Analiza Danych"
   ]
  },
  {
   "cell_type": "markdown",
   "metadata": {},
   "source": [
    "Aby ocenić opłacalność paneli fotowoltaicznych na podstawie Twojej ramki danych, najpierw warto zrozumieć, jakie informacje zawiera. Spójrzmy na dane, aby zobaczyć, co mamy do dyspozycji i jak możemy na tej podstawie analizować opłacalność instalacji fotowoltaicznych.\n",
    "\n",
    "Co do wzoru na produkcję energii z paneli fotowoltaicznych, istnieje kilka podstawowych czynników wpływających na ilość generowanej energii, takich jak moc zainstalowana (w kWp), nasłonecznienie (w kWh/m²), efektywność paneli oraz liczba godzin słonecznych. Zazwyczaj wydajność instalacji fotowoltaicznej wyraża się wzorem:\n",
    "\n",
    "\n",
    "E=P×H×PR\n",
    "gdzie:\n",
    "\n",
    "E jest wyprodukowaną energią elektryczną w kWh,\n",
    "\n",
    "P oznacza moc zainstalowaną w kWp,\n",
    "\n",
    "H jest średnim rocznym nasłonecznieniem na jednostkę powierzchni (w kWh/m²),\n",
    "\n",
    "PR to współczynnik wydajności (Performance Ratio), który uwzględnia straty systemowe i realne warunki pracy (zwykle w przedziale 0,75 do 0,85)."
   ]
  },
  {
   "cell_type": "markdown",
   "metadata": {},
   "source": [
    "Z Twoich danych wynika, że zawierają one informacje o temperaturze, uczuciu temperatury, minimalnej i maksymalnej temperaturze, ciśnieniu, wilgotności, prędkości wiatru, zachmurzeniu i głównych warunkach pogodowych dla różnych miast i dni. Kluczowe kolumny to:\n",
    "\n",
    "date: data pomiaru,\n",
    "city_name: nazwa miasta,\n",
    "temp: średnia temperatura,\n",
    "feels_like: temperatura odczuwalna,\n",
    "temp_min i temp_max: minimalna i maksymalna temperatura,\n",
    "pressure: ciśnienie,\n",
    "humidity: wilgotność,\n",
    "wind_speed: prędkość wiatru,\n",
    "clouds_all: poziom zachmurzenia,\n",
    "weather_main: główne warunki pogodowe.\n",
    "\n",
    "Aby analizować opłacalność paneli fotowoltaicznych, przydałaby się informacja o nasłonecznieniu, które jest kluczowe do obliczenia potencjalnej produkcji energii. W Twojej ramce danych nie ma bezpośrednich informacji o nasłonecznieniu ani o mocy zainstalowanych paneli fotowoltaicznyc"
   ]
  },
  {
   "cell_type": "markdown",
   "metadata": {},
   "source": [
    "**Oszacowanie nasłonecznienia**\n",
    "Clouds_all: Kolumna ta pokazuje stopień zachmurzenia w procentach. Można przyjąć, że dni z mniejszym zachmurzeniem (np. poniżej 20-30%) są bardziej nasłonecznione.\n",
    "Weather_main: Ta kolumna wskazuje główne warunki pogodowe, takie jak \"Clear\", \"Clouds\", \"Rain\", itp. Dni z \"Clear\" można uznać za pełne nasłonecznienie, podczas gdy \"Clouds\" mogą być traktowane jako częściowo nasłonecznione w zależności od stopnia zachmurzenia.\n",
    "\n",
    "**Wpływ temperatury**\n",
    "Temperatura, zwłaszcza temp_max, może mieć wpływ na efektywność paneli fotowoltaicznych. Zwykle panele fotowoltaiczne są najbardziej efektywne w umiarkowanych temperaturach, a ich wydajność spada zarówno w bardzo wysokich, jak i bardzo niskich temperaturach. Można uwzględnić temperaturę w analizie, choć jej wpływ na ogólną wydajność paneli jest mniej bezpośredni niż nasłonecznienie.\n",
    "\n",
    "**Proponowane obliczenia**\n",
    "Mogę pomóc stworzyć prosty model oszacowania dni nasłonecznionych na podstawie danych clouds_all i weather_main, a następnie użyć tego oszacowania, by przybliżyć potencjalną produkcję energii, jeśli podasz przykładową moc zainstalowaną dla paneli. Czy chciałbyś, żebym przeprowadził taką analizę na Twoich danych? Jeśli tak, proszę podaj moc zainstalowaną, którą chciałbyś użyć w obliczeniach."
   ]
  },
  {
   "cell_type": "code",
   "execution_count": 1,
   "metadata": {},
   "outputs": [],
   "source": [
    "import pandas as pd\n",
    "from sqlalchemy import create_engine, text"
   ]
  },
  {
   "cell_type": "code",
   "execution_count": 2,
   "metadata": {},
   "outputs": [],
   "source": [
    "# Wczytanie danych z bazy danych.\n",
    "\n",
    "# Ścieżka do pliku bazy danych SQLite\n",
    "sqlite_db_path = r'../5. Baza_Danych/projekt_fotowoltaika_2024.db'"
   ]
  },
  {
   "cell_type": "code",
   "execution_count": 3,
   "metadata": {},
   "outputs": [],
   "source": [
    "# Tworzenie połączenia z bazą danych\n",
    "engine = create_engine(f'sqlite:///{sqlite_db_path}')"
   ]
  },
  {
   "cell_type": "code",
   "execution_count": 4,
   "metadata": {},
   "outputs": [
    {
     "name": "stdout",
     "output_type": "stream",
     "text": [
      "Lista tabel: [('projekt_fotowoltaika_2024',)]\n"
     ]
    }
   ],
   "source": [
    "# Zapytanie o listę tabel w bazie danych\n",
    "with engine.connect() as con:\n",
    "    tables_list = con.execute(text(\"SELECT name FROM sqlite_master WHERE type='table';\")).fetchall()\n",
    "    print('Lista tabel:', tables_list)"
   ]
  },
  {
   "cell_type": "code",
   "execution_count": 5,
   "metadata": {},
   "outputs": [],
   "source": [
    "# Wczytanie danych do DataFrame.\n",
    "with engine.connect() as con:\n",
    "    query = text(\"SELECT * FROM projekt_fotowoltaika_2024;\")\n",
    "    df_weather_db = pd.read_sql(query, con)"
   ]
  },
  {
   "cell_type": "code",
   "execution_count": 6,
   "metadata": {},
   "outputs": [
    {
     "data": {
      "text/html": [
       "<div>\n",
       "<style scoped>\n",
       "    .dataframe tbody tr th:only-of-type {\n",
       "        vertical-align: middle;\n",
       "    }\n",
       "\n",
       "    .dataframe tbody tr th {\n",
       "        vertical-align: top;\n",
       "    }\n",
       "\n",
       "    .dataframe thead th {\n",
       "        text-align: right;\n",
       "    }\n",
       "</style>\n",
       "<table border=\"1\" class=\"dataframe\">\n",
       "  <thead>\n",
       "    <tr style=\"text-align: right;\">\n",
       "      <th></th>\n",
       "      <th>Unnamed: 0</th>\n",
       "      <th>date</th>\n",
       "      <th>city_name</th>\n",
       "      <th>lat</th>\n",
       "      <th>lon</th>\n",
       "      <th>temp</th>\n",
       "      <th>feels_like</th>\n",
       "      <th>temp_min</th>\n",
       "      <th>temp_max</th>\n",
       "      <th>pressure</th>\n",
       "      <th>humidity</th>\n",
       "      <th>wind_speed</th>\n",
       "      <th>clouds_all</th>\n",
       "      <th>weather_main</th>\n",
       "    </tr>\n",
       "  </thead>\n",
       "  <tbody>\n",
       "    <tr>\n",
       "      <th>0</th>\n",
       "      <td>0</td>\n",
       "      <td>1979-01-01</td>\n",
       "      <td>Baden_Baden</td>\n",
       "      <td>48.765640</td>\n",
       "      <td>8.228524</td>\n",
       "      <td>-10.442083</td>\n",
       "      <td>-16.532917</td>\n",
       "      <td>-16.18</td>\n",
       "      <td>3.02</td>\n",
       "      <td>1013.666667</td>\n",
       "      <td>81.916667</td>\n",
       "      <td>3.681667</td>\n",
       "      <td>100</td>\n",
       "      <td>Snow</td>\n",
       "    </tr>\n",
       "    <tr>\n",
       "      <th>1</th>\n",
       "      <td>1</td>\n",
       "      <td>1979-01-01</td>\n",
       "      <td>Bozanska</td>\n",
       "      <td>54.473028</td>\n",
       "      <td>18.302179</td>\n",
       "      <td>-14.100000</td>\n",
       "      <td>-20.617500</td>\n",
       "      <td>-19.14</td>\n",
       "      <td>-9.46</td>\n",
       "      <td>1002.416667</td>\n",
       "      <td>82.000000</td>\n",
       "      <td>6.157917</td>\n",
       "      <td>100</td>\n",
       "      <td>Snow</td>\n",
       "    </tr>\n",
       "    <tr>\n",
       "      <th>2</th>\n",
       "      <td>2</td>\n",
       "      <td>1979-01-01</td>\n",
       "      <td>Walcz_Drugi</td>\n",
       "      <td>53.257039</td>\n",
       "      <td>16.521203</td>\n",
       "      <td>-16.437083</td>\n",
       "      <td>-23.322500</td>\n",
       "      <td>-21.26</td>\n",
       "      <td>-9.57</td>\n",
       "      <td>1003.708333</td>\n",
       "      <td>82.416667</td>\n",
       "      <td>3.682083</td>\n",
       "      <td>100</td>\n",
       "      <td>Clouds</td>\n",
       "    </tr>\n",
       "    <tr>\n",
       "      <th>3</th>\n",
       "      <td>3</td>\n",
       "      <td>1979-01-02</td>\n",
       "      <td>Baden_Baden</td>\n",
       "      <td>48.765640</td>\n",
       "      <td>8.228524</td>\n",
       "      <td>-8.856667</td>\n",
       "      <td>-14.874167</td>\n",
       "      <td>-15.82</td>\n",
       "      <td>-3.96</td>\n",
       "      <td>1024.250000</td>\n",
       "      <td>84.208333</td>\n",
       "      <td>4.524583</td>\n",
       "      <td>100</td>\n",
       "      <td>Snow</td>\n",
       "    </tr>\n",
       "    <tr>\n",
       "      <th>4</th>\n",
       "      <td>4</td>\n",
       "      <td>1979-01-02</td>\n",
       "      <td>Bozanska</td>\n",
       "      <td>54.473028</td>\n",
       "      <td>18.302179</td>\n",
       "      <td>-9.037917</td>\n",
       "      <td>-15.179167</td>\n",
       "      <td>-14.14</td>\n",
       "      <td>-7.40</td>\n",
       "      <td>1004.791667</td>\n",
       "      <td>85.375000</td>\n",
       "      <td>4.449583</td>\n",
       "      <td>100</td>\n",
       "      <td>Clouds</td>\n",
       "    </tr>\n",
       "  </tbody>\n",
       "</table>\n",
       "</div>"
      ],
      "text/plain": [
       "   Unnamed: 0        date    city_name        lat        lon       temp  \\\n",
       "0           0  1979-01-01  Baden_Baden  48.765640   8.228524 -10.442083   \n",
       "1           1  1979-01-01     Bozanska  54.473028  18.302179 -14.100000   \n",
       "2           2  1979-01-01  Walcz_Drugi  53.257039  16.521203 -16.437083   \n",
       "3           3  1979-01-02  Baden_Baden  48.765640   8.228524  -8.856667   \n",
       "4           4  1979-01-02     Bozanska  54.473028  18.302179  -9.037917   \n",
       "\n",
       "   feels_like  temp_min  temp_max     pressure   humidity  wind_speed  \\\n",
       "0  -16.532917    -16.18      3.02  1013.666667  81.916667    3.681667   \n",
       "1  -20.617500    -19.14     -9.46  1002.416667  82.000000    6.157917   \n",
       "2  -23.322500    -21.26     -9.57  1003.708333  82.416667    3.682083   \n",
       "3  -14.874167    -15.82     -3.96  1024.250000  84.208333    4.524583   \n",
       "4  -15.179167    -14.14     -7.40  1004.791667  85.375000    4.449583   \n",
       "\n",
       "   clouds_all weather_main  \n",
       "0         100         Snow  \n",
       "1         100         Snow  \n",
       "2         100       Clouds  \n",
       "3         100         Snow  \n",
       "4         100       Clouds  "
      ]
     },
     "execution_count": 6,
     "metadata": {},
     "output_type": "execute_result"
    }
   ],
   "source": [
    "df_weather_db.head()"
   ]
  },
  {
   "cell_type": "code",
   "execution_count": 7,
   "metadata": {},
   "outputs": [],
   "source": [
    "# Usunięcie kolumny 'Unnamed: 0'\n",
    "df_weather_db.drop(columns=['Unnamed: 0'], inplace=True)"
   ]
  },
  {
   "cell_type": "code",
   "execution_count": 8,
   "metadata": {},
   "outputs": [],
   "source": [
    "#Ustawienie kolumny \"data\" jako index\n",
    "#df_weather_db.set_index('date', inplace=True)"
   ]
  },
  {
   "cell_type": "code",
   "execution_count": 9,
   "metadata": {},
   "outputs": [
    {
     "data": {
      "text/html": [
       "<div>\n",
       "<style scoped>\n",
       "    .dataframe tbody tr th:only-of-type {\n",
       "        vertical-align: middle;\n",
       "    }\n",
       "\n",
       "    .dataframe tbody tr th {\n",
       "        vertical-align: top;\n",
       "    }\n",
       "\n",
       "    .dataframe thead th {\n",
       "        text-align: right;\n",
       "    }\n",
       "</style>\n",
       "<table border=\"1\" class=\"dataframe\">\n",
       "  <thead>\n",
       "    <tr style=\"text-align: right;\">\n",
       "      <th></th>\n",
       "      <th>date</th>\n",
       "      <th>city_name</th>\n",
       "      <th>lat</th>\n",
       "      <th>lon</th>\n",
       "      <th>temp</th>\n",
       "      <th>feels_like</th>\n",
       "      <th>temp_min</th>\n",
       "      <th>temp_max</th>\n",
       "      <th>pressure</th>\n",
       "      <th>humidity</th>\n",
       "      <th>wind_speed</th>\n",
       "      <th>clouds_all</th>\n",
       "      <th>weather_main</th>\n",
       "    </tr>\n",
       "  </thead>\n",
       "  <tbody>\n",
       "    <tr>\n",
       "      <th>0</th>\n",
       "      <td>1979-01-01</td>\n",
       "      <td>Baden_Baden</td>\n",
       "      <td>48.765640</td>\n",
       "      <td>8.228524</td>\n",
       "      <td>-10.442083</td>\n",
       "      <td>-16.532917</td>\n",
       "      <td>-16.18</td>\n",
       "      <td>3.02</td>\n",
       "      <td>1013.666667</td>\n",
       "      <td>81.916667</td>\n",
       "      <td>3.681667</td>\n",
       "      <td>100</td>\n",
       "      <td>Snow</td>\n",
       "    </tr>\n",
       "    <tr>\n",
       "      <th>1</th>\n",
       "      <td>1979-01-01</td>\n",
       "      <td>Bozanska</td>\n",
       "      <td>54.473028</td>\n",
       "      <td>18.302179</td>\n",
       "      <td>-14.100000</td>\n",
       "      <td>-20.617500</td>\n",
       "      <td>-19.14</td>\n",
       "      <td>-9.46</td>\n",
       "      <td>1002.416667</td>\n",
       "      <td>82.000000</td>\n",
       "      <td>6.157917</td>\n",
       "      <td>100</td>\n",
       "      <td>Snow</td>\n",
       "    </tr>\n",
       "    <tr>\n",
       "      <th>2</th>\n",
       "      <td>1979-01-01</td>\n",
       "      <td>Walcz_Drugi</td>\n",
       "      <td>53.257039</td>\n",
       "      <td>16.521203</td>\n",
       "      <td>-16.437083</td>\n",
       "      <td>-23.322500</td>\n",
       "      <td>-21.26</td>\n",
       "      <td>-9.57</td>\n",
       "      <td>1003.708333</td>\n",
       "      <td>82.416667</td>\n",
       "      <td>3.682083</td>\n",
       "      <td>100</td>\n",
       "      <td>Clouds</td>\n",
       "    </tr>\n",
       "    <tr>\n",
       "      <th>3</th>\n",
       "      <td>1979-01-02</td>\n",
       "      <td>Baden_Baden</td>\n",
       "      <td>48.765640</td>\n",
       "      <td>8.228524</td>\n",
       "      <td>-8.856667</td>\n",
       "      <td>-14.874167</td>\n",
       "      <td>-15.82</td>\n",
       "      <td>-3.96</td>\n",
       "      <td>1024.250000</td>\n",
       "      <td>84.208333</td>\n",
       "      <td>4.524583</td>\n",
       "      <td>100</td>\n",
       "      <td>Snow</td>\n",
       "    </tr>\n",
       "    <tr>\n",
       "      <th>4</th>\n",
       "      <td>1979-01-02</td>\n",
       "      <td>Bozanska</td>\n",
       "      <td>54.473028</td>\n",
       "      <td>18.302179</td>\n",
       "      <td>-9.037917</td>\n",
       "      <td>-15.179167</td>\n",
       "      <td>-14.14</td>\n",
       "      <td>-7.40</td>\n",
       "      <td>1004.791667</td>\n",
       "      <td>85.375000</td>\n",
       "      <td>4.449583</td>\n",
       "      <td>100</td>\n",
       "      <td>Clouds</td>\n",
       "    </tr>\n",
       "  </tbody>\n",
       "</table>\n",
       "</div>"
      ],
      "text/plain": [
       "         date    city_name        lat        lon       temp  feels_like  \\\n",
       "0  1979-01-01  Baden_Baden  48.765640   8.228524 -10.442083  -16.532917   \n",
       "1  1979-01-01     Bozanska  54.473028  18.302179 -14.100000  -20.617500   \n",
       "2  1979-01-01  Walcz_Drugi  53.257039  16.521203 -16.437083  -23.322500   \n",
       "3  1979-01-02  Baden_Baden  48.765640   8.228524  -8.856667  -14.874167   \n",
       "4  1979-01-02     Bozanska  54.473028  18.302179  -9.037917  -15.179167   \n",
       "\n",
       "   temp_min  temp_max     pressure   humidity  wind_speed  clouds_all  \\\n",
       "0    -16.18      3.02  1013.666667  81.916667    3.681667         100   \n",
       "1    -19.14     -9.46  1002.416667  82.000000    6.157917         100   \n",
       "2    -21.26     -9.57  1003.708333  82.416667    3.682083         100   \n",
       "3    -15.82     -3.96  1024.250000  84.208333    4.524583         100   \n",
       "4    -14.14     -7.40  1004.791667  85.375000    4.449583         100   \n",
       "\n",
       "  weather_main  \n",
       "0         Snow  \n",
       "1         Snow  \n",
       "2       Clouds  \n",
       "3         Snow  \n",
       "4       Clouds  "
      ]
     },
     "execution_count": 9,
     "metadata": {},
     "output_type": "execute_result"
    }
   ],
   "source": [
    "df_weather_db.head()"
   ]
  },
  {
   "cell_type": "code",
   "execution_count": 14,
   "metadata": {},
   "outputs": [
    {
     "name": "stderr",
     "output_type": "stream",
     "text": [
      "C:\\Users\\reszbart\\AppData\\Local\\Temp/ipykernel_24704/1055016808.py:17: FutureWarning: The geopandas.dataset module is deprecated and will be removed in GeoPandas 1.0. You can get the original 'naturalearth_lowres' data from https://www.naturalearthdata.com/downloads/110m-cultural-vectors/.\n",
      "  world = gpd.read_file(gpd.datasets.get_path('naturalearth_lowres'))\n"
     ]
    },
    {
     "data": {
      "image/png": "[encoded data removed]",
      "text/plain": [
       "<Figure size 720x432 with 1 Axes>"
      ]
     },
     "metadata": {
      "needs_background": "light"
     },
     "output_type": "display_data"
    }
   ],
   "source": [
    "import geopandas as gpd\n",
    "import pandas as pd\n",
    "import matplotlib.pyplot as plt\n",
    "\n",
    "# Przykładowe dane, jeśli masz już szerokość i długość geograficzną:\n",
    "data = {\n",
    "    'City': ['Baden_Baden', 'Bozanska', 'Walcz_Drugi'],\n",
    "    'Latitude': [48.765640, 54.473028, 53.257039],\n",
    "    'Longitude': [8.228524, 18.302179, 16.521203]\n",
    "}\n",
    "df = pd.DataFrame(data)\n",
    "\n",
    "# Konwersja danych DataFrame na GeoDataFrame\n",
    "gdf = gpd.GeoDataFrame(df, geometry=gpd.points_from_xy(df.Longitude, df.Latitude))\n",
    "\n",
    "# Tworzenie mapy i skupienie na Europie\n",
    "world = gpd.read_file(gpd.datasets.get_path('naturalearth_lowres'))\n",
    "\n",
    "# Definiowanie granic dla mapy Europy\n",
    "ax = world.plot(figsize=(10, 6), color='whitesmoke', edgecolor='black', linewidth=1)\n",
    "gdf.plot(ax=ax, color='red', markersize=50)\n",
    "\n",
    "# Ustawienie zakresu dla Europy\n",
    "ax.set_xlim(-10, 30)  # Długość geograficzna od -10 do 30\n",
    "ax.set_ylim(35, 70)  # Szerokość geograficzna od 35 do 70\n",
    "\n",
    "plt.show()\n",
    "\n"
   ]
  },
  {
   "cell_type": "markdown",
   "metadata": {},
   "source": [
    "moze tutaj zrobimy jeszcze raz wstepne sprawdzenia danych, jakie typy sa, ile jest pustych wartosci itp"
   ]
  },
  {
   "cell_type": "markdown",
   "metadata": {},
   "source": [
    "tutaj moze jakies wstepne wykresy pokazujace zeby zobaczyc dane jak sie ksztaltowalo to:\n",
    "- miejsce na mapie\n",
    "- jak ksztaltuje sie pogoda na przestrzeni lat (temp, wiatr szybkosc, zachmurzenie, weather main)\n",
    "- na podstawie tych danych mopodejmujemy kroki nizej, czyli zakaldamy prosta hipoteze na potrzeby proejktu zeby obliczyc oplacalnosc potrzebujemy naslonecznienia oraz temperatury\n",
    "- uzupelniamy ramke tymi danymi, wyswietlamy wykresy dla nich.\n",
    "- z przygotowanymi danymi mozemy przygotowac wizualizacje i dashboard 1 dla wartosci hsitorycznych (dashboard 2 bedzie predykcja)"
   ]
  },
  {
   "cell_type": "markdown",
   "metadata": {},
   "source": [
    "Jeśli planujesz prezentację, która kompleksowo ilustruje wpływ różnych czynników na produkcję energii, lepiej podejść do tego zadania w sposób holistyczny od samego początku. Możemy połączyć analizę wpływu dni nasłonecznionych oraz temperatury na produkcję energii, uwzględniając oba te czynniki jednocześnie w obliczeniach. Dzięki temu uzyskasz bardziej precyzyjne i zintegrowane wyniki, które będą lepiej oddawały rzeczywiste warunki pracy paneli fotowoltaicznych.\n",
    "\n",
    "Proponowane kroki:\n",
    "Obliczenie potencjalnej produkcji energii dla każdej lokalizacji i każdego miesiąca, uwzględniając liczby dni nasłonecznionych oraz temperatury.\n",
    "Korekta produkcji energii na podstawie temperatury: Wyższe temperatury mogą obniżać wydajność paneli, szczególnie w bardzo ciepłe dni. Ustalimy funkcję korekty wydajności na podstawie temperatury."
   ]
  },
  {
   "cell_type": "code",
   "execution_count": 10,
   "metadata": {},
   "outputs": [
    {
     "ename": "NameError",
     "evalue": "name 'data' is not defined",
     "output_type": "error",
     "traceback": [
      "\u001b[1;31m---------------------------------------------------------------------------\u001b[0m",
      "\u001b[1;31mNameError\u001b[0m                                 Traceback (most recent call last)",
      "\u001b[1;32m~\\AppData\\Local\\Temp/ipykernel_24704/411375805.py\u001b[0m in \u001b[0;36m<module>\u001b[1;34m\u001b[0m\n\u001b[0;32m      2\u001b[0m \u001b[1;33m\u001b[0m\u001b[0m\n\u001b[0;32m      3\u001b[0m \u001b[1;31m# Ustalamy kryteria dla dni nasłonecznionych\u001b[0m\u001b[1;33m\u001b[0m\u001b[1;33m\u001b[0m\u001b[1;33m\u001b[0m\u001b[0m\n\u001b[1;32m----> 4\u001b[1;33m \u001b[0mdata\u001b[0m\u001b[1;33m[\u001b[0m\u001b[1;34m'sunny_day'\u001b[0m\u001b[1;33m]\u001b[0m \u001b[1;33m=\u001b[0m \u001b[1;33m(\u001b[0m\u001b[0mdata\u001b[0m\u001b[1;33m[\u001b[0m\u001b[1;34m'clouds_all'\u001b[0m\u001b[1;33m]\u001b[0m \u001b[1;33m<\u001b[0m \u001b[1;36m30\u001b[0m\u001b[1;33m)\u001b[0m \u001b[1;33m|\u001b[0m \u001b[1;33m(\u001b[0m\u001b[0mdata\u001b[0m\u001b[1;33m[\u001b[0m\u001b[1;34m'weather_main'\u001b[0m\u001b[1;33m]\u001b[0m \u001b[1;33m==\u001b[0m \u001b[1;34m'Clear'\u001b[0m\u001b[1;33m)\u001b[0m\u001b[1;33m\u001b[0m\u001b[1;33m\u001b[0m\u001b[0m\n\u001b[0m\u001b[0;32m      5\u001b[0m \u001b[1;33m\u001b[0m\u001b[0m\n\u001b[0;32m      6\u001b[0m \u001b[1;31m# Krok 2: Obliczanie przybliżonej produkcji energii dla przykładowej mocy instalacji 5 kWp\u001b[0m\u001b[1;33m\u001b[0m\u001b[1;33m\u001b[0m\u001b[1;33m\u001b[0m\u001b[0m\n",
      "\u001b[1;31mNameError\u001b[0m: name 'data' is not defined"
     ]
    }
   ],
   "source": [
    "# Krok 1: Oszacowanie dni nasłonecznionych\n",
    "\n",
    "# Ustalamy kryteria dla dni nasłonecznionych\n",
    "data['sunny_day'] = (data['clouds_all'] < 30) | (data['weather_main'] == 'Clear')\n",
    "\n",
    "# Krok 2: Obliczanie przybliżonej produkcji energii dla przykładowej mocy instalacji 5 kWp\n",
    "\n",
    "# Definiujemy stałe\n",
    "installed_power_kWp = 5  # Moc zainstalowana w kWp\n",
    "performance_ratio = 0.75  # Performance Ratio (współczynnik wydajności)\n",
    "average_daily_sun_hours = 4  # Średnia liczba godzin słonecznych na dobę (ogólna wartość dla przykładu)\n",
    "\n",
    "# Obliczamy roczną produkcję energii\n",
    "# Liczba dni nasłonecznionych w roku\n",
    "annual_sunny_days = data.groupby(data['date'].str[:4])['sunny_day'].sum()\n",
    "\n",
    "# Roczna produkcja energii w kWh\n",
    "annual_energy_production_kWh = annual_sunny_days * installed_power_kWp * average_daily_sun_hours * performance_ratio\n",
    "\n",
    "# Przykładowe wyniki dla kilku lat\n",
    "annual_energy_production_kWh.head()\n"
   ]
  },
  {
   "cell_type": "code",
   "execution_count": null,
   "metadata": {},
   "outputs": [],
   "source": [
    "# Krok 1: Obliczenie miesięcznej produkcji energii z uwzględnieniem dni nasłonecznionych\n",
    "\n",
    "# Obliczmy średnią temperaturę maksymalną w każdym miesiącu dla każdej lokalizacji\n",
    "monthly_avg_max_temp = data.groupby(['city_name', 'year_month'])['temp_max'].mean().reset_index()\n",
    "\n",
    "# Połączmy dane o dniach nasłonecznionych z danymi o temperaturze\n",
    "monthly_data = monthly_sunny_days.merge(monthly_avg_max_temp, on=['city_name', 'year_month'])\n",
    "\n",
    "# Definicja funkcji korekty wydajności na podstawie temperatury\n",
    "def performance_correction(temp):\n",
    "    # Przyjmujemy spadek wydajności o 0.5% na każdy stopień powyżej 25 stopni C\n",
    "    if temp > 25:\n",
    "        return 1 - (0.005 * (temp - 25))\n",
    "    else:\n",
    "        return 1\n",
    "\n",
    "# Obliczamy miesięczną produkcję energii z korektą temperatury\n",
    "monthly_data['performance_factor'] = monthly_data['temp_max'].apply(performance_correction)\n",
    "monthly_data['monthly_energy_production_kWh'] = (\n",
    "    monthly_data['sunny_day'] * installed_power_kWp * average_daily_sun_hours * performance_ratio *\n",
    "    monthly_data['performance_factor']\n",
    ")\n",
    "\n",
    "# Pokażemy przykładowe wyniki\n",
    "monthly_data[['city_name', 'year_month', 'sunny_day', 'temp_max', 'monthly_energy_production_kWh']].head()\n"
   ]
  }
 ],
 "metadata": {
  "kernelspec": {
   "display_name": "Python 3",
   "language": "python",
   "name": "python3"
  },
  "language_info": {
   "codemirror_mode": {
    "name": "ipython",
    "version": 3
   },
   "file_extension": ".py",
   "mimetype": "text/x-python",
   "name": "python",
   "nbconvert_exporter": "python",
   "pygments_lexer": "ipython3",
   "version": "3.9.1"
  }
 },
 "nbformat": 4,
 "nbformat_minor": 2
}
