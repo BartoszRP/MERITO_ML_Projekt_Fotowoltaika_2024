{
 "cells": [
  {
   "cell_type": "code",
   "execution_count": 56,
   "outputs": [],
   "source": [
    "import pandas as pd"
   ],
   "metadata": {
    "id": "2342748d0c7ba9d2",
    "ExecuteTime": {
     "end_time": "2024-02-24T20:40:42.521427900Z",
     "start_time": "2024-02-24T20:40:42.504376600Z"
    }
   },
   "id": "2342748d0c7ba9d2"
  },
  {
   "cell_type": "code",
   "execution_count": 57,
   "outputs": [],
   "source": [
    "df_weather = pd.read_csv(\"../2. Data/raw/Bozanska_Bulk.csv\")"
   ],
   "metadata": {
    "id": "864b8c04bf18b1b8",
    "ExecuteTime": {
     "end_time": "2024-02-24T20:40:43.788700700Z",
     "start_time": "2024-02-24T20:40:42.521427900Z"
    }
   },
   "id": "864b8c04bf18b1b8"
  },
  {
   "cell_type": "code",
   "execution_count": 58,
   "outputs": [
    {
     "data": {
      "text/plain": "           dt                         dt_iso  timezone        city_name  \\\n0   283996800  1979-01-01 00:00:00 +0000 UTC      3600  Custom location   \n1   284000400  1979-01-01 01:00:00 +0000 UTC      3600  Custom location   \n2   284004000  1979-01-01 02:00:00 +0000 UTC      3600  Custom location   \n3   284007600  1979-01-01 03:00:00 +0000 UTC      3600  Custom location   \n4   284011200  1979-01-01 04:00:00 +0000 UTC      3600  Custom location   \n..        ...                            ...       ...              ...   \n95  284338800  1979-01-04 23:00:00 +0000 UTC      3600  Custom location   \n96  284342400  1979-01-05 00:00:00 +0000 UTC      3600  Custom location   \n97  284346000  1979-01-05 01:00:00 +0000 UTC      3600  Custom location   \n98  284349600  1979-01-05 02:00:00 +0000 UTC      3600  Custom location   \n99  284353200  1979-01-05 03:00:00 +0000 UTC      3600  Custom location   \n\n          lat        lon   temp  visibility  dew_point  feels_like  ...  \\\n0   54.473028  18.302179 -15.81       600.0     -17.67      -22.81  ...   \n1   54.473028  18.302179 -15.84         NaN     -18.22      -22.84  ...   \n2   54.473028  18.302179 -15.97         NaN     -18.35      -22.97  ...   \n3   54.473028  18.302179 -16.29         NaN     -18.66      -23.29  ...   \n4   54.473028  18.302179 -16.04         NaN     -18.28      -23.04  ...   \n..        ...        ...    ...         ...        ...         ...  ...   \n95  54.473028  18.302179 -10.14         NaN     -11.44      -17.14  ...   \n96  54.473028  18.302179 -10.20      6000.0     -11.13      -16.81  ...   \n97  54.473028  18.302179 -10.01         NaN     -11.70      -17.01  ...   \n98  54.473028  18.302179  -9.96         NaN     -11.91      -16.96  ...   \n99  54.473028  18.302179  -6.17         NaN      -8.04      -13.02  ...   \n\n    wind_gust  rain_1h  rain_3h  snow_1h  snow_3h  clouds_all  weather_id  \\\n0         NaN      NaN      NaN     0.26      NaN         100         601   \n1         NaN      NaN      NaN     0.21      NaN         100         600   \n2         NaN      NaN      NaN     0.19      NaN         100         600   \n3         NaN      NaN      NaN     0.18      NaN         100         600   \n4         NaN      NaN      NaN     0.17      NaN         100         600   \n..        ...      ...      ...      ...      ...         ...         ...   \n95        NaN      NaN      NaN     0.12      NaN         100         600   \n96        NaN      NaN      NaN     0.11      NaN          75         620   \n97        NaN      NaN      NaN      NaN      NaN          94         804   \n98        NaN      NaN      NaN      NaN      NaN          97         804   \n99        NaN      NaN      NaN     0.11      NaN          98         600   \n\n    weather_main  weather_description  weather_icon  \n0           Snow                 snow           13n  \n1           Snow           light snow           13n  \n2           Snow           light snow           13n  \n3           Snow           light snow           13n  \n4           Snow           light snow           13n  \n..           ...                  ...           ...  \n95          Snow           light snow           13n  \n96          Snow    light shower snow           13n  \n97        Clouds      overcast clouds           04n  \n98        Clouds      overcast clouds           04n  \n99          Snow           light snow           13n  \n\n[100 rows x 28 columns]",
      "text/html": "<div>\n<style scoped>\n    .dataframe tbody tr th:only-of-type {\n        vertical-align: middle;\n    }\n\n    .dataframe tbody tr th {\n        vertical-align: top;\n    }\n\n    .dataframe thead th {\n        text-align: right;\n    }\n</style>\n<table border=\"1\" class=\"dataframe\">\n  <thead>\n    <tr style=\"text-align: right;\">\n      <th></th>\n      <th>dt</th>\n      <th>dt_iso</th>\n      <th>timezone</th>\n      <th>city_name</th>\n      <th>lat</th>\n      <th>lon</th>\n      <th>temp</th>\n      <th>visibility</th>\n      <th>dew_point</th>\n      <th>feels_like</th>\n      <th>...</th>\n      <th>wind_gust</th>\n      <th>rain_1h</th>\n      <th>rain_3h</th>\n      <th>snow_1h</th>\n      <th>snow_3h</th>\n      <th>clouds_all</th>\n      <th>weather_id</th>\n      <th>weather_main</th>\n      <th>weather_description</th>\n      <th>weather_icon</th>\n    </tr>\n  </thead>\n  <tbody>\n    <tr>\n      <th>0</th>\n      <td>283996800</td>\n      <td>1979-01-01 00:00:00 +0000 UTC</td>\n      <td>3600</td>\n      <td>Custom location</td>\n      <td>54.473028</td>\n      <td>18.302179</td>\n      <td>-15.81</td>\n      <td>600.0</td>\n      <td>-17.67</td>\n      <td>-22.81</td>\n      <td>...</td>\n      <td>NaN</td>\n      <td>NaN</td>\n      <td>NaN</td>\n      <td>0.26</td>\n      <td>NaN</td>\n      <td>100</td>\n      <td>601</td>\n      <td>Snow</td>\n      <td>snow</td>\n      <td>13n</td>\n    </tr>\n    <tr>\n      <th>1</th>\n      <td>284000400</td>\n      <td>1979-01-01 01:00:00 +0000 UTC</td>\n      <td>3600</td>\n      <td>Custom location</td>\n      <td>54.473028</td>\n      <td>18.302179</td>\n      <td>-15.84</td>\n      <td>NaN</td>\n      <td>-18.22</td>\n      <td>-22.84</td>\n      <td>...</td>\n      <td>NaN</td>\n      <td>NaN</td>\n      <td>NaN</td>\n      <td>0.21</td>\n      <td>NaN</td>\n      <td>100</td>\n      <td>600</td>\n      <td>Snow</td>\n      <td>light snow</td>\n      <td>13n</td>\n    </tr>\n    <tr>\n      <th>2</th>\n      <td>284004000</td>\n      <td>1979-01-01 02:00:00 +0000 UTC</td>\n      <td>3600</td>\n      <td>Custom location</td>\n      <td>54.473028</td>\n      <td>18.302179</td>\n      <td>-15.97</td>\n      <td>NaN</td>\n      <td>-18.35</td>\n      <td>-22.97</td>\n      <td>...</td>\n      <td>NaN</td>\n      <td>NaN</td>\n      <td>NaN</td>\n      <td>0.19</td>\n      <td>NaN</td>\n      <td>100</td>\n      <td>600</td>\n      <td>Snow</td>\n      <td>light snow</td>\n      <td>13n</td>\n    </tr>\n    <tr>\n      <th>3</th>\n      <td>284007600</td>\n      <td>1979-01-01 03:00:00 +0000 UTC</td>\n      <td>3600</td>\n      <td>Custom location</td>\n      <td>54.473028</td>\n      <td>18.302179</td>\n      <td>-16.29</td>\n      <td>NaN</td>\n      <td>-18.66</td>\n      <td>-23.29</td>\n      <td>...</td>\n      <td>NaN</td>\n      <td>NaN</td>\n      <td>NaN</td>\n      <td>0.18</td>\n      <td>NaN</td>\n      <td>100</td>\n      <td>600</td>\n      <td>Snow</td>\n      <td>light snow</td>\n      <td>13n</td>\n    </tr>\n    <tr>\n      <th>4</th>\n      <td>284011200</td>\n      <td>1979-01-01 04:00:00 +0000 UTC</td>\n      <td>3600</td>\n      <td>Custom location</td>\n      <td>54.473028</td>\n      <td>18.302179</td>\n      <td>-16.04</td>\n      <td>NaN</td>\n      <td>-18.28</td>\n      <td>-23.04</td>\n      <td>...</td>\n      <td>NaN</td>\n      <td>NaN</td>\n      <td>NaN</td>\n      <td>0.17</td>\n      <td>NaN</td>\n      <td>100</td>\n      <td>600</td>\n      <td>Snow</td>\n      <td>light snow</td>\n      <td>13n</td>\n    </tr>\n    <tr>\n      <th>...</th>\n      <td>...</td>\n      <td>...</td>\n      <td>...</td>\n      <td>...</td>\n      <td>...</td>\n      <td>...</td>\n      <td>...</td>\n      <td>...</td>\n      <td>...</td>\n      <td>...</td>\n      <td>...</td>\n      <td>...</td>\n      <td>...</td>\n      <td>...</td>\n      <td>...</td>\n      <td>...</td>\n      <td>...</td>\n      <td>...</td>\n      <td>...</td>\n      <td>...</td>\n      <td>...</td>\n    </tr>\n    <tr>\n      <th>95</th>\n      <td>284338800</td>\n      <td>1979-01-04 23:00:00 +0000 UTC</td>\n      <td>3600</td>\n      <td>Custom location</td>\n      <td>54.473028</td>\n      <td>18.302179</td>\n      <td>-10.14</td>\n      <td>NaN</td>\n      <td>-11.44</td>\n      <td>-17.14</td>\n      <td>...</td>\n      <td>NaN</td>\n      <td>NaN</td>\n      <td>NaN</td>\n      <td>0.12</td>\n      <td>NaN</td>\n      <td>100</td>\n      <td>600</td>\n      <td>Snow</td>\n      <td>light snow</td>\n      <td>13n</td>\n    </tr>\n    <tr>\n      <th>96</th>\n      <td>284342400</td>\n      <td>1979-01-05 00:00:00 +0000 UTC</td>\n      <td>3600</td>\n      <td>Custom location</td>\n      <td>54.473028</td>\n      <td>18.302179</td>\n      <td>-10.20</td>\n      <td>6000.0</td>\n      <td>-11.13</td>\n      <td>-16.81</td>\n      <td>...</td>\n      <td>NaN</td>\n      <td>NaN</td>\n      <td>NaN</td>\n      <td>0.11</td>\n      <td>NaN</td>\n      <td>75</td>\n      <td>620</td>\n      <td>Snow</td>\n      <td>light shower snow</td>\n      <td>13n</td>\n    </tr>\n    <tr>\n      <th>97</th>\n      <td>284346000</td>\n      <td>1979-01-05 01:00:00 +0000 UTC</td>\n      <td>3600</td>\n      <td>Custom location</td>\n      <td>54.473028</td>\n      <td>18.302179</td>\n      <td>-10.01</td>\n      <td>NaN</td>\n      <td>-11.70</td>\n      <td>-17.01</td>\n      <td>...</td>\n      <td>NaN</td>\n      <td>NaN</td>\n      <td>NaN</td>\n      <td>NaN</td>\n      <td>NaN</td>\n      <td>94</td>\n      <td>804</td>\n      <td>Clouds</td>\n      <td>overcast clouds</td>\n      <td>04n</td>\n    </tr>\n    <tr>\n      <th>98</th>\n      <td>284349600</td>\n      <td>1979-01-05 02:00:00 +0000 UTC</td>\n      <td>3600</td>\n      <td>Custom location</td>\n      <td>54.473028</td>\n      <td>18.302179</td>\n      <td>-9.96</td>\n      <td>NaN</td>\n      <td>-11.91</td>\n      <td>-16.96</td>\n      <td>...</td>\n      <td>NaN</td>\n      <td>NaN</td>\n      <td>NaN</td>\n      <td>NaN</td>\n      <td>NaN</td>\n      <td>97</td>\n      <td>804</td>\n      <td>Clouds</td>\n      <td>overcast clouds</td>\n      <td>04n</td>\n    </tr>\n    <tr>\n      <th>99</th>\n      <td>284353200</td>\n      <td>1979-01-05 03:00:00 +0000 UTC</td>\n      <td>3600</td>\n      <td>Custom location</td>\n      <td>54.473028</td>\n      <td>18.302179</td>\n      <td>-6.17</td>\n      <td>NaN</td>\n      <td>-8.04</td>\n      <td>-13.02</td>\n      <td>...</td>\n      <td>NaN</td>\n      <td>NaN</td>\n      <td>NaN</td>\n      <td>0.11</td>\n      <td>NaN</td>\n      <td>98</td>\n      <td>600</td>\n      <td>Snow</td>\n      <td>light snow</td>\n      <td>13n</td>\n    </tr>\n  </tbody>\n</table>\n<p>100 rows × 28 columns</p>\n</div>"
     },
     "execution_count": 58,
     "metadata": {},
     "output_type": "execute_result"
    }
   ],
   "source": [
    "df_weather.head(100)"
   ],
   "metadata": {
    "id": "413cee1d2a92bbea",
    "outputId": "c042b281-5781-495c-b865-6022be419ed8",
    "ExecuteTime": {
     "end_time": "2024-02-24T20:40:43.821716100Z",
     "start_time": "2024-02-24T20:40:43.788700700Z"
    }
   },
   "id": "413cee1d2a92bbea"
  },
  {
   "cell_type": "code",
   "execution_count": 59,
   "outputs": [],
   "source": [
    "# Najpierw usunięcie \"+0000 UTC\" z końca stringów\n",
    "df_weather['dt_iso'] = pd.to_datetime(df_weather['dt_iso'].str.replace(r' \\+\\d{4} UTC', '', regex=True))"
   ],
   "metadata": {
    "id": "63bb6c3b9594a610",
    "ExecuteTime": {
     "end_time": "2024-02-24T20:40:44.413783800Z",
     "start_time": "2024-02-24T20:40:43.821716100Z"
    }
   },
   "id": "63bb6c3b9594a610"
  },
  {
   "cell_type": "code",
   "execution_count": 60,
   "outputs": [
    {
     "data": {
      "text/plain": "          dt              dt_iso  timezone        city_name        lat  \\\n0  283996800 1979-01-01 00:00:00      3600  Custom location  54.473028   \n1  284000400 1979-01-01 01:00:00      3600  Custom location  54.473028   \n2  284004000 1979-01-01 02:00:00      3600  Custom location  54.473028   \n3  284007600 1979-01-01 03:00:00      3600  Custom location  54.473028   \n4  284011200 1979-01-01 04:00:00      3600  Custom location  54.473028   \n\n         lon   temp  visibility  dew_point  feels_like  ...  wind_gust  \\\n0  18.302179 -15.81       600.0     -17.67      -22.81  ...        NaN   \n1  18.302179 -15.84         NaN     -18.22      -22.84  ...        NaN   \n2  18.302179 -15.97         NaN     -18.35      -22.97  ...        NaN   \n3  18.302179 -16.29         NaN     -18.66      -23.29  ...        NaN   \n4  18.302179 -16.04         NaN     -18.28      -23.04  ...        NaN   \n\n   rain_1h  rain_3h  snow_1h  snow_3h  clouds_all  weather_id  weather_main  \\\n0      NaN      NaN     0.26      NaN         100         601          Snow   \n1      NaN      NaN     0.21      NaN         100         600          Snow   \n2      NaN      NaN     0.19      NaN         100         600          Snow   \n3      NaN      NaN     0.18      NaN         100         600          Snow   \n4      NaN      NaN     0.17      NaN         100         600          Snow   \n\n   weather_description  weather_icon  \n0                 snow           13n  \n1           light snow           13n  \n2           light snow           13n  \n3           light snow           13n  \n4           light snow           13n  \n\n[5 rows x 28 columns]",
      "text/html": "<div>\n<style scoped>\n    .dataframe tbody tr th:only-of-type {\n        vertical-align: middle;\n    }\n\n    .dataframe tbody tr th {\n        vertical-align: top;\n    }\n\n    .dataframe thead th {\n        text-align: right;\n    }\n</style>\n<table border=\"1\" class=\"dataframe\">\n  <thead>\n    <tr style=\"text-align: right;\">\n      <th></th>\n      <th>dt</th>\n      <th>dt_iso</th>\n      <th>timezone</th>\n      <th>city_name</th>\n      <th>lat</th>\n      <th>lon</th>\n      <th>temp</th>\n      <th>visibility</th>\n      <th>dew_point</th>\n      <th>feels_like</th>\n      <th>...</th>\n      <th>wind_gust</th>\n      <th>rain_1h</th>\n      <th>rain_3h</th>\n      <th>snow_1h</th>\n      <th>snow_3h</th>\n      <th>clouds_all</th>\n      <th>weather_id</th>\n      <th>weather_main</th>\n      <th>weather_description</th>\n      <th>weather_icon</th>\n    </tr>\n  </thead>\n  <tbody>\n    <tr>\n      <th>0</th>\n      <td>283996800</td>\n      <td>1979-01-01 00:00:00</td>\n      <td>3600</td>\n      <td>Custom location</td>\n      <td>54.473028</td>\n      <td>18.302179</td>\n      <td>-15.81</td>\n      <td>600.0</td>\n      <td>-17.67</td>\n      <td>-22.81</td>\n      <td>...</td>\n      <td>NaN</td>\n      <td>NaN</td>\n      <td>NaN</td>\n      <td>0.26</td>\n      <td>NaN</td>\n      <td>100</td>\n      <td>601</td>\n      <td>Snow</td>\n      <td>snow</td>\n      <td>13n</td>\n    </tr>\n    <tr>\n      <th>1</th>\n      <td>284000400</td>\n      <td>1979-01-01 01:00:00</td>\n      <td>3600</td>\n      <td>Custom location</td>\n      <td>54.473028</td>\n      <td>18.302179</td>\n      <td>-15.84</td>\n      <td>NaN</td>\n      <td>-18.22</td>\n      <td>-22.84</td>\n      <td>...</td>\n      <td>NaN</td>\n      <td>NaN</td>\n      <td>NaN</td>\n      <td>0.21</td>\n      <td>NaN</td>\n      <td>100</td>\n      <td>600</td>\n      <td>Snow</td>\n      <td>light snow</td>\n      <td>13n</td>\n    </tr>\n    <tr>\n      <th>2</th>\n      <td>284004000</td>\n      <td>1979-01-01 02:00:00</td>\n      <td>3600</td>\n      <td>Custom location</td>\n      <td>54.473028</td>\n      <td>18.302179</td>\n      <td>-15.97</td>\n      <td>NaN</td>\n      <td>-18.35</td>\n      <td>-22.97</td>\n      <td>...</td>\n      <td>NaN</td>\n      <td>NaN</td>\n      <td>NaN</td>\n      <td>0.19</td>\n      <td>NaN</td>\n      <td>100</td>\n      <td>600</td>\n      <td>Snow</td>\n      <td>light snow</td>\n      <td>13n</td>\n    </tr>\n    <tr>\n      <th>3</th>\n      <td>284007600</td>\n      <td>1979-01-01 03:00:00</td>\n      <td>3600</td>\n      <td>Custom location</td>\n      <td>54.473028</td>\n      <td>18.302179</td>\n      <td>-16.29</td>\n      <td>NaN</td>\n      <td>-18.66</td>\n      <td>-23.29</td>\n      <td>...</td>\n      <td>NaN</td>\n      <td>NaN</td>\n      <td>NaN</td>\n      <td>0.18</td>\n      <td>NaN</td>\n      <td>100</td>\n      <td>600</td>\n      <td>Snow</td>\n      <td>light snow</td>\n      <td>13n</td>\n    </tr>\n    <tr>\n      <th>4</th>\n      <td>284011200</td>\n      <td>1979-01-01 04:00:00</td>\n      <td>3600</td>\n      <td>Custom location</td>\n      <td>54.473028</td>\n      <td>18.302179</td>\n      <td>-16.04</td>\n      <td>NaN</td>\n      <td>-18.28</td>\n      <td>-23.04</td>\n      <td>...</td>\n      <td>NaN</td>\n      <td>NaN</td>\n      <td>NaN</td>\n      <td>0.17</td>\n      <td>NaN</td>\n      <td>100</td>\n      <td>600</td>\n      <td>Snow</td>\n      <td>light snow</td>\n      <td>13n</td>\n    </tr>\n  </tbody>\n</table>\n<p>5 rows × 28 columns</p>\n</div>"
     },
     "execution_count": 60,
     "metadata": {},
     "output_type": "execute_result"
    }
   ],
   "source": [
    "df_weather.head()"
   ],
   "metadata": {
    "id": "baa5bbfae7b6ca5",
    "outputId": "8aad6fa0-4113-4ad0-93c3-06c58513469f",
    "ExecuteTime": {
     "end_time": "2024-02-24T20:40:44.461854600Z",
     "start_time": "2024-02-24T20:40:44.413783800Z"
    }
   },
   "id": "baa5bbfae7b6ca5"
  },
  {
   "cell_type": "code",
   "execution_count": 61,
   "outputs": [],
   "source": [
    "# Następnie konwersja do datetime bez informacji o strefie czasowej\n",
    "df_weather['dt_iso'] = pd.to_datetime(df_weather['dt_iso'], format='%Y-%m-%d %H:%M:%S', errors='coerce')"
   ],
   "metadata": {
    "id": "0ed7b6b1",
    "ExecuteTime": {
     "end_time": "2024-02-24T20:40:44.509949200Z",
     "start_time": "2024-02-24T20:40:44.445808800Z"
    }
   },
   "id": "0ed7b6b1"
  },
  {
   "cell_type": "code",
   "execution_count": 62,
   "outputs": [
    {
     "data": {
      "text/plain": "          dt              dt_iso  timezone        city_name        lat  \\\n0  283996800 1979-01-01 00:00:00      3600  Custom location  54.473028   \n1  284000400 1979-01-01 01:00:00      3600  Custom location  54.473028   \n2  284004000 1979-01-01 02:00:00      3600  Custom location  54.473028   \n3  284007600 1979-01-01 03:00:00      3600  Custom location  54.473028   \n4  284011200 1979-01-01 04:00:00      3600  Custom location  54.473028   \n\n         lon   temp  visibility  dew_point  feels_like  ...  wind_gust  \\\n0  18.302179 -15.81       600.0     -17.67      -22.81  ...        NaN   \n1  18.302179 -15.84         NaN     -18.22      -22.84  ...        NaN   \n2  18.302179 -15.97         NaN     -18.35      -22.97  ...        NaN   \n3  18.302179 -16.29         NaN     -18.66      -23.29  ...        NaN   \n4  18.302179 -16.04         NaN     -18.28      -23.04  ...        NaN   \n\n   rain_1h  rain_3h  snow_1h  snow_3h  clouds_all  weather_id  weather_main  \\\n0      NaN      NaN     0.26      NaN         100         601          Snow   \n1      NaN      NaN     0.21      NaN         100         600          Snow   \n2      NaN      NaN     0.19      NaN         100         600          Snow   \n3      NaN      NaN     0.18      NaN         100         600          Snow   \n4      NaN      NaN     0.17      NaN         100         600          Snow   \n\n   weather_description  weather_icon  \n0                 snow           13n  \n1           light snow           13n  \n2           light snow           13n  \n3           light snow           13n  \n4           light snow           13n  \n\n[5 rows x 28 columns]",
      "text/html": "<div>\n<style scoped>\n    .dataframe tbody tr th:only-of-type {\n        vertical-align: middle;\n    }\n\n    .dataframe tbody tr th {\n        vertical-align: top;\n    }\n\n    .dataframe thead th {\n        text-align: right;\n    }\n</style>\n<table border=\"1\" class=\"dataframe\">\n  <thead>\n    <tr style=\"text-align: right;\">\n      <th></th>\n      <th>dt</th>\n      <th>dt_iso</th>\n      <th>timezone</th>\n      <th>city_name</th>\n      <th>lat</th>\n      <th>lon</th>\n      <th>temp</th>\n      <th>visibility</th>\n      <th>dew_point</th>\n      <th>feels_like</th>\n      <th>...</th>\n      <th>wind_gust</th>\n      <th>rain_1h</th>\n      <th>rain_3h</th>\n      <th>snow_1h</th>\n      <th>snow_3h</th>\n      <th>clouds_all</th>\n      <th>weather_id</th>\n      <th>weather_main</th>\n      <th>weather_description</th>\n      <th>weather_icon</th>\n    </tr>\n  </thead>\n  <tbody>\n    <tr>\n      <th>0</th>\n      <td>283996800</td>\n      <td>1979-01-01 00:00:00</td>\n      <td>3600</td>\n      <td>Custom location</td>\n      <td>54.473028</td>\n      <td>18.302179</td>\n      <td>-15.81</td>\n      <td>600.0</td>\n      <td>-17.67</td>\n      <td>-22.81</td>\n      <td>...</td>\n      <td>NaN</td>\n      <td>NaN</td>\n      <td>NaN</td>\n      <td>0.26</td>\n      <td>NaN</td>\n      <td>100</td>\n      <td>601</td>\n      <td>Snow</td>\n      <td>snow</td>\n      <td>13n</td>\n    </tr>\n    <tr>\n      <th>1</th>\n      <td>284000400</td>\n      <td>1979-01-01 01:00:00</td>\n      <td>3600</td>\n      <td>Custom location</td>\n      <td>54.473028</td>\n      <td>18.302179</td>\n      <td>-15.84</td>\n      <td>NaN</td>\n      <td>-18.22</td>\n      <td>-22.84</td>\n      <td>...</td>\n      <td>NaN</td>\n      <td>NaN</td>\n      <td>NaN</td>\n      <td>0.21</td>\n      <td>NaN</td>\n      <td>100</td>\n      <td>600</td>\n      <td>Snow</td>\n      <td>light snow</td>\n      <td>13n</td>\n    </tr>\n    <tr>\n      <th>2</th>\n      <td>284004000</td>\n      <td>1979-01-01 02:00:00</td>\n      <td>3600</td>\n      <td>Custom location</td>\n      <td>54.473028</td>\n      <td>18.302179</td>\n      <td>-15.97</td>\n      <td>NaN</td>\n      <td>-18.35</td>\n      <td>-22.97</td>\n      <td>...</td>\n      <td>NaN</td>\n      <td>NaN</td>\n      <td>NaN</td>\n      <td>0.19</td>\n      <td>NaN</td>\n      <td>100</td>\n      <td>600</td>\n      <td>Snow</td>\n      <td>light snow</td>\n      <td>13n</td>\n    </tr>\n    <tr>\n      <th>3</th>\n      <td>284007600</td>\n      <td>1979-01-01 03:00:00</td>\n      <td>3600</td>\n      <td>Custom location</td>\n      <td>54.473028</td>\n      <td>18.302179</td>\n      <td>-16.29</td>\n      <td>NaN</td>\n      <td>-18.66</td>\n      <td>-23.29</td>\n      <td>...</td>\n      <td>NaN</td>\n      <td>NaN</td>\n      <td>NaN</td>\n      <td>0.18</td>\n      <td>NaN</td>\n      <td>100</td>\n      <td>600</td>\n      <td>Snow</td>\n      <td>light snow</td>\n      <td>13n</td>\n    </tr>\n    <tr>\n      <th>4</th>\n      <td>284011200</td>\n      <td>1979-01-01 04:00:00</td>\n      <td>3600</td>\n      <td>Custom location</td>\n      <td>54.473028</td>\n      <td>18.302179</td>\n      <td>-16.04</td>\n      <td>NaN</td>\n      <td>-18.28</td>\n      <td>-23.04</td>\n      <td>...</td>\n      <td>NaN</td>\n      <td>NaN</td>\n      <td>NaN</td>\n      <td>0.17</td>\n      <td>NaN</td>\n      <td>100</td>\n      <td>600</td>\n      <td>Snow</td>\n      <td>light snow</td>\n      <td>13n</td>\n    </tr>\n  </tbody>\n</table>\n<p>5 rows × 28 columns</p>\n</div>"
     },
     "execution_count": 62,
     "metadata": {},
     "output_type": "execute_result"
    }
   ],
   "source": [
    "df_weather.head()"
   ],
   "metadata": {
    "id": "6d5e320a679d6c2e",
    "outputId": "9b1941c0-f4ec-4c56-8701-21f0ce8d8c1f",
    "ExecuteTime": {
     "end_time": "2024-02-24T20:40:44.606101600Z",
     "start_time": "2024-02-24T20:40:44.461854600Z"
    }
   },
   "id": "6d5e320a679d6c2e"
  },
  {
   "cell_type": "code",
   "execution_count": 63,
   "outputs": [],
   "source": [
    "df_weather['city_name'] = df_weather['city_name'].replace('Custom location', 'Bozanska')"
   ],
   "metadata": {
    "id": "8b2806a4c2998788",
    "ExecuteTime": {
     "end_time": "2024-02-24T20:40:44.606101600Z",
     "start_time": "2024-02-24T20:40:44.493902Z"
    }
   },
   "id": "8b2806a4c2998788"
  },
  {
   "cell_type": "code",
   "execution_count": 64,
   "outputs": [
    {
     "data": {
      "text/plain": "          dt              dt_iso  timezone city_name        lat        lon  \\\n0  283996800 1979-01-01 00:00:00      3600  Bozanska  54.473028  18.302179   \n1  284000400 1979-01-01 01:00:00      3600  Bozanska  54.473028  18.302179   \n2  284004000 1979-01-01 02:00:00      3600  Bozanska  54.473028  18.302179   \n3  284007600 1979-01-01 03:00:00      3600  Bozanska  54.473028  18.302179   \n4  284011200 1979-01-01 04:00:00      3600  Bozanska  54.473028  18.302179   \n\n    temp  visibility  dew_point  feels_like  ...  wind_gust  rain_1h  rain_3h  \\\n0 -15.81       600.0     -17.67      -22.81  ...        NaN      NaN      NaN   \n1 -15.84         NaN     -18.22      -22.84  ...        NaN      NaN      NaN   \n2 -15.97         NaN     -18.35      -22.97  ...        NaN      NaN      NaN   \n3 -16.29         NaN     -18.66      -23.29  ...        NaN      NaN      NaN   \n4 -16.04         NaN     -18.28      -23.04  ...        NaN      NaN      NaN   \n\n   snow_1h  snow_3h  clouds_all  weather_id  weather_main  \\\n0     0.26      NaN         100         601          Snow   \n1     0.21      NaN         100         600          Snow   \n2     0.19      NaN         100         600          Snow   \n3     0.18      NaN         100         600          Snow   \n4     0.17      NaN         100         600          Snow   \n\n   weather_description  weather_icon  \n0                 snow           13n  \n1           light snow           13n  \n2           light snow           13n  \n3           light snow           13n  \n4           light snow           13n  \n\n[5 rows x 28 columns]",
      "text/html": "<div>\n<style scoped>\n    .dataframe tbody tr th:only-of-type {\n        vertical-align: middle;\n    }\n\n    .dataframe tbody tr th {\n        vertical-align: top;\n    }\n\n    .dataframe thead th {\n        text-align: right;\n    }\n</style>\n<table border=\"1\" class=\"dataframe\">\n  <thead>\n    <tr style=\"text-align: right;\">\n      <th></th>\n      <th>dt</th>\n      <th>dt_iso</th>\n      <th>timezone</th>\n      <th>city_name</th>\n      <th>lat</th>\n      <th>lon</th>\n      <th>temp</th>\n      <th>visibility</th>\n      <th>dew_point</th>\n      <th>feels_like</th>\n      <th>...</th>\n      <th>wind_gust</th>\n      <th>rain_1h</th>\n      <th>rain_3h</th>\n      <th>snow_1h</th>\n      <th>snow_3h</th>\n      <th>clouds_all</th>\n      <th>weather_id</th>\n      <th>weather_main</th>\n      <th>weather_description</th>\n      <th>weather_icon</th>\n    </tr>\n  </thead>\n  <tbody>\n    <tr>\n      <th>0</th>\n      <td>283996800</td>\n      <td>1979-01-01 00:00:00</td>\n      <td>3600</td>\n      <td>Bozanska</td>\n      <td>54.473028</td>\n      <td>18.302179</td>\n      <td>-15.81</td>\n      <td>600.0</td>\n      <td>-17.67</td>\n      <td>-22.81</td>\n      <td>...</td>\n      <td>NaN</td>\n      <td>NaN</td>\n      <td>NaN</td>\n      <td>0.26</td>\n      <td>NaN</td>\n      <td>100</td>\n      <td>601</td>\n      <td>Snow</td>\n      <td>snow</td>\n      <td>13n</td>\n    </tr>\n    <tr>\n      <th>1</th>\n      <td>284000400</td>\n      <td>1979-01-01 01:00:00</td>\n      <td>3600</td>\n      <td>Bozanska</td>\n      <td>54.473028</td>\n      <td>18.302179</td>\n      <td>-15.84</td>\n      <td>NaN</td>\n      <td>-18.22</td>\n      <td>-22.84</td>\n      <td>...</td>\n      <td>NaN</td>\n      <td>NaN</td>\n      <td>NaN</td>\n      <td>0.21</td>\n      <td>NaN</td>\n      <td>100</td>\n      <td>600</td>\n      <td>Snow</td>\n      <td>light snow</td>\n      <td>13n</td>\n    </tr>\n    <tr>\n      <th>2</th>\n      <td>284004000</td>\n      <td>1979-01-01 02:00:00</td>\n      <td>3600</td>\n      <td>Bozanska</td>\n      <td>54.473028</td>\n      <td>18.302179</td>\n      <td>-15.97</td>\n      <td>NaN</td>\n      <td>-18.35</td>\n      <td>-22.97</td>\n      <td>...</td>\n      <td>NaN</td>\n      <td>NaN</td>\n      <td>NaN</td>\n      <td>0.19</td>\n      <td>NaN</td>\n      <td>100</td>\n      <td>600</td>\n      <td>Snow</td>\n      <td>light snow</td>\n      <td>13n</td>\n    </tr>\n    <tr>\n      <th>3</th>\n      <td>284007600</td>\n      <td>1979-01-01 03:00:00</td>\n      <td>3600</td>\n      <td>Bozanska</td>\n      <td>54.473028</td>\n      <td>18.302179</td>\n      <td>-16.29</td>\n      <td>NaN</td>\n      <td>-18.66</td>\n      <td>-23.29</td>\n      <td>...</td>\n      <td>NaN</td>\n      <td>NaN</td>\n      <td>NaN</td>\n      <td>0.18</td>\n      <td>NaN</td>\n      <td>100</td>\n      <td>600</td>\n      <td>Snow</td>\n      <td>light snow</td>\n      <td>13n</td>\n    </tr>\n    <tr>\n      <th>4</th>\n      <td>284011200</td>\n      <td>1979-01-01 04:00:00</td>\n      <td>3600</td>\n      <td>Bozanska</td>\n      <td>54.473028</td>\n      <td>18.302179</td>\n      <td>-16.04</td>\n      <td>NaN</td>\n      <td>-18.28</td>\n      <td>-23.04</td>\n      <td>...</td>\n      <td>NaN</td>\n      <td>NaN</td>\n      <td>NaN</td>\n      <td>0.17</td>\n      <td>NaN</td>\n      <td>100</td>\n      <td>600</td>\n      <td>Snow</td>\n      <td>light snow</td>\n      <td>13n</td>\n    </tr>\n  </tbody>\n</table>\n<p>5 rows × 28 columns</p>\n</div>"
     },
     "execution_count": 64,
     "metadata": {},
     "output_type": "execute_result"
    }
   ],
   "source": [
    "df_weather.head()"
   ],
   "metadata": {
    "id": "ab1669e4392f2212",
    "outputId": "2e195646-5eb9-4b48-cf14-b419702d4ac0",
    "ExecuteTime": {
     "end_time": "2024-02-24T20:40:44.606101600Z",
     "start_time": "2024-02-24T20:40:44.525960500Z"
    }
   },
   "id": "ab1669e4392f2212"
  },
  {
   "cell_type": "code",
   "execution_count": 65,
   "outputs": [],
   "source": [
    "# Grupowanie danych po dniu (zignorowanie godziny)\n",
    "df_weather['date'] = df_weather['dt_iso'].dt.date\n",
    "daily_weather = df_weather.groupby('date').agg({\n",
    "    # Agregacja danych pogodowych, np. średnia temperatura, suma opadów, maksymalne zachmurzenie itp.\n",
    "    'city_name': 'first',\n",
    "    'lat': 'first',\n",
    "    'lon': 'first',\n",
    "    'temp': 'mean',\n",
    "    'feels_like': 'mean',\n",
    "    'temp_min': 'min',\n",
    "    'temp_max': 'max',\n",
    "    'pressure': 'mean',\n",
    "    'humidity': 'mean',\n",
    "    'wind_speed': 'mean',\n",
    "    'rain_1h': 'sum',\n",
    "    'rain_3h': 'sum',\n",
    "    'snow_1h': 'sum',\n",
    "    'snow_3h': 'sum',\n",
    "    'clouds_all': 'max',\n",
    "    'weather_main': lambda x: x.mode()[0] if not x.mode().empty else 'Unknown'  # Najczęstsze zjawisko pogodowe\n",
    "}).reset_index()"
   ],
   "metadata": {
    "id": "418e90a1e3fdd6ee",
    "ExecuteTime": {
     "end_time": "2024-02-24T20:40:49.040012400Z",
     "start_time": "2024-02-24T20:40:44.558022400Z"
    }
   },
   "id": "418e90a1e3fdd6ee"
  },
  {
   "cell_type": "code",
   "execution_count": 66,
   "outputs": [
    {
     "data": {
      "text/plain": "           dt              dt_iso  timezone city_name        lat        lon  \\\n0   283996800 1979-01-01 00:00:00      3600  Bozanska  54.473028  18.302179   \n1   284000400 1979-01-01 01:00:00      3600  Bozanska  54.473028  18.302179   \n2   284004000 1979-01-01 02:00:00      3600  Bozanska  54.473028  18.302179   \n3   284007600 1979-01-01 03:00:00      3600  Bozanska  54.473028  18.302179   \n4   284011200 1979-01-01 04:00:00      3600  Bozanska  54.473028  18.302179   \n5   284014800 1979-01-01 05:00:00      3600  Bozanska  54.473028  18.302179   \n6   284018400 1979-01-01 06:00:00      3600  Bozanska  54.473028  18.302179   \n7   284022000 1979-01-01 07:00:00      3600  Bozanska  54.473028  18.302179   \n8   284025600 1979-01-01 08:00:00      3600  Bozanska  54.473028  18.302179   \n9   284029200 1979-01-01 09:00:00      3600  Bozanska  54.473028  18.302179   \n10  284032800 1979-01-01 10:00:00      3600  Bozanska  54.473028  18.302179   \n11  284036400 1979-01-01 11:00:00      3600  Bozanska  54.473028  18.302179   \n12  284040000 1979-01-01 12:00:00      3600  Bozanska  54.473028  18.302179   \n13  284043600 1979-01-01 13:00:00      3600  Bozanska  54.473028  18.302179   \n14  284047200 1979-01-01 14:00:00      3600  Bozanska  54.473028  18.302179   \n15  284050800 1979-01-01 15:00:00      3600  Bozanska  54.473028  18.302179   \n16  284054400 1979-01-01 16:00:00      3600  Bozanska  54.473028  18.302179   \n17  284058000 1979-01-01 17:00:00      3600  Bozanska  54.473028  18.302179   \n18  284061600 1979-01-01 18:00:00      3600  Bozanska  54.473028  18.302179   \n19  284065200 1979-01-01 19:00:00      3600  Bozanska  54.473028  18.302179   \n\n     temp  visibility  dew_point  feels_like  ...  rain_1h  rain_3h  snow_1h  \\\n0  -15.81       600.0     -17.67      -22.81  ...      NaN      NaN     0.26   \n1  -15.84         NaN     -18.22      -22.84  ...      NaN      NaN     0.21   \n2  -15.97         NaN     -18.35      -22.97  ...      NaN      NaN     0.19   \n3  -16.29         NaN     -18.66      -23.29  ...      NaN      NaN     0.18   \n4  -16.04         NaN     -18.28      -23.04  ...      NaN      NaN     0.17   \n5  -15.90         NaN     -18.02      -22.90  ...      NaN      NaN     0.17   \n6  -15.92      1000.0     -17.78      -22.92  ...      NaN      NaN     0.18   \n7  -15.50         NaN     -17.50      -22.50  ...      NaN      NaN     0.20   \n8  -15.31         NaN     -17.31      -22.31  ...      NaN      NaN     0.21   \n9  -16.01         NaN     -18.52      -23.01  ...      NaN      NaN     0.22   \n10 -13.44         NaN     -15.73      -20.44  ...      NaN      NaN     0.23   \n11 -13.40         NaN     -15.56      -20.40  ...      NaN      NaN     0.22   \n12 -13.62      1600.0     -15.52      -18.32  ...      NaN      NaN     0.19   \n13 -13.01         NaN     -15.31      -20.01  ...      NaN      NaN     0.17   \n14 -12.83         NaN     -15.27      -19.83  ...      NaN      NaN     0.16   \n15 -11.83         NaN     -14.28      -18.83  ...      NaN      NaN     0.16   \n16 -11.94         NaN     -14.39      -18.94  ...      NaN      NaN     0.16   \n17 -12.10         NaN     -14.69      -19.10  ...      NaN      NaN     0.15   \n18 -13.02      1600.0     -14.92      -13.02  ...      NaN      NaN     0.14   \n19 -13.07         NaN     -15.37      -20.07  ...      NaN      NaN      NaN   \n\n    snow_3h  clouds_all  weather_id  weather_main  weather_description  \\\n0       NaN         100         601          Snow                 snow   \n1       NaN         100         600          Snow           light snow   \n2       NaN         100         600          Snow           light snow   \n3       NaN         100         600          Snow           light snow   \n4       NaN         100         600          Snow           light snow   \n5       NaN         100         600          Snow           light snow   \n6       NaN         100         601          Snow                 snow   \n7       NaN         100         600          Snow           light snow   \n8       NaN         100         600          Snow           light snow   \n9       NaN         100         600          Snow           light snow   \n10      NaN         100         600          Snow           light snow   \n11      NaN         100         600          Snow           light snow   \n12      NaN         100         600          Snow           light snow   \n13      NaN         100         600          Snow           light snow   \n14      NaN         100         600          Snow           light snow   \n15      NaN         100         600          Snow           light snow   \n16      NaN         100         600          Snow           light snow   \n17      NaN         100         600          Snow           light snow   \n18      NaN         100         600          Snow           light snow   \n19      NaN         100         804        Clouds      overcast clouds   \n\n    weather_icon        date  \n0            13n  1979-01-01  \n1            13n  1979-01-01  \n2            13n  1979-01-01  \n3            13n  1979-01-01  \n4            13n  1979-01-01  \n5            13n  1979-01-01  \n6            13n  1979-01-01  \n7            13n  1979-01-01  \n8            13d  1979-01-01  \n9            13d  1979-01-01  \n10           13d  1979-01-01  \n11           13d  1979-01-01  \n12           13d  1979-01-01  \n13           13d  1979-01-01  \n14           13d  1979-01-01  \n15           13n  1979-01-01  \n16           13n  1979-01-01  \n17           13n  1979-01-01  \n18           13n  1979-01-01  \n19           04n  1979-01-01  \n\n[20 rows x 29 columns]",
      "text/html": "<div>\n<style scoped>\n    .dataframe tbody tr th:only-of-type {\n        vertical-align: middle;\n    }\n\n    .dataframe tbody tr th {\n        vertical-align: top;\n    }\n\n    .dataframe thead th {\n        text-align: right;\n    }\n</style>\n<table border=\"1\" class=\"dataframe\">\n  <thead>\n    <tr style=\"text-align: right;\">\n      <th></th>\n      <th>dt</th>\n      <th>dt_iso</th>\n      <th>timezone</th>\n      <th>city_name</th>\n      <th>lat</th>\n      <th>lon</th>\n      <th>temp</th>\n      <th>visibility</th>\n      <th>dew_point</th>\n      <th>feels_like</th>\n      <th>...</th>\n      <th>rain_1h</th>\n      <th>rain_3h</th>\n      <th>snow_1h</th>\n      <th>snow_3h</th>\n      <th>clouds_all</th>\n      <th>weather_id</th>\n      <th>weather_main</th>\n      <th>weather_description</th>\n      <th>weather_icon</th>\n      <th>date</th>\n    </tr>\n  </thead>\n  <tbody>\n    <tr>\n      <th>0</th>\n      <td>283996800</td>\n      <td>1979-01-01 00:00:00</td>\n      <td>3600</td>\n      <td>Bozanska</td>\n      <td>54.473028</td>\n      <td>18.302179</td>\n      <td>-15.81</td>\n      <td>600.0</td>\n      <td>-17.67</td>\n      <td>-22.81</td>\n      <td>...</td>\n      <td>NaN</td>\n      <td>NaN</td>\n      <td>0.26</td>\n      <td>NaN</td>\n      <td>100</td>\n      <td>601</td>\n      <td>Snow</td>\n      <td>snow</td>\n      <td>13n</td>\n      <td>1979-01-01</td>\n    </tr>\n    <tr>\n      <th>1</th>\n      <td>284000400</td>\n      <td>1979-01-01 01:00:00</td>\n      <td>3600</td>\n      <td>Bozanska</td>\n      <td>54.473028</td>\n      <td>18.302179</td>\n      <td>-15.84</td>\n      <td>NaN</td>\n      <td>-18.22</td>\n      <td>-22.84</td>\n      <td>...</td>\n      <td>NaN</td>\n      <td>NaN</td>\n      <td>0.21</td>\n      <td>NaN</td>\n      <td>100</td>\n      <td>600</td>\n      <td>Snow</td>\n      <td>light snow</td>\n      <td>13n</td>\n      <td>1979-01-01</td>\n    </tr>\n    <tr>\n      <th>2</th>\n      <td>284004000</td>\n      <td>1979-01-01 02:00:00</td>\n      <td>3600</td>\n      <td>Bozanska</td>\n      <td>54.473028</td>\n      <td>18.302179</td>\n      <td>-15.97</td>\n      <td>NaN</td>\n      <td>-18.35</td>\n      <td>-22.97</td>\n      <td>...</td>\n      <td>NaN</td>\n      <td>NaN</td>\n      <td>0.19</td>\n      <td>NaN</td>\n      <td>100</td>\n      <td>600</td>\n      <td>Snow</td>\n      <td>light snow</td>\n      <td>13n</td>\n      <td>1979-01-01</td>\n    </tr>\n    <tr>\n      <th>3</th>\n      <td>284007600</td>\n      <td>1979-01-01 03:00:00</td>\n      <td>3600</td>\n      <td>Bozanska</td>\n      <td>54.473028</td>\n      <td>18.302179</td>\n      <td>-16.29</td>\n      <td>NaN</td>\n      <td>-18.66</td>\n      <td>-23.29</td>\n      <td>...</td>\n      <td>NaN</td>\n      <td>NaN</td>\n      <td>0.18</td>\n      <td>NaN</td>\n      <td>100</td>\n      <td>600</td>\n      <td>Snow</td>\n      <td>light snow</td>\n      <td>13n</td>\n      <td>1979-01-01</td>\n    </tr>\n    <tr>\n      <th>4</th>\n      <td>284011200</td>\n      <td>1979-01-01 04:00:00</td>\n      <td>3600</td>\n      <td>Bozanska</td>\n      <td>54.473028</td>\n      <td>18.302179</td>\n      <td>-16.04</td>\n      <td>NaN</td>\n      <td>-18.28</td>\n      <td>-23.04</td>\n      <td>...</td>\n      <td>NaN</td>\n      <td>NaN</td>\n      <td>0.17</td>\n      <td>NaN</td>\n      <td>100</td>\n      <td>600</td>\n      <td>Snow</td>\n      <td>light snow</td>\n      <td>13n</td>\n      <td>1979-01-01</td>\n    </tr>\n    <tr>\n      <th>5</th>\n      <td>284014800</td>\n      <td>1979-01-01 05:00:00</td>\n      <td>3600</td>\n      <td>Bozanska</td>\n      <td>54.473028</td>\n      <td>18.302179</td>\n      <td>-15.90</td>\n      <td>NaN</td>\n      <td>-18.02</td>\n      <td>-22.90</td>\n      <td>...</td>\n      <td>NaN</td>\n      <td>NaN</td>\n      <td>0.17</td>\n      <td>NaN</td>\n      <td>100</td>\n      <td>600</td>\n      <td>Snow</td>\n      <td>light snow</td>\n      <td>13n</td>\n      <td>1979-01-01</td>\n    </tr>\n    <tr>\n      <th>6</th>\n      <td>284018400</td>\n      <td>1979-01-01 06:00:00</td>\n      <td>3600</td>\n      <td>Bozanska</td>\n      <td>54.473028</td>\n      <td>18.302179</td>\n      <td>-15.92</td>\n      <td>1000.0</td>\n      <td>-17.78</td>\n      <td>-22.92</td>\n      <td>...</td>\n      <td>NaN</td>\n      <td>NaN</td>\n      <td>0.18</td>\n      <td>NaN</td>\n      <td>100</td>\n      <td>601</td>\n      <td>Snow</td>\n      <td>snow</td>\n      <td>13n</td>\n      <td>1979-01-01</td>\n    </tr>\n    <tr>\n      <th>7</th>\n      <td>284022000</td>\n      <td>1979-01-01 07:00:00</td>\n      <td>3600</td>\n      <td>Bozanska</td>\n      <td>54.473028</td>\n      <td>18.302179</td>\n      <td>-15.50</td>\n      <td>NaN</td>\n      <td>-17.50</td>\n      <td>-22.50</td>\n      <td>...</td>\n      <td>NaN</td>\n      <td>NaN</td>\n      <td>0.20</td>\n      <td>NaN</td>\n      <td>100</td>\n      <td>600</td>\n      <td>Snow</td>\n      <td>light snow</td>\n      <td>13n</td>\n      <td>1979-01-01</td>\n    </tr>\n    <tr>\n      <th>8</th>\n      <td>284025600</td>\n      <td>1979-01-01 08:00:00</td>\n      <td>3600</td>\n      <td>Bozanska</td>\n      <td>54.473028</td>\n      <td>18.302179</td>\n      <td>-15.31</td>\n      <td>NaN</td>\n      <td>-17.31</td>\n      <td>-22.31</td>\n      <td>...</td>\n      <td>NaN</td>\n      <td>NaN</td>\n      <td>0.21</td>\n      <td>NaN</td>\n      <td>100</td>\n      <td>600</td>\n      <td>Snow</td>\n      <td>light snow</td>\n      <td>13d</td>\n      <td>1979-01-01</td>\n    </tr>\n    <tr>\n      <th>9</th>\n      <td>284029200</td>\n      <td>1979-01-01 09:00:00</td>\n      <td>3600</td>\n      <td>Bozanska</td>\n      <td>54.473028</td>\n      <td>18.302179</td>\n      <td>-16.01</td>\n      <td>NaN</td>\n      <td>-18.52</td>\n      <td>-23.01</td>\n      <td>...</td>\n      <td>NaN</td>\n      <td>NaN</td>\n      <td>0.22</td>\n      <td>NaN</td>\n      <td>100</td>\n      <td>600</td>\n      <td>Snow</td>\n      <td>light snow</td>\n      <td>13d</td>\n      <td>1979-01-01</td>\n    </tr>\n    <tr>\n      <th>10</th>\n      <td>284032800</td>\n      <td>1979-01-01 10:00:00</td>\n      <td>3600</td>\n      <td>Bozanska</td>\n      <td>54.473028</td>\n      <td>18.302179</td>\n      <td>-13.44</td>\n      <td>NaN</td>\n      <td>-15.73</td>\n      <td>-20.44</td>\n      <td>...</td>\n      <td>NaN</td>\n      <td>NaN</td>\n      <td>0.23</td>\n      <td>NaN</td>\n      <td>100</td>\n      <td>600</td>\n      <td>Snow</td>\n      <td>light snow</td>\n      <td>13d</td>\n      <td>1979-01-01</td>\n    </tr>\n    <tr>\n      <th>11</th>\n      <td>284036400</td>\n      <td>1979-01-01 11:00:00</td>\n      <td>3600</td>\n      <td>Bozanska</td>\n      <td>54.473028</td>\n      <td>18.302179</td>\n      <td>-13.40</td>\n      <td>NaN</td>\n      <td>-15.56</td>\n      <td>-20.40</td>\n      <td>...</td>\n      <td>NaN</td>\n      <td>NaN</td>\n      <td>0.22</td>\n      <td>NaN</td>\n      <td>100</td>\n      <td>600</td>\n      <td>Snow</td>\n      <td>light snow</td>\n      <td>13d</td>\n      <td>1979-01-01</td>\n    </tr>\n    <tr>\n      <th>12</th>\n      <td>284040000</td>\n      <td>1979-01-01 12:00:00</td>\n      <td>3600</td>\n      <td>Bozanska</td>\n      <td>54.473028</td>\n      <td>18.302179</td>\n      <td>-13.62</td>\n      <td>1600.0</td>\n      <td>-15.52</td>\n      <td>-18.32</td>\n      <td>...</td>\n      <td>NaN</td>\n      <td>NaN</td>\n      <td>0.19</td>\n      <td>NaN</td>\n      <td>100</td>\n      <td>600</td>\n      <td>Snow</td>\n      <td>light snow</td>\n      <td>13d</td>\n      <td>1979-01-01</td>\n    </tr>\n    <tr>\n      <th>13</th>\n      <td>284043600</td>\n      <td>1979-01-01 13:00:00</td>\n      <td>3600</td>\n      <td>Bozanska</td>\n      <td>54.473028</td>\n      <td>18.302179</td>\n      <td>-13.01</td>\n      <td>NaN</td>\n      <td>-15.31</td>\n      <td>-20.01</td>\n      <td>...</td>\n      <td>NaN</td>\n      <td>NaN</td>\n      <td>0.17</td>\n      <td>NaN</td>\n      <td>100</td>\n      <td>600</td>\n      <td>Snow</td>\n      <td>light snow</td>\n      <td>13d</td>\n      <td>1979-01-01</td>\n    </tr>\n    <tr>\n      <th>14</th>\n      <td>284047200</td>\n      <td>1979-01-01 14:00:00</td>\n      <td>3600</td>\n      <td>Bozanska</td>\n      <td>54.473028</td>\n      <td>18.302179</td>\n      <td>-12.83</td>\n      <td>NaN</td>\n      <td>-15.27</td>\n      <td>-19.83</td>\n      <td>...</td>\n      <td>NaN</td>\n      <td>NaN</td>\n      <td>0.16</td>\n      <td>NaN</td>\n      <td>100</td>\n      <td>600</td>\n      <td>Snow</td>\n      <td>light snow</td>\n      <td>13d</td>\n      <td>1979-01-01</td>\n    </tr>\n    <tr>\n      <th>15</th>\n      <td>284050800</td>\n      <td>1979-01-01 15:00:00</td>\n      <td>3600</td>\n      <td>Bozanska</td>\n      <td>54.473028</td>\n      <td>18.302179</td>\n      <td>-11.83</td>\n      <td>NaN</td>\n      <td>-14.28</td>\n      <td>-18.83</td>\n      <td>...</td>\n      <td>NaN</td>\n      <td>NaN</td>\n      <td>0.16</td>\n      <td>NaN</td>\n      <td>100</td>\n      <td>600</td>\n      <td>Snow</td>\n      <td>light snow</td>\n      <td>13n</td>\n      <td>1979-01-01</td>\n    </tr>\n    <tr>\n      <th>16</th>\n      <td>284054400</td>\n      <td>1979-01-01 16:00:00</td>\n      <td>3600</td>\n      <td>Bozanska</td>\n      <td>54.473028</td>\n      <td>18.302179</td>\n      <td>-11.94</td>\n      <td>NaN</td>\n      <td>-14.39</td>\n      <td>-18.94</td>\n      <td>...</td>\n      <td>NaN</td>\n      <td>NaN</td>\n      <td>0.16</td>\n      <td>NaN</td>\n      <td>100</td>\n      <td>600</td>\n      <td>Snow</td>\n      <td>light snow</td>\n      <td>13n</td>\n      <td>1979-01-01</td>\n    </tr>\n    <tr>\n      <th>17</th>\n      <td>284058000</td>\n      <td>1979-01-01 17:00:00</td>\n      <td>3600</td>\n      <td>Bozanska</td>\n      <td>54.473028</td>\n      <td>18.302179</td>\n      <td>-12.10</td>\n      <td>NaN</td>\n      <td>-14.69</td>\n      <td>-19.10</td>\n      <td>...</td>\n      <td>NaN</td>\n      <td>NaN</td>\n      <td>0.15</td>\n      <td>NaN</td>\n      <td>100</td>\n      <td>600</td>\n      <td>Snow</td>\n      <td>light snow</td>\n      <td>13n</td>\n      <td>1979-01-01</td>\n    </tr>\n    <tr>\n      <th>18</th>\n      <td>284061600</td>\n      <td>1979-01-01 18:00:00</td>\n      <td>3600</td>\n      <td>Bozanska</td>\n      <td>54.473028</td>\n      <td>18.302179</td>\n      <td>-13.02</td>\n      <td>1600.0</td>\n      <td>-14.92</td>\n      <td>-13.02</td>\n      <td>...</td>\n      <td>NaN</td>\n      <td>NaN</td>\n      <td>0.14</td>\n      <td>NaN</td>\n      <td>100</td>\n      <td>600</td>\n      <td>Snow</td>\n      <td>light snow</td>\n      <td>13n</td>\n      <td>1979-01-01</td>\n    </tr>\n    <tr>\n      <th>19</th>\n      <td>284065200</td>\n      <td>1979-01-01 19:00:00</td>\n      <td>3600</td>\n      <td>Bozanska</td>\n      <td>54.473028</td>\n      <td>18.302179</td>\n      <td>-13.07</td>\n      <td>NaN</td>\n      <td>-15.37</td>\n      <td>-20.07</td>\n      <td>...</td>\n      <td>NaN</td>\n      <td>NaN</td>\n      <td>NaN</td>\n      <td>NaN</td>\n      <td>100</td>\n      <td>804</td>\n      <td>Clouds</td>\n      <td>overcast clouds</td>\n      <td>04n</td>\n      <td>1979-01-01</td>\n    </tr>\n  </tbody>\n</table>\n<p>20 rows × 29 columns</p>\n</div>"
     },
     "execution_count": 66,
     "metadata": {},
     "output_type": "execute_result"
    }
   ],
   "source": [
    "df_weather.head(20)"
   ],
   "metadata": {
    "id": "9f231f9237d984c9",
    "outputId": "25fc10a0-3538-4e2c-b109-ca0a1fe6565b",
    "ExecuteTime": {
     "end_time": "2024-02-24T20:40:49.088156300Z",
     "start_time": "2024-02-24T20:40:49.040012400Z"
    }
   },
   "id": "9f231f9237d984c9"
  },
  {
   "cell_type": "code",
   "execution_count": 67,
   "outputs": [
    {
     "data": {
      "text/plain": "          date city_name        lat        lon       temp  feels_like  \\\n0   1979-01-01  Bozanska  54.473028  18.302179 -14.100000  -20.617500   \n1   1979-01-02  Bozanska  54.473028  18.302179  -9.037917  -15.179167   \n2   1979-01-03  Bozanska  54.473028  18.302179 -10.780000  -16.679167   \n3   1979-01-04  Bozanska  54.473028  18.302179 -15.627083  -20.063750   \n4   1979-01-05  Bozanska  54.473028  18.302179  -5.102083  -11.947500   \n5   1979-01-06  Bozanska  54.473028  18.302179  -6.948333  -13.033750   \n6   1979-01-07  Bozanska  54.473028  18.302179  -7.670833  -14.644583   \n7   1979-01-08  Bozanska  54.473028  18.302179   0.062500   -5.922083   \n8   1979-01-09  Bozanska  54.473028  18.302179  -0.335417   -5.145417   \n9   1979-01-10  Bozanska  54.473028  18.302179  -1.374167   -7.143750   \n10  1979-01-11  Bozanska  54.473028  18.302179  -3.272083   -9.855417   \n\n    temp_min  temp_max     pressure   humidity  wind_speed  rain_1h  rain_3h  \\\n0     -19.14     -9.46  1002.416667  82.000000    6.157917      0.0      0.0   \n1     -14.14     -7.40  1004.791667  85.375000    4.449583      0.0      0.0   \n2     -16.33     -6.84  1004.500000  87.041667    3.805833      0.0      0.0   \n3     -21.14     -9.08  1008.916667  86.083333    2.346250      0.0      0.0   \n4     -11.22     -2.42  1014.500000  84.750000    6.470417      0.0      0.0   \n5     -13.14     -2.08  1027.666667  87.291667    4.378750      0.0      0.0   \n6     -13.43     -1.46  1024.958333  82.250000    9.538333      0.0      0.0   \n7      -3.14      0.92  1014.500000  95.583333    7.611667      0.0      0.0   \n8      -1.49      0.69  1009.541667  95.458333    4.762500      0.0      0.0   \n9      -4.29      0.16   999.291667  91.708333    6.078750      0.0      0.0   \n10     -5.24     -1.08   992.500000  90.500000    6.949167      0.0      0.0   \n\n    snow_1h  snow_3h  clouds_all weather_main  \n0      3.57      0.0         100         Snow  \n1      0.00      0.0         100       Clouds  \n2      1.02      0.0         100       Clouds  \n3      1.42      0.0         100       Clouds  \n4      1.81      0.0         100         Snow  \n5      0.00      0.0          93       Clouds  \n6      1.93      0.0         100       Clouds  \n7      0.22      0.0         100       Clouds  \n8      3.71      0.0         100       Clouds  \n9      1.25      0.0         100       Clouds  \n10     0.38      0.0         100       Clouds  ",
      "text/html": "<div>\n<style scoped>\n    .dataframe tbody tr th:only-of-type {\n        vertical-align: middle;\n    }\n\n    .dataframe tbody tr th {\n        vertical-align: top;\n    }\n\n    .dataframe thead th {\n        text-align: right;\n    }\n</style>\n<table border=\"1\" class=\"dataframe\">\n  <thead>\n    <tr style=\"text-align: right;\">\n      <th></th>\n      <th>date</th>\n      <th>city_name</th>\n      <th>lat</th>\n      <th>lon</th>\n      <th>temp</th>\n      <th>feels_like</th>\n      <th>temp_min</th>\n      <th>temp_max</th>\n      <th>pressure</th>\n      <th>humidity</th>\n      <th>wind_speed</th>\n      <th>rain_1h</th>\n      <th>rain_3h</th>\n      <th>snow_1h</th>\n      <th>snow_3h</th>\n      <th>clouds_all</th>\n      <th>weather_main</th>\n    </tr>\n  </thead>\n  <tbody>\n    <tr>\n      <th>0</th>\n      <td>1979-01-01</td>\n      <td>Bozanska</td>\n      <td>54.473028</td>\n      <td>18.302179</td>\n      <td>-14.100000</td>\n      <td>-20.617500</td>\n      <td>-19.14</td>\n      <td>-9.46</td>\n      <td>1002.416667</td>\n      <td>82.000000</td>\n      <td>6.157917</td>\n      <td>0.0</td>\n      <td>0.0</td>\n      <td>3.57</td>\n      <td>0.0</td>\n      <td>100</td>\n      <td>Snow</td>\n    </tr>\n    <tr>\n      <th>1</th>\n      <td>1979-01-02</td>\n      <td>Bozanska</td>\n      <td>54.473028</td>\n      <td>18.302179</td>\n      <td>-9.037917</td>\n      <td>-15.179167</td>\n      <td>-14.14</td>\n      <td>-7.40</td>\n      <td>1004.791667</td>\n      <td>85.375000</td>\n      <td>4.449583</td>\n      <td>0.0</td>\n      <td>0.0</td>\n      <td>0.00</td>\n      <td>0.0</td>\n      <td>100</td>\n      <td>Clouds</td>\n    </tr>\n    <tr>\n      <th>2</th>\n      <td>1979-01-03</td>\n      <td>Bozanska</td>\n      <td>54.473028</td>\n      <td>18.302179</td>\n      <td>-10.780000</td>\n      <td>-16.679167</td>\n      <td>-16.33</td>\n      <td>-6.84</td>\n      <td>1004.500000</td>\n      <td>87.041667</td>\n      <td>3.805833</td>\n      <td>0.0</td>\n      <td>0.0</td>\n      <td>1.02</td>\n      <td>0.0</td>\n      <td>100</td>\n      <td>Clouds</td>\n    </tr>\n    <tr>\n      <th>3</th>\n      <td>1979-01-04</td>\n      <td>Bozanska</td>\n      <td>54.473028</td>\n      <td>18.302179</td>\n      <td>-15.627083</td>\n      <td>-20.063750</td>\n      <td>-21.14</td>\n      <td>-9.08</td>\n      <td>1008.916667</td>\n      <td>86.083333</td>\n      <td>2.346250</td>\n      <td>0.0</td>\n      <td>0.0</td>\n      <td>1.42</td>\n      <td>0.0</td>\n      <td>100</td>\n      <td>Clouds</td>\n    </tr>\n    <tr>\n      <th>4</th>\n      <td>1979-01-05</td>\n      <td>Bozanska</td>\n      <td>54.473028</td>\n      <td>18.302179</td>\n      <td>-5.102083</td>\n      <td>-11.947500</td>\n      <td>-11.22</td>\n      <td>-2.42</td>\n      <td>1014.500000</td>\n      <td>84.750000</td>\n      <td>6.470417</td>\n      <td>0.0</td>\n      <td>0.0</td>\n      <td>1.81</td>\n      <td>0.0</td>\n      <td>100</td>\n      <td>Snow</td>\n    </tr>\n    <tr>\n      <th>5</th>\n      <td>1979-01-06</td>\n      <td>Bozanska</td>\n      <td>54.473028</td>\n      <td>18.302179</td>\n      <td>-6.948333</td>\n      <td>-13.033750</td>\n      <td>-13.14</td>\n      <td>-2.08</td>\n      <td>1027.666667</td>\n      <td>87.291667</td>\n      <td>4.378750</td>\n      <td>0.0</td>\n      <td>0.0</td>\n      <td>0.00</td>\n      <td>0.0</td>\n      <td>93</td>\n      <td>Clouds</td>\n    </tr>\n    <tr>\n      <th>6</th>\n      <td>1979-01-07</td>\n      <td>Bozanska</td>\n      <td>54.473028</td>\n      <td>18.302179</td>\n      <td>-7.670833</td>\n      <td>-14.644583</td>\n      <td>-13.43</td>\n      <td>-1.46</td>\n      <td>1024.958333</td>\n      <td>82.250000</td>\n      <td>9.538333</td>\n      <td>0.0</td>\n      <td>0.0</td>\n      <td>1.93</td>\n      <td>0.0</td>\n      <td>100</td>\n      <td>Clouds</td>\n    </tr>\n    <tr>\n      <th>7</th>\n      <td>1979-01-08</td>\n      <td>Bozanska</td>\n      <td>54.473028</td>\n      <td>18.302179</td>\n      <td>0.062500</td>\n      <td>-5.922083</td>\n      <td>-3.14</td>\n      <td>0.92</td>\n      <td>1014.500000</td>\n      <td>95.583333</td>\n      <td>7.611667</td>\n      <td>0.0</td>\n      <td>0.0</td>\n      <td>0.22</td>\n      <td>0.0</td>\n      <td>100</td>\n      <td>Clouds</td>\n    </tr>\n    <tr>\n      <th>8</th>\n      <td>1979-01-09</td>\n      <td>Bozanska</td>\n      <td>54.473028</td>\n      <td>18.302179</td>\n      <td>-0.335417</td>\n      <td>-5.145417</td>\n      <td>-1.49</td>\n      <td>0.69</td>\n      <td>1009.541667</td>\n      <td>95.458333</td>\n      <td>4.762500</td>\n      <td>0.0</td>\n      <td>0.0</td>\n      <td>3.71</td>\n      <td>0.0</td>\n      <td>100</td>\n      <td>Clouds</td>\n    </tr>\n    <tr>\n      <th>9</th>\n      <td>1979-01-10</td>\n      <td>Bozanska</td>\n      <td>54.473028</td>\n      <td>18.302179</td>\n      <td>-1.374167</td>\n      <td>-7.143750</td>\n      <td>-4.29</td>\n      <td>0.16</td>\n      <td>999.291667</td>\n      <td>91.708333</td>\n      <td>6.078750</td>\n      <td>0.0</td>\n      <td>0.0</td>\n      <td>1.25</td>\n      <td>0.0</td>\n      <td>100</td>\n      <td>Clouds</td>\n    </tr>\n    <tr>\n      <th>10</th>\n      <td>1979-01-11</td>\n      <td>Bozanska</td>\n      <td>54.473028</td>\n      <td>18.302179</td>\n      <td>-3.272083</td>\n      <td>-9.855417</td>\n      <td>-5.24</td>\n      <td>-1.08</td>\n      <td>992.500000</td>\n      <td>90.500000</td>\n      <td>6.949167</td>\n      <td>0.0</td>\n      <td>0.0</td>\n      <td>0.38</td>\n      <td>0.0</td>\n      <td>100</td>\n      <td>Clouds</td>\n    </tr>\n  </tbody>\n</table>\n</div>"
     },
     "execution_count": 67,
     "metadata": {},
     "output_type": "execute_result"
    }
   ],
   "source": [
    "daily_weather.head(11)"
   ],
   "metadata": {
    "id": "a3f0d89ebbda6a73",
    "outputId": "8dcf1648-7acd-4601-8962-9e3da6276925",
    "ExecuteTime": {
     "end_time": "2024-02-24T20:40:49.154648Z",
     "start_time": "2024-02-24T20:40:49.072116Z"
    }
   },
   "id": "a3f0d89ebbda6a73"
  },
  {
   "cell_type": "code",
   "execution_count": 67,
   "outputs": [],
   "source": [],
   "metadata": {
    "id": "1288a6a7e2d63a1c",
    "ExecuteTime": {
     "end_time": "2024-02-24T20:40:49.221368800Z",
     "start_time": "2024-02-24T20:40:49.104368900Z"
    }
   },
   "id": "1288a6a7e2d63a1c"
  }
 ],
 "metadata": {
  "colab": {
   "provenance": []
  },
  "kernelspec": {
   "display_name": "Python 3 (ipykernel)",
   "language": "python",
   "name": "python3"
  },
  "language_info": {
   "codemirror_mode": {
    "name": "ipython",
    "version": 3
   },
   "file_extension": ".py",
   "mimetype": "text/x-python",
   "name": "python",
   "nbconvert_exporter": "python",
   "pygments_lexer": "ipython3",
   "version": "3.9.13"
  }
 },
 "nbformat": 4,
 "nbformat_minor": 5
}
