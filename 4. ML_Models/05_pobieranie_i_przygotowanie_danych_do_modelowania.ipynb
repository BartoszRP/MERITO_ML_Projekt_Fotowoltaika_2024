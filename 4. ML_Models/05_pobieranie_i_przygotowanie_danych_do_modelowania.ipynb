{
 "cells": [
  {
   "cell_type": "markdown",
   "metadata": {},
   "source": [
    "## Przewidywanie Produkcji Energii Słonecznej: Analiza i Modelowanie\n",
    "\n",
    "Ten notebook dokumentuje proces przygotowania danych, analizy i modelowania w celu przewidywania produkcji energii słonecznej na przyszłe lata. Kroki wykonane w tym notebooku obejmują:\n",
    "\n",
    "- Wczytanie i wstępna analiza danych: Załadowanie danych z pliku CSV, sprawdzenie typów danych, brakujących wartości oraz podstawowych statystyk.\n",
    "- Analiza korelacji cech: Przeprowadzenie analizy korelacji, aby zidentyfikować zmienne najbardziej związane z produkcją energii, co pomoże w wyborze cech do modelowania.\n",
    "- Wybór modeli i cech: Na podstawie analizy korelacji wybór odpowiednich cech i przygotowanie danych do modelowania.\n",
    "- Porównanie modeli na ustawieniach domyślnych: Trenowanie różnych modeli regresyjnych z ustawieniami domyślnymi oraz porównanie ich wyników za pomocą metryk oceny.\n",
    "- Optymalizacja hiperparametrów: Przetestowanie różnych ustawień hiperparametrów dla wybranych modeli w celu poprawy ich wydajności.\n",
    "- Ekstrapolacja w przyszłość: Użycie najlepszego modelu do przewidywania produkcji energii na lata 2024-2035 oraz zapisanie wyników do pliku CSV.\n",
    "- Notatnik kończy się etapem, w którym wygenerowane dane są używane do przewidywania przyszłej produkcji energii, a wyniki są zapisywane, co umożliwia dalszą analizę i planowanie."
   ]
  },
  {
   "cell_type": "code",
   "execution_count": 1,
   "metadata": {},
   "outputs": [],
   "source": [
    "# Pandas jest używany do manipulacji i analizy danych\n",
    "import pandas as pd\n",
    "\n",
    "# NumPy jest używany do operacji numerycznych\n",
    "import numpy as np\n",
    "\n",
    "# LabelEncoder jest używany do kodowania etykiet (np. kategorycznych zmiennych tekstowych na wartości numeryczne)\n",
    "from sklearn.preprocessing import LabelEncoder\n",
    "\n",
    "# Seaborn i Matplotlib są używane do wizualizacji danych\n",
    "import seaborn as sns\n",
    "import matplotlib.pyplot as plt\n",
    "\n",
    "# train_test_split jest używany do podziału danych na zbiory treningowy i testowy\n",
    "from sklearn.model_selection import train_test_split\n",
    "\n",
    "# Importowanie modeli regresyjnych z różnych bibliotek\n",
    "from sklearn.linear_model import LinearRegression, Lasso, Ridge  # Modele regresji liniowej, Lasso i Ridge\n",
    "from sklearn.tree import DecisionTreeRegressor  # Model drzewa decyzyjnego\n",
    "from sklearn.ensemble import RandomForestRegressor  # Model lasu losowego\n",
    "from xgboost import XGBRegressor  # Model XGBoost\n",
    "\n",
    "# Importowanie metryk do oceny modeli\n",
    "from sklearn.metrics import mean_squared_error, r2_score, mean_absolute_error  # Metryki do oceny modeli\n",
    "\n",
    "# Importowanie narzędzi do walidacji krzyżowej\n",
    "from sklearn.model_selection import cross_val_score, RepeatedKFold, GridSearchCV  # Walidacja krzyżowa i przeszukiwanie siatki hiperparametrów\n",
    "\n",
    "# Joblib jest używany do zapisywania i wczytywania wytrenowanych modeli\n",
    "import joblib"
   ]
  },
  {
   "cell_type": "markdown",
   "metadata": {},
   "source": [
    "#### 1. Wczytanie i wstępna analiza danych"
   ]
  },
  {
   "cell_type": "code",
   "execution_count": null,
   "metadata": {},
   "outputs": [],
   "source": [
    "# Wczytanie danych z pliku CSV\n",
    "data_path = '../2. Data/processed/final_df_processed.csv'\n",
    "data = pd.read_csv(data_path)"
   ]
  },
  {
   "cell_type": "code",
   "execution_count": 2,
   "metadata": {},
   "outputs": [
    {
     "data": {
      "text/html": [
       "<div>\n",
       "<style scoped>\n",
       "    .dataframe tbody tr th:only-of-type {\n",
       "        vertical-align: middle;\n",
       "    }\n",
       "\n",
       "    .dataframe tbody tr th {\n",
       "        vertical-align: top;\n",
       "    }\n",
       "\n",
       "    .dataframe thead th {\n",
       "        text-align: right;\n",
       "    }\n",
       "</style>\n",
       "<table border=\"1\" class=\"dataframe\">\n",
       "  <thead>\n",
       "    <tr style=\"text-align: right;\">\n",
       "      <th></th>\n",
       "      <th>Unnamed: 0</th>\n",
       "      <th>date</th>\n",
       "      <th>city_name</th>\n",
       "      <th>lat</th>\n",
       "      <th>lon</th>\n",
       "      <th>temp</th>\n",
       "      <th>feels_like</th>\n",
       "      <th>temp_min</th>\n",
       "      <th>temp_max</th>\n",
       "      <th>pressure</th>\n",
       "      <th>humidity</th>\n",
       "      <th>wind_speed</th>\n",
       "      <th>clouds_all</th>\n",
       "      <th>weather_main</th>\n",
       "      <th>estimated_irradiance</th>\n",
       "      <th>temp_modifier</th>\n",
       "      <th>humidity_modifier</th>\n",
       "      <th>daily_energy_production_kWh</th>\n",
       "      <th>year</th>\n",
       "      <th>month</th>\n",
       "    </tr>\n",
       "  </thead>\n",
       "  <tbody>\n",
       "    <tr>\n",
       "      <th>0</th>\n",
       "      <td>0</td>\n",
       "      <td>1979-01-01</td>\n",
       "      <td>Baden_Baden</td>\n",
       "      <td>48.765640</td>\n",
       "      <td>8.228524</td>\n",
       "      <td>-10.442083</td>\n",
       "      <td>-16.532917</td>\n",
       "      <td>-16.18</td>\n",
       "      <td>3.02</td>\n",
       "      <td>1013.666667</td>\n",
       "      <td>81.916667</td>\n",
       "      <td>3.681667</td>\n",
       "      <td>84.500000</td>\n",
       "      <td>Cloudy</td>\n",
       "      <td>2.0</td>\n",
       "      <td>1.0</td>\n",
       "      <td>0.95</td>\n",
       "      <td>7.6</td>\n",
       "      <td>1979</td>\n",
       "      <td>1</td>\n",
       "    </tr>\n",
       "    <tr>\n",
       "      <th>1</th>\n",
       "      <td>1</td>\n",
       "      <td>1979-01-01</td>\n",
       "      <td>Bozanska</td>\n",
       "      <td>54.473028</td>\n",
       "      <td>18.302179</td>\n",
       "      <td>-14.100000</td>\n",
       "      <td>-20.617500</td>\n",
       "      <td>-19.14</td>\n",
       "      <td>-9.46</td>\n",
       "      <td>1002.416667</td>\n",
       "      <td>82.000000</td>\n",
       "      <td>6.157917</td>\n",
       "      <td>100.000000</td>\n",
       "      <td>Cloudy</td>\n",
       "      <td>2.0</td>\n",
       "      <td>1.0</td>\n",
       "      <td>0.95</td>\n",
       "      <td>7.6</td>\n",
       "      <td>1979</td>\n",
       "      <td>1</td>\n",
       "    </tr>\n",
       "    <tr>\n",
       "      <th>2</th>\n",
       "      <td>2</td>\n",
       "      <td>1979-01-01</td>\n",
       "      <td>Walcz_Drugi</td>\n",
       "      <td>53.257039</td>\n",
       "      <td>16.521203</td>\n",
       "      <td>-16.437083</td>\n",
       "      <td>-23.322500</td>\n",
       "      <td>-21.26</td>\n",
       "      <td>-9.57</td>\n",
       "      <td>1003.708333</td>\n",
       "      <td>82.416667</td>\n",
       "      <td>3.682083</td>\n",
       "      <td>94.791667</td>\n",
       "      <td>Cloudy</td>\n",
       "      <td>2.0</td>\n",
       "      <td>1.0</td>\n",
       "      <td>0.95</td>\n",
       "      <td>7.6</td>\n",
       "      <td>1979</td>\n",
       "      <td>1</td>\n",
       "    </tr>\n",
       "    <tr>\n",
       "      <th>3</th>\n",
       "      <td>3</td>\n",
       "      <td>1979-01-02</td>\n",
       "      <td>Baden_Baden</td>\n",
       "      <td>48.765640</td>\n",
       "      <td>8.228524</td>\n",
       "      <td>-8.856667</td>\n",
       "      <td>-14.874167</td>\n",
       "      <td>-15.82</td>\n",
       "      <td>-3.96</td>\n",
       "      <td>1024.250000</td>\n",
       "      <td>84.208333</td>\n",
       "      <td>4.524583</td>\n",
       "      <td>71.708333</td>\n",
       "      <td>Snow</td>\n",
       "      <td>1.5</td>\n",
       "      <td>1.0</td>\n",
       "      <td>0.95</td>\n",
       "      <td>5.7</td>\n",
       "      <td>1979</td>\n",
       "      <td>1</td>\n",
       "    </tr>\n",
       "    <tr>\n",
       "      <th>4</th>\n",
       "      <td>4</td>\n",
       "      <td>1979-01-02</td>\n",
       "      <td>Bozanska</td>\n",
       "      <td>54.473028</td>\n",
       "      <td>18.302179</td>\n",
       "      <td>-9.037917</td>\n",
       "      <td>-15.179167</td>\n",
       "      <td>-14.14</td>\n",
       "      <td>-7.40</td>\n",
       "      <td>1004.791667</td>\n",
       "      <td>85.375000</td>\n",
       "      <td>4.449583</td>\n",
       "      <td>99.541667</td>\n",
       "      <td>Cloudy</td>\n",
       "      <td>2.0</td>\n",
       "      <td>1.0</td>\n",
       "      <td>0.95</td>\n",
       "      <td>7.6</td>\n",
       "      <td>1979</td>\n",
       "      <td>1</td>\n",
       "    </tr>\n",
       "  </tbody>\n",
       "</table>\n",
       "</div>"
      ],
      "text/plain": [
       "   Unnamed: 0        date    city_name        lat        lon       temp  \\\n",
       "0           0  1979-01-01  Baden_Baden  48.765640   8.228524 -10.442083   \n",
       "1           1  1979-01-01     Bozanska  54.473028  18.302179 -14.100000   \n",
       "2           2  1979-01-01  Walcz_Drugi  53.257039  16.521203 -16.437083   \n",
       "3           3  1979-01-02  Baden_Baden  48.765640   8.228524  -8.856667   \n",
       "4           4  1979-01-02     Bozanska  54.473028  18.302179  -9.037917   \n",
       "\n",
       "   feels_like  temp_min  temp_max     pressure   humidity  wind_speed  \\\n",
       "0  -16.532917    -16.18      3.02  1013.666667  81.916667    3.681667   \n",
       "1  -20.617500    -19.14     -9.46  1002.416667  82.000000    6.157917   \n",
       "2  -23.322500    -21.26     -9.57  1003.708333  82.416667    3.682083   \n",
       "3  -14.874167    -15.82     -3.96  1024.250000  84.208333    4.524583   \n",
       "4  -15.179167    -14.14     -7.40  1004.791667  85.375000    4.449583   \n",
       "\n",
       "   clouds_all weather_main  estimated_irradiance  temp_modifier  \\\n",
       "0   84.500000       Cloudy                   2.0            1.0   \n",
       "1  100.000000       Cloudy                   2.0            1.0   \n",
       "2   94.791667       Cloudy                   2.0            1.0   \n",
       "3   71.708333         Snow                   1.5            1.0   \n",
       "4   99.541667       Cloudy                   2.0            1.0   \n",
       "\n",
       "   humidity_modifier  daily_energy_production_kWh  year  month  \n",
       "0               0.95                          7.6  1979      1  \n",
       "1               0.95                          7.6  1979      1  \n",
       "2               0.95                          7.6  1979      1  \n",
       "3               0.95                          5.7  1979      1  \n",
       "4               0.95                          7.6  1979      1  "
      ]
     },
     "execution_count": 2,
     "metadata": {},
     "output_type": "execute_result"
    }
   ],
   "source": [
    "# Wyświetlenie pierwszych kilku wierszy DataFrame, aby zweryfikować poprawność wczytania danych\n",
    "data.head()"
   ]
  },
  {
   "cell_type": "code",
   "execution_count": 3,
   "metadata": {},
   "outputs": [
    {
     "data": {
      "text/plain": [
       "array(['Cloudy', 'Snow', 'Clouds', 'Mist', 'Haze', 'Clear', 'Rain', 'Fog',\n",
       "       'Drizzle'], dtype=object)"
      ]
     },
     "execution_count": 3,
     "metadata": {},
     "output_type": "execute_result"
    }
   ],
   "source": [
    "# Unikalne wartości w kolumnie 'weather_main'\n",
    "data[\"weather_main\"].unique()"
   ]
  },
  {
   "cell_type": "code",
   "execution_count": 4,
   "metadata": {},
   "outputs": [
    {
     "name": "stdout",
     "output_type": "stream",
     "text": [
      "<class 'pandas.core.frame.DataFrame'>\n",
      "RangeIndex: 49308 entries, 0 to 49307\n",
      "Data columns (total 20 columns):\n",
      " #   Column                       Non-Null Count  Dtype  \n",
      "---  ------                       --------------  -----  \n",
      " 0   Unnamed: 0                   49308 non-null  int64  \n",
      " 1   date                         49308 non-null  object \n",
      " 2   city_name                    49308 non-null  object \n",
      " 3   lat                          49308 non-null  float64\n",
      " 4   lon                          49308 non-null  float64\n",
      " 5   temp                         49308 non-null  float64\n",
      " 6   feels_like                   49308 non-null  float64\n",
      " 7   temp_min                     49308 non-null  float64\n",
      " 8   temp_max                     49308 non-null  float64\n",
      " 9   pressure                     49308 non-null  float64\n",
      " 10  humidity                     49308 non-null  float64\n",
      " 11  wind_speed                   49308 non-null  float64\n",
      " 12  clouds_all                   49308 non-null  float64\n",
      " 13  weather_main                 49308 non-null  object \n",
      " 14  estimated_irradiance         49308 non-null  float64\n",
      " 15  temp_modifier                49308 non-null  float64\n",
      " 16  humidity_modifier            49308 non-null  float64\n",
      " 17  daily_energy_production_kWh  49308 non-null  float64\n",
      " 18  year                         49308 non-null  int64  \n",
      " 19  month                        49308 non-null  int64  \n",
      "dtypes: float64(14), int64(3), object(3)\n",
      "memory usage: 7.5+ MB\n"
     ]
    },
    {
     "data": {
      "text/plain": [
       "(         Unnamed: 0           lat           lon          temp    feels_like  \\\n",
       " count  49308.000000  49308.000000  49308.000000  49308.000000  49308.000000   \n",
       " mean   24653.500000     52.165236     14.350635      8.896254      6.982085   \n",
       " std    14234.137873      2.454625      4.389665      7.747658      9.282311   \n",
       " min        0.000000     48.765640      8.228524    -22.734583    -29.682083   \n",
       " 25%    12326.750000     48.765640      8.228524      3.004271     -0.331528   \n",
       " 50%    24653.500000     53.257039     16.521203      9.069167      7.395208   \n",
       " 75%    36980.250000     54.473028     18.302179     15.077917     14.645938   \n",
       " max    49307.000000     54.473028     18.302179     30.162083     30.661667   \n",
       " \n",
       "            temp_min      temp_max      pressure      humidity    wind_speed  \\\n",
       " count  49308.000000  49308.000000  49308.000000  49308.000000  49308.000000   \n",
       " mean       4.408741     13.084188   1015.635358     80.171957      3.726556   \n",
       " std        7.069529      8.937748      9.251157     11.037107      1.755812   \n",
       " min      -30.120000    -19.150000    967.875000     33.125000      0.000000   \n",
       " 25%       -0.370000      5.890000   1010.166667     73.083333      2.425000   \n",
       " 50%        4.650000     13.240000   1015.916667     81.791667      3.430593   \n",
       " 75%        9.880000     19.950000   1021.458333     88.807692      4.705938   \n",
       " max       22.080000     38.990000   1049.708333    100.000000     15.084615   \n",
       " \n",
       "          clouds_all  estimated_irradiance  temp_modifier  humidity_modifier  \\\n",
       " count  49308.000000          49308.000000   49308.000000       49308.000000   \n",
       " mean      57.406615              2.636048       0.999714           0.972132   \n",
       " std       29.669599              0.967795       0.003770           0.024835   \n",
       " min        0.000000              1.000000       0.950000           0.950000   \n",
       " 25%       34.666667              2.000000       1.000000           0.950000   \n",
       " 50%       62.291667              2.500000       1.000000           0.950000   \n",
       " 75%       81.766429              2.500000       1.000000           1.000000   \n",
       " max      100.000000              5.000000       1.000000           1.000000   \n",
       " \n",
       "        daily_energy_production_kWh          year         month  \n",
       " count                 49308.000000  49308.000000  49308.000000  \n",
       " mean                     10.291564   2000.999331      6.522998  \n",
       " std                       3.928379     12.987107      3.448719  \n",
       " min                       3.800000   1979.000000      1.000000  \n",
       " 25%                       7.600000   1990.000000      4.000000  \n",
       " 50%                       9.500000   2001.000000      7.000000  \n",
       " 75%                      10.000000   2012.000000     10.000000  \n",
       " max                      20.000000   2023.000000     12.000000  ,\n",
       " None)"
      ]
     },
     "execution_count": 4,
     "metadata": {},
     "output_type": "execute_result"
    }
   ],
   "source": [
    "# Podstawowe informacje o danych\n",
    "data.describe(),data.info()"
   ]
  },
  {
   "cell_type": "code",
   "execution_count": 5,
   "metadata": {},
   "outputs": [
    {
     "data": {
      "text/plain": [
       "Unnamed: 0                       int64\n",
       "date                            object\n",
       "city_name                       object\n",
       "lat                            float64\n",
       "lon                            float64\n",
       "temp                           float64\n",
       "feels_like                     float64\n",
       "temp_min                       float64\n",
       "temp_max                       float64\n",
       "pressure                       float64\n",
       "humidity                       float64\n",
       "wind_speed                     float64\n",
       "clouds_all                     float64\n",
       "weather_main                    object\n",
       "estimated_irradiance           float64\n",
       "temp_modifier                  float64\n",
       "humidity_modifier              float64\n",
       "daily_energy_production_kWh    float64\n",
       "year                             int64\n",
       "month                            int64\n",
       "dtype: object"
      ]
     },
     "execution_count": 5,
     "metadata": {},
     "output_type": "execute_result"
    }
   ],
   "source": [
    "# Typy danych w DataFrame\n",
    "data.dtypes"
   ]
  },
  {
   "cell_type": "markdown",
   "metadata": {},
   "source": [
    "**Oto podstawowe informacje o danych:**\n",
    "\n",
    "- Rozmiar danych: Dataset zawiera 49308 wierszy i 20 kolumn.\n",
    "\n",
    "- Typy danych: Mieszanka typów danych, w tym liczbowe (int64, float64) i obiekty (object dla tekstowych danych jak data czy nazwa miasta).\n",
    "\n",
    "- Statystyki: Dane pokazują różnorodność wartości, np. temperatura (temp) sięga od -22.73°C do 30.16°C, co wskazuje na szeroki zakres warunków pogodowych w zbiorze danych.\n",
    "\n",
    "- Brak brakujących wartości: Wszystkie kolumny mają kompletny zestaw danych bez braków, co ułatwia dalszą analizę."
   ]
  },
  {
   "cell_type": "markdown",
   "metadata": {},
   "source": [
    "#### 2. Analiza korelacji cech"
   ]
  },
  {
   "cell_type": "markdown",
   "metadata": {},
   "source": [
    "Sprawdzenie korelację poszczególnych cech z kolumną **daily_energy_production_kWh**:"
   ]
  },
  {
   "cell_type": "code",
   "execution_count": 6,
   "metadata": {},
   "outputs": [],
   "source": [
    "#Usuwanie kolumny Unnamed: 0:\n",
    "data = data.drop(columns=['Unnamed: 0'])"
   ]
  },
  {
   "cell_type": "code",
   "execution_count": 7,
   "metadata": {},
   "outputs": [],
   "source": [
    "#Konwersja daty na numeryczne składniki:\n",
    "data['year'] = pd.to_datetime(data['date']).dt.year # Ekstrakcja roku\n",
    "data['month'] = pd.to_datetime(data['date']).dt.month # Ekstrakcja miesiąca\n",
    "data['day'] = pd.to_datetime(data['date']).dt.day # Ekstrakcja dnia\n",
    "data = data.drop(columns=['date']) # Usunięcie oryginalnej kolumny z datą"
   ]
  },
  {
   "cell_type": "code",
   "execution_count": 8,
   "metadata": {},
   "outputs": [],
   "source": [
    "# Przekształcenie kolumny 'city_name' na wartości numeryczne za pomocą LabelEncoder\n",
    "encoder = LabelEncoder()\n",
    "data['city_name'] = encoder.fit_transform(data['city_name']) # Kodowanie etykiet miast na liczby\n",
    "data['weather_main'] = encoder.fit_transform(data['weather_main']) # Kodowanie warunków pogodowych na liczby"
   ]
  },
  {
   "cell_type": "code",
   "execution_count": 10,
   "metadata": {},
   "outputs": [
    {
     "name": "stdout",
     "output_type": "stream",
     "text": [
      "<class 'pandas.core.frame.DataFrame'>\n",
      "RangeIndex: 49308 entries, 0 to 49307\n",
      "Data columns (total 19 columns):\n",
      " #   Column                       Non-Null Count  Dtype  \n",
      "---  ------                       --------------  -----  \n",
      " 0   city_name                    49308 non-null  int32  \n",
      " 1   lat                          49308 non-null  float64\n",
      " 2   lon                          49308 non-null  float64\n",
      " 3   temp                         49308 non-null  float64\n",
      " 4   feels_like                   49308 non-null  float64\n",
      " 5   temp_min                     49308 non-null  float64\n",
      " 6   temp_max                     49308 non-null  float64\n",
      " 7   pressure                     49308 non-null  float64\n",
      " 8   humidity                     49308 non-null  float64\n",
      " 9   wind_speed                   49308 non-null  float64\n",
      " 10  clouds_all                   49308 non-null  float64\n",
      " 11  weather_main                 49308 non-null  int32  \n",
      " 12  estimated_irradiance         49308 non-null  float64\n",
      " 13  temp_modifier                49308 non-null  float64\n",
      " 14  humidity_modifier            49308 non-null  float64\n",
      " 15  daily_energy_production_kWh  49308 non-null  float64\n",
      " 16  year                         49308 non-null  int64  \n",
      " 17  month                        49308 non-null  int64  \n",
      " 18  day                          49308 non-null  int64  \n",
      "dtypes: float64(14), int32(2), int64(3)\n",
      "memory usage: 6.8 MB\n"
     ]
    }
   ],
   "source": [
    "# Sprawdzenie nowej struktury danych\n",
    "data.info()"
   ]
  },
  {
   "cell_type": "code",
   "execution_count": 11,
   "metadata": {},
   "outputs": [
    {
     "data": {
      "text/html": [
       "<div>\n",
       "<style scoped>\n",
       "    .dataframe tbody tr th:only-of-type {\n",
       "        vertical-align: middle;\n",
       "    }\n",
       "\n",
       "    .dataframe tbody tr th {\n",
       "        vertical-align: top;\n",
       "    }\n",
       "\n",
       "    .dataframe thead th {\n",
       "        text-align: right;\n",
       "    }\n",
       "</style>\n",
       "<table border=\"1\" class=\"dataframe\">\n",
       "  <thead>\n",
       "    <tr style=\"text-align: right;\">\n",
       "      <th></th>\n",
       "      <th>city_name</th>\n",
       "      <th>lat</th>\n",
       "      <th>lon</th>\n",
       "      <th>temp</th>\n",
       "      <th>feels_like</th>\n",
       "      <th>temp_min</th>\n",
       "      <th>temp_max</th>\n",
       "      <th>pressure</th>\n",
       "      <th>humidity</th>\n",
       "      <th>wind_speed</th>\n",
       "      <th>clouds_all</th>\n",
       "      <th>weather_main</th>\n",
       "      <th>estimated_irradiance</th>\n",
       "      <th>temp_modifier</th>\n",
       "      <th>humidity_modifier</th>\n",
       "      <th>daily_energy_production_kWh</th>\n",
       "      <th>year</th>\n",
       "      <th>month</th>\n",
       "      <th>day</th>\n",
       "    </tr>\n",
       "  </thead>\n",
       "  <tbody>\n",
       "    <tr>\n",
       "      <th>0</th>\n",
       "      <td>0</td>\n",
       "      <td>48.765640</td>\n",
       "      <td>8.228524</td>\n",
       "      <td>-10.442083</td>\n",
       "      <td>-16.532917</td>\n",
       "      <td>-16.18</td>\n",
       "      <td>3.02</td>\n",
       "      <td>1013.666667</td>\n",
       "      <td>81.916667</td>\n",
       "      <td>3.681667</td>\n",
       "      <td>84.500000</td>\n",
       "      <td>2</td>\n",
       "      <td>2.0</td>\n",
       "      <td>1.0</td>\n",
       "      <td>0.95</td>\n",
       "      <td>7.6</td>\n",
       "      <td>1979</td>\n",
       "      <td>1</td>\n",
       "      <td>1</td>\n",
       "    </tr>\n",
       "    <tr>\n",
       "      <th>1</th>\n",
       "      <td>1</td>\n",
       "      <td>54.473028</td>\n",
       "      <td>18.302179</td>\n",
       "      <td>-14.100000</td>\n",
       "      <td>-20.617500</td>\n",
       "      <td>-19.14</td>\n",
       "      <td>-9.46</td>\n",
       "      <td>1002.416667</td>\n",
       "      <td>82.000000</td>\n",
       "      <td>6.157917</td>\n",
       "      <td>100.000000</td>\n",
       "      <td>2</td>\n",
       "      <td>2.0</td>\n",
       "      <td>1.0</td>\n",
       "      <td>0.95</td>\n",
       "      <td>7.6</td>\n",
       "      <td>1979</td>\n",
       "      <td>1</td>\n",
       "      <td>1</td>\n",
       "    </tr>\n",
       "    <tr>\n",
       "      <th>2</th>\n",
       "      <td>2</td>\n",
       "      <td>53.257039</td>\n",
       "      <td>16.521203</td>\n",
       "      <td>-16.437083</td>\n",
       "      <td>-23.322500</td>\n",
       "      <td>-21.26</td>\n",
       "      <td>-9.57</td>\n",
       "      <td>1003.708333</td>\n",
       "      <td>82.416667</td>\n",
       "      <td>3.682083</td>\n",
       "      <td>94.791667</td>\n",
       "      <td>2</td>\n",
       "      <td>2.0</td>\n",
       "      <td>1.0</td>\n",
       "      <td>0.95</td>\n",
       "      <td>7.6</td>\n",
       "      <td>1979</td>\n",
       "      <td>1</td>\n",
       "      <td>1</td>\n",
       "    </tr>\n",
       "    <tr>\n",
       "      <th>3</th>\n",
       "      <td>0</td>\n",
       "      <td>48.765640</td>\n",
       "      <td>8.228524</td>\n",
       "      <td>-8.856667</td>\n",
       "      <td>-14.874167</td>\n",
       "      <td>-15.82</td>\n",
       "      <td>-3.96</td>\n",
       "      <td>1024.250000</td>\n",
       "      <td>84.208333</td>\n",
       "      <td>4.524583</td>\n",
       "      <td>71.708333</td>\n",
       "      <td>8</td>\n",
       "      <td>1.5</td>\n",
       "      <td>1.0</td>\n",
       "      <td>0.95</td>\n",
       "      <td>5.7</td>\n",
       "      <td>1979</td>\n",
       "      <td>1</td>\n",
       "      <td>2</td>\n",
       "    </tr>\n",
       "    <tr>\n",
       "      <th>4</th>\n",
       "      <td>1</td>\n",
       "      <td>54.473028</td>\n",
       "      <td>18.302179</td>\n",
       "      <td>-9.037917</td>\n",
       "      <td>-15.179167</td>\n",
       "      <td>-14.14</td>\n",
       "      <td>-7.40</td>\n",
       "      <td>1004.791667</td>\n",
       "      <td>85.375000</td>\n",
       "      <td>4.449583</td>\n",
       "      <td>99.541667</td>\n",
       "      <td>2</td>\n",
       "      <td>2.0</td>\n",
       "      <td>1.0</td>\n",
       "      <td>0.95</td>\n",
       "      <td>7.6</td>\n",
       "      <td>1979</td>\n",
       "      <td>1</td>\n",
       "      <td>2</td>\n",
       "    </tr>\n",
       "  </tbody>\n",
       "</table>\n",
       "</div>"
      ],
      "text/plain": [
       "   city_name        lat        lon       temp  feels_like  temp_min  temp_max  \\\n",
       "0          0  48.765640   8.228524 -10.442083  -16.532917    -16.18      3.02   \n",
       "1          1  54.473028  18.302179 -14.100000  -20.617500    -19.14     -9.46   \n",
       "2          2  53.257039  16.521203 -16.437083  -23.322500    -21.26     -9.57   \n",
       "3          0  48.765640   8.228524  -8.856667  -14.874167    -15.82     -3.96   \n",
       "4          1  54.473028  18.302179  -9.037917  -15.179167    -14.14     -7.40   \n",
       "\n",
       "      pressure   humidity  wind_speed  clouds_all  weather_main  \\\n",
       "0  1013.666667  81.916667    3.681667   84.500000             2   \n",
       "1  1002.416667  82.000000    6.157917  100.000000             2   \n",
       "2  1003.708333  82.416667    3.682083   94.791667             2   \n",
       "3  1024.250000  84.208333    4.524583   71.708333             8   \n",
       "4  1004.791667  85.375000    4.449583   99.541667             2   \n",
       "\n",
       "   estimated_irradiance  temp_modifier  humidity_modifier  \\\n",
       "0                   2.0            1.0               0.95   \n",
       "1                   2.0            1.0               0.95   \n",
       "2                   2.0            1.0               0.95   \n",
       "3                   1.5            1.0               0.95   \n",
       "4                   2.0            1.0               0.95   \n",
       "\n",
       "   daily_energy_production_kWh  year  month  day  \n",
       "0                          7.6  1979      1    1  \n",
       "1                          7.6  1979      1    1  \n",
       "2                          7.6  1979      1    1  \n",
       "3                          5.7  1979      1    2  \n",
       "4                          7.6  1979      1    2  "
      ]
     },
     "execution_count": 11,
     "metadata": {},
     "output_type": "execute_result"
    }
   ],
   "source": [
    "# Wyświetlenie pierwszych kilku wierszy DataFrame\n",
    "data.head()"
   ]
  },
  {
   "cell_type": "code",
   "execution_count": 12,
   "metadata": {},
   "outputs": [],
   "source": [
    "# Zapis przetworzonych danych do pliku CSV\n",
    "data.to_csv('../2. Data/processed/data_ml_processed.csv')"
   ]
  },
  {
   "cell_type": "markdown",
   "metadata": {},
   "source": [
    "**Macierz korelacji (heatmap):**\n",
    "\n",
    "- Cel: Wizualizacja korelacji między wszystkimi parami zmiennych w zbiorze danych.\n",
    "- Wykres: Heatmap (mapa cieplna) przedstawiająca macierz korelacji.\n",
    "- Prezentacja: Wartości korelacji są reprezentowane przez kolor i liczby na siatce, co umożliwia szybkie zrozumienie wzajemnych relacji między wszystkimi zmiennymi.\n",
    "- Macierz korelacji: Pokazuje wszystkie pary zmiennych."
   ]
  },
  {
   "cell_type": "code",
   "execution_count": 13,
   "metadata": {},
   "outputs": [
    {
     "data": {
      "image/png": "[encoded data removed]",
      "text/plain": [
       "<Figure size 720x720 with 2 Axes>"
      ]
     },
     "metadata": {
      "needs_background": "light"
     },
     "output_type": "display_data"
    }
   ],
   "source": [
    "# Obliczenie macierzy korelacji\n",
    "correlation_matrix = data.corr()\n",
    "\n",
    "# Wizualizacja macierzy korelacji\n",
    "plt.figure(figsize=(10, 10)) # Ustawienie rozmiaru wykresu\n",
    "sns.heatmap(correlation_matrix, annot=True, cmap='coolwarm', fmt=\".2f\") # Tworzenie wykresu heatmap\n",
    "plt.title('Macierz korelacji cech') # Dodanie tytułu\n",
    "plt.show() # Wyświetlenie wykresu"
   ]
  },
  {
   "cell_type": "markdown",
   "metadata": {},
   "source": [
    "**Wykres korelacji zmiennej celu (barplot):**\n",
    "\n",
    "- Cel: Wyświetlenie korelacji jednej wybranej zmiennej (np. daily_energy_production_kWh) z innymi zmiennymi.\n",
    "- Wykres: Barplot (wykres słupkowy) przedstawiający korelacje zmiennej celu z innymi zmiennymi.\n",
    "- Prezentacja: Wartości korelacji są reprezentowane przez długość słupków, co umożliwia szybkie zrozumienie, które zmienne mają największy wpływ na zmienną celu.\n",
    "- Wykres korelacji zmiennej celu: Koncentruje się tylko na jednej zmiennej i jej korelacjach z innymi zmiennymi."
   ]
  },
  {
   "cell_type": "code",
   "execution_count": 14,
   "metadata": {},
   "outputs": [
    {
     "data": {
      "image/png": "[encoded data removed]",
      "text/plain": [
       "<Figure size 720x576 with 1 Axes>"
      ]
     },
     "metadata": {
      "needs_background": "light"
     },
     "output_type": "display_data"
    },
    {
     "data": {
      "text/plain": [
       "daily_energy_production_kWh    1.000000\n",
       "estimated_irradiance           0.998144\n",
       "humidity_modifier              0.522087\n",
       "temp_max                       0.368312\n",
       "temp                           0.271272\n",
       "feels_like                     0.265018\n",
       "pressure                       0.247649\n",
       "year                           0.130859\n",
       "temp_min                       0.111466\n",
       "day                            0.008118\n",
       "lat                            0.004938\n",
       "lon                           -0.000474\n",
       "month                         -0.039233\n",
       "temp_modifier                 -0.080066\n",
       "city_name                     -0.092869\n",
       "wind_speed                    -0.123223\n",
       "humidity                      -0.602805\n",
       "weather_main                  -0.685794\n",
       "clouds_all                    -0.814870\n",
       "Name: daily_energy_production_kWh, dtype: float64"
      ]
     },
     "execution_count": 14,
     "metadata": {},
     "output_type": "execute_result"
    }
   ],
   "source": [
    "# Obliczenie macierzy korelacji\n",
    "correlation_matrix = data.corr()\n",
    "\n",
    "# Wyświetlenie korelacji zmiennej celu z innymi zmiennymi\n",
    "correlation_target = correlation_matrix['daily_energy_production_kWh'].sort_values(ascending=False)\n",
    "\n",
    "# Wykres korelacji\n",
    "plt.figure(figsize=(10, 8))  # Ustawienie rozmiaru wykresu\n",
    "sns.barplot(y=correlation_target.index, x=correlation_target.values, palette='coolwarm')  # Tworzenie wykresu słupkowego\n",
    "plt.title('Korelacja z daily_energy_production_kWh')  # Dodanie tytułu\n",
    "plt.xlabel('Współczynnik korelacji')  # Dodanie etykiety osi X\n",
    "plt.show()  # Wyświetlenie wykresu\n",
    "\n",
    "# Wyświetlenie wartości korelacji\n",
    "correlation_target"
   ]
  },
  {
   "cell_type": "markdown",
   "metadata": {},
   "source": [
    "#### Analiza korelacji ujawniła kilka interesujących zależności:\n",
    "\n",
    "- Zmienna estimated_irradiance ma bardzo wysoką korelację (prawie 1) z daily_energy_production_kWh, co wskazuje, że jest to kluczowy czynnik wpływający na produkcję energii.\n",
    "- Inne zmienne takie jak humidity_modifier, temp_max, temp, i feels_like również pokazują pozytywną korelację z produkcją energii, chociaż są znacznie słabsze.\n",
    "- Zmienne takie jak humidity i clouds_all mają silną ujemną korelację z produkcją energii, co oznacza, że wyższe wartości tych zmiennych mogą prowadzić do mniejszej produkcji energii."
   ]
  },
  {
   "cell_type": "markdown",
   "metadata": {},
   "source": [
    "#### 3. Wybór modeli i cech do modelowania"
   ]
  },
  {
   "cell_type": "markdown",
   "metadata": {},
   "source": [
    "Na podstawie analizy korelacji, warto wybrać modele, które najlepiej radzą sobie z regresją, ponieważ mamy do czynienia z ciągłą zmienną celu (produkcja energii). Oto modele z sklearn, które weźmiemy pod uwagę:\n",
    "\n",
    "1. Regresja liniowa (dobra dla liniowych zależności)\n",
    "2. Drzewo decyzyjne (może modelować nieliniowe zależności)\n",
    "3. RandomForest (ensemble drzew decyzyjnych, bardziej rozbudowany i zazwyczaj bardziej dokładny)\n",
    "4. XGBoost (bardzo skuteczny model gradient boosting)\n",
    "\n",
    "**Uwaga:**\n",
    "Modele takie jak NearestCentroid, KNeighborsClassifier, Naive Bayes, i SVC są zazwyczaj stosowane do klasyfikacji, więc nie będą odpowiednie do naszego przypadku."
   ]
  },
  {
   "cell_type": "markdown",
   "metadata": {},
   "source": [
    "#### Przygotowanie danych do modelowania"
   ]
  },
  {
   "cell_type": "markdown",
   "metadata": {},
   "source": [
    "Wybiorę następujące cechy na podstawie korelacji:\n",
    "\n",
    "- estimated_irradiance\n",
    "- humidity_modifier\n",
    "- temp_max\n",
    "- temp\n",
    "- feels_like\n",
    "- pressure\n",
    "- humidity\n",
    "- clouds_all\n",
    "- year\n",
    "- month"
   ]
  },
  {
   "cell_type": "markdown",
   "metadata": {},
   "source": [
    "**Cechy do zachowania:**\n",
    "- estimated_irradiance - Ze względu na bardzo wysoką korelację z produkcją energii, jest to kluczowa cecha do modelowania.\n",
    "- humidity_modifier - Posiada umiarkowaną pozytywną korelację, co może być przydatne.\n",
    "- temp - Podobnie jak temp_max, ale warto zastanowić się, czy nie jest redundantna w stosunku do temp_max.\n",
    "- feels_like, pressure - Posiadają pewien potencjalny wpływ na model, mogą być rozważone w zależności od wyników wstępnych modeli.\n",
    "- Geograficzne i czasowe (year, month, day, lat, lon) - Jeżeli chcesz analizować i wizualizować wyniki w kontekście czasowym i geograficznym.\n",
    "\n",
    "**Cechy do usunięcia:**\n",
    "- temp_min, temp_max - Może być redundantna, gdyż mamy już temp.\n",
    "- temp_modifier - Niska korelacja, możliwe, że nie wnosi dużo do modelu.\n",
    "- city_name, weather_main, clouds_all - Mają ujemne korelacje i mogą nie być potrzebne w modelu, jeżeli skupiamy się na bezpośrednich wpływach meteorologicznych i irradiacjiw.\n",
    "- wind_speed, humidity - Ich korelacje są niskie lub negatywne, mogą być mniej istotne dla modelu, zwłaszcza jeśli chcesz uproszczenia."
   ]
  },
  {
   "cell_type": "markdown",
   "metadata": {},
   "source": [
    "**POPORAWIC TEKST BO INNE CECHY**"
   ]
  },
  {
   "cell_type": "code",
   "execution_count": 17,
   "metadata": {},
   "outputs": [],
   "source": [
    "# Usunięcie zbędnych cech, które nie są potrzebne do modelowania\n",
    "data = data.drop(columns=['temp_max', 'temp_min'])\n",
    "\n",
    "# Wybór cech (features) i zmiennej celu (target)\n",
    "# Zaktualizowana lista wybranych cech, które będą używane do trenowania modelu\n",
    "features = [\n",
    "    'temp', 'estimated_irradiance', 'humidity_modifier', 'pressure', 'feels_like',\n",
    "    'year', 'month', 'day', 'lat', 'lon', 'city_name', 'clouds_all', 'weather_main'\n",
    "]\n",
    "X = data[features]  # Macierz cech zawierająca wybrane cechy\n",
    "y = data['daily_energy_production_kWh']  # Zmienna celu\n",
    "\n",
    "# Podział danych na zbiory treningowy i testowy\n",
    "# X_train, y_train będą używane do trenowania modelu\n",
    "# X_test, y_test będą używane do oceny wydajności modelu\n",
    "X_train, X_test, y_train, y_test = train_test_split(X, y, test_size=0.2, random_state=42)\n",
    "# test_size=0.2 oznacza, że 20% danych zostanie przeznaczone na zbiór testowy\n",
    "# random_state=42 zapewnia powtarzalność podziału danych"
   ]
  },
  {
   "cell_type": "markdown",
   "metadata": {},
   "source": [
    "Dane zostały podzielone na zbiory treningowe i testowe. Mamy 39446 obserwacji w zbiorze treningowym i 9862 w zbiorze testowym, przy wykorzystaniu 8 cech."
   ]
  },
  {
   "cell_type": "markdown",
   "metadata": {},
   "source": [
    "#### 4. Trenowanie modeli na ustawieniach domyślnych"
   ]
  },
  {
   "cell_type": "markdown",
   "metadata": {},
   "source": [
    "Zaczniemy od trenowania czterech wybranych modeli:\n",
    "\n",
    "1. Regresja liniowa\n",
    "2. Drzewo decyzyjne\n",
    "3. Random Forest\n",
    "4. XGBoost\n",
    "\n",
    "**Regresja liniowa:**\n",
    "Regresja liniowa jest jednym z podstawowych algorytmów używanych w analizie regresji. Zakłada ona liniową zależność między zmiennymi niezależnymi (cechy) a zmienną zależną (wartością przewidywaną). Celem regresji liniowej jest znalezienie najlepszej dopasowanej linii (lub hiperpłaszczyzny w przypadku wielu zmiennych niezależnych), która minimalizuje błąd predykcji. Proces ten polega na znalezieniu zestawu parametrów (wag), które minimalizują sumę kwadratów różnic między wartościami przewidywanymi a rzeczywistymi. Regresja liniowa jest stosowana w przypadku, gdy zmienna zależna jest ciągła.\n",
    "\n",
    "**Drzewo decyzyjne:**\n",
    "Drzewo decyzyjne jest modelem predykcyjnym używanym zarówno w zadaniach klasyfikacji, jak i regresji. Model ten składa się z drzewa struktury podziałów decyzyjnych. W każdym węźle drzewa następuje podział danych na podstawie wartości jednej z cech, aby zminimalizować nieczystość węzła (np. entropię w przypadku klasyfikacji). Proces ten jest rekursywnie powtarzany, aż do osiągnięcia warunku stopu, np. maksymalnej głębokości drzewa lub minimalnej liczby próbek w liściach. W przypadku regresji, liście drzewa zawierają średnią wartość zmiennej zależnej dla odpowiednich grup danych.\n",
    "\n",
    "**Random Forest:**\n",
    "Random Forest jest algorytmem zbudowanym na bazie drzew decyzyjnych. Tworzy on wiele drzew decyzyjnych w procesie zwanym baggingiem (z ang. bootstrap aggregating), gdzie każde drzewo jest uczone na losowym podzbiorze danych treningowych. Następnie, przewidywanie w Random Forest jest wykonywane poprzez uśrednienie przewidywań wszystkich drzew decyzyjnych w przypadku klasyfikacji lub uśrednienie przewidywanych wartości w przypadku regresji. Random Forest jest odporny na overfitting i zwykle oferuje lepszą wydajność niż pojedyncze drzewo decyzyjne.\n",
    "\n",
    "**XGBoost:**\n",
    "XGBoost (Extreme Gradient Boosting) to technika boostingowa, która skupia się na sekwencyjnym trenowaniu wielu słabych modeli predykcyjnych, takich jak drzewa decyzyjne, w celu utworzenia silnego modelu. XGBoost wykorzystuje technikę gradient boosting, w której każdy kolejny model jest uczony w taki sposób, aby minimalizować błąd predykcji poprzednich modeli. XGBoost wprowadza dodatkowe innowacje, takie jak regularyzacja drzew, oszacowanie drugiego rzędu (dla bardziej stabilnych prognoz) i optymalizacja obliczeń, aby zapewnić wyższą wydajność i dokładność. Jest powszechnie stosowany w konkursach na platformie Kaggle oraz w różnych zastosowaniach przemysłowych, gdzie precyzja ma kluczowe znaczenie."
   ]
  },
  {
   "cell_type": "markdown",
   "metadata": {},
   "source": [
    "Ocena modelow nastapi przy użyciu metryk takich jak średni błąd kwadratowy (MSE) i średni błąd bezwzględny (MAE) na zbiorze testowym\n",
    "\n",
    "**Średni błąd kwadratowy (MSE):**\n",
    "MSE jest średnią z kwadratów różnic pomiędzy rzeczywistymi (obserwowanymi) wartościami a przewidywanymi wartościami. Jest to popularna metryka używana do oceny jakości regresji, ponieważ większe błędy są bardziej karane niż mniejsze błędy (poprzez kwadratowanie różnicy). MSE może przyjąć wartości od 0 do nieskończoności, gdzie niższa wartość wskazuje lepszą jakość predykcji. Oczekuje się, że niższa wartość MSE będzie lepsza.\n",
    "\n",
    "**Średni błąd bezwzględny (MAE):**\n",
    "MAE jest średnią z bezwzględnych różnic pomiędzy rzeczywistymi (obserwowanymi) wartościami a przewidywanymi wartościami. Jest to inna popularna metryka do oceny jakości regresji. MAE oblicza średnią bezwzględną odległość pomiędzy przewidywanymi a rzeczywistymi wartościami, co sprawia, że nie jest tak wrażliwa na duże błędy jak MSE. MAE również może przyjmować wartości od 0 do nieskończoności, gdzie niższa wartość wskazuje lepszą jakość predykcji. Oczekuje się, że niższa wartość MAE będzie lepsza.\n",
    "\n",
    "\n",
    "**Metryka  R2 - Współczynnik determinacji**\n",
    "Współczynnik determinacji, znany również jako  2R2, to statystyczna miara jakości dopasowania modelu regresyjnego. Metryka ta jest szczególnie użyteczna do oceny skuteczności modelu w kontekście wyjaśnienia zmienności zmiennej zależnej przez zmienne niezależne. Oto kluczowe aspekty metryki  2R2:\n",
    "\n",
    "Definicja\n",
    "- R2 jest zdefiniowany jako proporcja wariancji zmiennej zależnej, która jest przewidywana z niezależnych zmiennych.\n",
    "- Wartość  2R2 wynosi od 0 do 1, gdzie 0 oznacza, że model nie wyjaśnia żadnej zmienności zmiennej zależnej, a 1 oznacza, że model wyjaśnia całą zmienność zmiennej zależnej.\n",
    "\n",
    "Interpretacja\n",
    "- Wysoki  2R2: Wartość bliska 1 wskazuje, że większość zmienności zmiennej zależnej można wyjaśnić za pomocą modelu. Innymi słowy, model dobrze pasuje do danych.\n",
    "- Niski  2R2: Wartość bliska 0 sugeruje, że model nie wyjaśnia dobrze zmienności danych; może to oznaczać, że istotne zmienne lub zależności nie są włączone w model.\n",
    "\n",
    "Uwagi\n",
    "- Zastosowanie:  2R2 jest często używane w modelach liniowych, ale może być również stosowane w nieliniowych modelach regresyjnych.\n",
    "- Ograniczenia: Wysoki  2R2 nie zawsze oznacza, że model jest idealny. Model może cierpieć na problemy takie jak nadmierne dopasowanie (overfitting), gdzie model jest zbyt skomplikowany i dokładnie dopasowuje się do danych treningowych kosztem ogólnej zdolności do generalizacji.\n",
    "- Zależność od liczby predyktorów: Dodawanie więcej zmiennych do modelu może sztucznie zwiększać  2R2, nawet jeśli te dodatkowe zmienne nie poprawiają rzeczywiście modelu. Alternatywną miarą, która uwzględnia liczbę predyktorów, jest skorygowany  2R2.\n",
    "\n",
    "Przykład praktyczny\n",
    "- Model z  2R2 równym 0.9 sugeruje, że 90% zmienności w danych można wyjaśnić przez model, co jest zazwyczaj uznawane za bardzo dobry wynik, pod warunkiem, że model nie jest nadmiernie dopasowany."
   ]
  },
  {
   "cell_type": "code",
   "execution_count": 18,
   "metadata": {},
   "outputs": [
    {
     "name": "stdout",
     "output_type": "stream",
     "text": [
      "Linear Regression - MSE: 0.008081, MAE: 0.051405, R2: 0.999466\n",
      "Decision Tree - MSE: 0.000203, MAE: 0.000203, R2: 0.999987\n",
      "Random Forest - MSE: 0.000150, MAE: 0.000225, R2: 0.999990\n",
      "XGBoost - MSE: 0.000457, MAE: 0.001242, R2: 0.999970\n"
     ]
    }
   ],
   "source": [
    "# Inicjalizacja modeli regresyjnych\n",
    "models = {\n",
    "    'Linear Regression': LinearRegression(),  # Model regresji liniowej\n",
    "    'Decision Tree': DecisionTreeRegressor(random_state=42),  # Model drzewa decyzyjnego z ustalonym stanem losowym\n",
    "    'Random Forest': RandomForestRegressor(random_state=42),  # Model lasu losowego z ustalonym stanem losowym\n",
    "    'XGBoost': XGBRegressor(random_state=42)  # Model XGBoost z ustalonym stanem losowym\n",
    "}\n",
    "\n",
    "# Trenowanie modeli i zbieranie wyników\n",
    "results = {}  # Słownik do przechowywania wyników dla każdego modelu\n",
    "for name, model in models.items():\n",
    "    model.fit(X_train, y_train)  # Trenowanie modelu na zbiorze treningowym\n",
    "    predictions = model.predict(X_test)  # Predykcja na zbiorze testowym\n",
    "    mse = mean_squared_error(y_test, predictions)  # Obliczenie średniego błędu kwadratowego (MSE)\n",
    "    mae = mean_absolute_error(y_test, predictions)  # Obliczenie średniego błędu absolutnego (MAE)\n",
    "    r2 = r2_score(y_test, predictions)  # Obliczenie współczynnika determinacji R^2\n",
    "    # Zapisanie wyników dla modelu w słowniku results\n",
    "    results[name] = {'MSE': mse, 'MAE': mae, 'R2': r2}\n",
    "\n",
    "# Wyświetlenie wyników dla każdego modelu\n",
    "for name, metrics in results.items():\n",
    "    # Wyświetlenie nazwy modelu i jego metryk: MSE, MAE i R2\n",
    "    print(f\"{name} - MSE: {metrics['MSE']:.6f}, MAE: {metrics['MAE']:.6f}, R2: {metrics['R2']:.6f}\")"
   ]
  },
  {
   "cell_type": "markdown",
   "metadata": {},
   "source": [
    "**Obserwacje:**\n",
    "Wyniki te sugerują, że modele mogły ulec nadmiernemu dopasowaniu do danych treningowych. Warto zastosować kilka strategii, aby sprawdzić i potencjalnie poprawić ogólną skuteczność i generalizację modeli.\n",
    "\n",
    "1. Walidacja Krzyżowa\n",
    "Aby zminimalizować ryzyko nadmiernego dopasowania i lepiej ocenić skuteczność modelu na danych, które nie były widziane podczas trenowania, możesz zastosować walidację krzyżową. Pozwala ona na ocenę, jak model będzie się zachowywał na różnych podzbiorach danych.\n",
    "\n",
    "2. Regularyzacja Modeli\n",
    "Dla modeli takich jak regresja liniowa, lasy losowe i XGBoost, rozważ wprowadzenie parametrów regularyzacji, które pomogą w ograniczeniu złożoności modelu:\n",
    "\n",
    "- Regresja liniowa: Można użyć Ridge lub Lasso, które dodają odpowiednio karę  2L2 lub  1L1 do funkcji kosztu.\n",
    "\n",
    "- Las losowy: Zwiększenie parametru min_samples_leaf (minimalna liczba próbek wymagana w liściu) lub max_depth (maksymalna głębokość drzewa) może pomóc ograniczyć nadmierne dopasowanie.\n",
    "\n",
    "- XGBoost: Parametry takie jak gamma (minimalna redukcja strat wymagana do dalszego podziału), max_depth i lambda (regularyzacja L2) mogą być dostosowane, aby kontrolować złożoność modelu.\n",
    "\n",
    "3. Analiza Błędów Residuów\n",
    "Sprawdź residua, czyli różnice między wartościami przewidywanymi a rzeczywistymi, aby zobaczyć, czy istnieją jakieś wzorce błędów. Jeśli residua nie są losowo rozłożone wokół zera, może to wskazywać na problem z modelem, taki jak skośność, heteroskedastyczność lub niewłaściwie uchwycone nieliniowości."
   ]
  },
  {
   "cell_type": "markdown",
   "metadata": {},
   "source": [
    "#### 1. Walidacja Krzyżowa\n",
    "\n",
    "Walidacja krzyżowa to technika oceny modeli, która pomaga w uzyskaniu bardziej wiarygodnych wyników dotyczących wydajności modelu. Oto kilka głównych powodów, dla których stosujemy walidację krzyżową:\n",
    "\n",
    "- Ocena modelu: Walidacja krzyżowa pozwala na ocenę wydajności modelu na różnych podzbiorach danych. Zamiast oceniać model na pojedynczym podziale danych, walidacja krzyżowa dzieli dane na kilka mniejszych zestawów treningowych i testowych, co daje bardziej wiarygodne oszacowanie wydajności modelu.\n",
    "\n",
    "- Zapobieganie nadmiernemu dopasowaniu (overfitting): Nadmierne dopasowanie występuje, gdy model uczy się szczegółów i szumów w danych treningowych, co skutkuje słabą wydajnością na nowych danych. Walidacja krzyżowa pomaga wykryć nadmierne dopasowanie, ponieważ model jest oceniany na różnych zestawach testowych, które nie były używane do treningu.\n",
    "\n",
    "- Użycie całego zbioru danych: W walidacji krzyżowej wszystkie dane są używane zarówno do treningu, jak i do testowania. W każdym podziale pewna część danych jest używana do treningu, a inna część do testowania. Dzięki temu każda próbka danych jest użyta do oceny modelu, co zwiększa efektywność wykorzystania danych.\n",
    "\n",
    "- Lepsza generalizacja: Wyniki uzyskane za pomocą walidacji krzyżowej są zazwyczaj bardziej reprezentatywne dla rzeczywistej wydajności modelu na nowych, niewidzianych wcześniej danych. Pomaga to w tworzeniu modeli, które generalizują dobrze na nowe dane."
   ]
  },
  {
   "cell_type": "code",
   "execution_count": 19,
   "metadata": {},
   "outputs": [
    {
     "name": "stdout",
     "output_type": "stream",
     "text": [
      "Linear Regression - Średni MSE z walidacji krzyżowej: 0.00829\n",
      "Decision Tree - Średni MSE z walidacji krzyżowej: 0.00016\n",
      "Random Forest - Średni MSE z walidacji krzyżowej: 0.00009\n",
      "XGBoost - Średni MSE z walidacji krzyżowej: 0.00053\n"
     ]
    }
   ],
   "source": [
    "# Lista modeli regresyjnych\n",
    "models = {\n",
    "    'Linear Regression': LinearRegression(),  # Model regresji liniowej\n",
    "    'Decision Tree': DecisionTreeRegressor(random_state=42),  # Model drzewa decyzyjnego z ustalonym stanem losowym\n",
    "    'Random Forest': RandomForestRegressor(random_state=42),  # Model lasu losowego z ustalonym stanem losowym\n",
    "    'XGBoost': XGBRegressor(random_state=42)  # Model XGBoost z ustalonym stanem losowym\n",
    "}\n",
    "\n",
    "# Walidacja krzyżowa dla każdego modelu\n",
    "for name, model in models.items():\n",
    "    # Przeprowadzenie walidacji krzyżowej z 5-krotnym podziałem (5-fold cross-validation)\n",
    "    scores = cross_val_score(model, X, y, cv=5, scoring='neg_mean_squared_error')\n",
    "    # Obliczenie średniego MSE z walidacji krzyżowej (konwersja na wartość dodatnią)\n",
    "    mean_mse = -scores.mean()\n",
    "    # Wyświetlenie wyników dla każdego modelu\n",
    "    print(f\"{name} - Średni MSE z walidacji krzyżowej: {mean_mse:.5f}\")"
   ]
  },
  {
   "cell_type": "markdown",
   "metadata": {},
   "source": [
    "Walidacja krzyżowa:\n",
    "\n",
    "- Pętla for: Iteruje przez każdy model w słowniku models.\n",
    "- cross_val_score(model, X, y, cv=5, scoring='neg_mean_squared_error'): Przeprowadza walidację krzyżową z 5-krotnym podziałem danych (5-fold cross-validation). Funkcja ta zwraca negatywne wartości średniego błędu kwadratowego (MSE), ponieważ funkcja cross_val_score oczekuje funkcji scoringowej, gdzie wyższe wartości są lepsze.\n",
    "- Konwersja na wartość dodatnią: -scores.mean() konwertuje negatywne wartości MSE na wartości dodatnie, aby łatwiej je interpretować.\n",
    "- print(f\"{name} - Średni MSE z walidacji krzyżowej: {mean_mse:.5f}\"): Wyświetla nazwę modelu oraz średni MSE z walidacji krzyżowej w czytelny sposób.\n",
    "\n",
    "Walidacja krzyżowa jest techniką używaną do oceny modelu, gdzie dane są podzielone na kilka części (zwykle 5 lub 10), a model jest trenowany na wszystkich częściach z wyjątkiem jednej, która jest używana do testowania. Proces ten jest powtarzany tak, aby każda część danych była użyta dokładnie raz jako zestaw testowy. Wyniki są uśredniane, aby uzyskać miarę wydajności modelu."
   ]
  },
  {
   "cell_type": "markdown",
   "metadata": {},
   "source": [
    "#### 2. Regularyzacja Modeli"
   ]
  },
  {
   "cell_type": "markdown",
   "metadata": {},
   "source": [
    "##### Regresja Liniowa z Regularyzacją (Lasso i Ridge)"
   ]
  },
  {
   "cell_type": "code",
   "execution_count": 20,
   "metadata": {},
   "outputs": [
    {
     "name": "stdout",
     "output_type": "stream",
     "text": [
      "Lasso Regression - Średni MSE: 0.04697\n"
     ]
    }
   ],
   "source": [
    "# Lasso Regression (L1)\n",
    "lasso_model = Lasso(alpha=0.01, random_state=42)  # Inicjalizacja modelu Lasso z regularyzacją L1, alpha to parametr regularyzacji\n",
    "\n",
    "# Przeprowadzenie walidacji krzyżowej z 5-krotnym podziałem (5-fold cross-validation)\n",
    "# cross_val_score zwraca negatywne wartości MSE, ponieważ funkcja scoringowa w cross_val_score\n",
    "# oczekuje funkcji, gdzie wyższe wartości są lepsze, stąd używamy 'neg_mean_squared_error'\n",
    "lasso_scores = cross_val_score(lasso_model, X, y, cv=5, scoring='neg_mean_squared_error')\n",
    "\n",
    "# Obliczenie średniego MSE z walidacji krzyżowej (konwersja na wartość dodatnią)\n",
    "mean_mse = -lasso_scores.mean()\n",
    "\n",
    "# Wyświetlenie wyniku\n",
    "print(f\"Lasso Regression - Średni MSE: {mean_mse:.5f}\")"
   ]
  },
  {
   "cell_type": "code",
   "execution_count": 21,
   "metadata": {},
   "outputs": [
    {
     "name": "stdout",
     "output_type": "stream",
     "text": [
      "Ridge Regression - Średni MSE: 0.00829\n"
     ]
    }
   ],
   "source": [
    "# Ridge Regression (L2)\n",
    "ridge_model = Ridge(alpha=0.01, random_state=42)  # Inicjalizacja modelu Ridge z regularyzacją L2, alpha to parametr regularyzacji\n",
    "\n",
    "# Przeprowadzenie walidacji krzyżowej z 5-krotnym podziałem (5-fold cross-validation)\n",
    "# cross_val_score zwraca negatywne wartości MSE, ponieważ funkcja scoringowa w cross_val_score\n",
    "# oczekuje funkcji, gdzie wyższe wartości są lepsze, stąd używamy 'neg_mean_squared_error'\n",
    "ridge_scores = cross_val_score(ridge_model, X, y, cv=5, scoring='neg_mean_squared_error')\n",
    "\n",
    "# Obliczenie średniego MSE z walidacji krzyżowej (konwersja na wartość dodatnią)\n",
    "mean_mse = -ridge_scores.mean()\n",
    "\n",
    "# Wyświetlenie wyniku\n",
    "print(f\"Ridge Regression - Średni MSE: {mean_mse:.5f}\")\n"
   ]
  },
  {
   "cell_type": "markdown",
   "metadata": {},
   "source": [
    "##### Random Forest z regularyzacją"
   ]
  },
  {
   "cell_type": "code",
   "execution_count": 22,
   "metadata": {},
   "outputs": [
    {
     "name": "stdout",
     "output_type": "stream",
     "text": [
      "Random Forest - Średni MSE: 0.00011\n"
     ]
    }
   ],
   "source": [
    "# Random Forest Regression\n",
    "rf_model = RandomForestRegressor(\n",
    "    random_state=42,  # Ustalony stan losowy dla powtarzalności wyników\n",
    "    max_depth=10,  # Maksymalna głębokość drzewa\n",
    "    min_samples_leaf=4,  # Minimalna liczba próbek w liściu\n",
    "    max_features=0.8  # Maksymalna liczba cech uwzględnianych przy podziale\n",
    ")\n",
    "\n",
    "# Przeprowadzenie walidacji krzyżowej z 5-krotnym podziałem (5-fold cross-validation)\n",
    "# cross_val_score zwraca negatywne wartości MSE, ponieważ funkcja scoringowa w cross_val_score\n",
    "# oczekuje funkcji, gdzie wyższe wartości są lepsze, stąd używamy 'neg_mean_squared_error'\n",
    "rf_scores = cross_val_score(rf_model, X, y, cv=5, scoring='neg_mean_squared_error')\n",
    "\n",
    "# Obliczenie średniego MSE z walidacji krzyżowej (konwersja na wartość dodatnią)\n",
    "mean_mse = -rf_scores.mean()\n",
    "\n",
    "# Wyświetlenie wyniku\n",
    "print(f\"Random Forest - Średni MSE: {mean_mse:.5f}\")\n"
   ]
  },
  {
   "cell_type": "markdown",
   "metadata": {},
   "source": [
    "##### XGBoost z regularyzacją"
   ]
  },
  {
   "cell_type": "code",
   "execution_count": 23,
   "metadata": {},
   "outputs": [
    {
     "name": "stdout",
     "output_type": "stream",
     "text": [
      "XGBoost - Średni MSE: 0.00047\n"
     ]
    }
   ],
   "source": [
    "# XGBoost Regression\n",
    "xgb_model = XGBRegressor(\n",
    "    random_state=42,  # Ustalony stan losowy dla powtarzalności wyników\n",
    "    max_depth=6,  # Maksymalna głębokość każdego drzewa\n",
    "    gamma=0.1,  # Parametr regularizacji, który kontroluje stopień złożoności modelu\n",
    "    reg_lambda=1.0,  # Parametr regularyzacji L2 (ridge)\n",
    "    reg_alpha=0.1  # Parametr regularyzacji L1 (lasso)\n",
    ")\n",
    "\n",
    "# Przeprowadzenie walidacji krzyżowej z 5-krotnym podziałem (5-fold cross-validation)\n",
    "# cross_val_score zwraca negatywne wartości MSE, ponieważ funkcja scoringowa w cross_val_score\n",
    "# oczekuje funkcji, gdzie wyższe wartości są lepsze, stąd używamy 'neg_mean_squared_error'\n",
    "xgb_scores = cross_val_score(xgb_model, X, y, cv=5, scoring='neg_mean_squared_error')\n",
    "\n",
    "# Obliczenie średniego MSE z walidacji krzyżowej (konwersja na wartość dodatnią)\n",
    "mean_mse = -xgb_scores.mean()\n",
    "\n",
    "# Wyświetlenie wyniku\n",
    "print(f\"XGBoost - Średni MSE: {mean_mse:.5f}\")"
   ]
  },
  {
   "cell_type": "markdown",
   "metadata": {},
   "source": [
    "Wyniki regularyzacji i walidacji krzyżowej\n",
    "Twoje wyniki pokazują interesujące różnice w skuteczności modeli po zastosowaniu regularyzacji. Oto krótka analiza każdego z modeli na podstawie średniego MSE uzyskanego w walidacji krzyżowej:\n",
    "\n",
    "Lasso Regression\n",
    "- Średni MSE: 0.04880\n",
    "- Lasso zazwyczaj stosuje się, gdy podejrzewamy, że tylko niektóre cechy mają znaczący wpływ na zmienną zależną, ponieważ Lasso może redukować współczynniki mniej istotnych zmiennych do zera. Wyższy MSE w porównaniu do innych modeli może wskazywać na to, że większość cech ma znaczenie, lub że parametr regularyzacji (alpha) był zbyt wysoki.\n",
    "\n",
    "Ridge Regression\n",
    "- Średni MSE: 0.01361\n",
    "- Ridge jest bardziej odpowiedni w sytuacjach, gdzie wiele cech jest wzajemnie skorelowanych. Niski MSE w porównaniu do Lasso sugeruje, że większość cech w zestawie danych ma wpływ na zmienną zależną i że te cechy są współliniowe.\n",
    "\n",
    "Random Forest\n",
    "- Średni MSE: 0.00081\n",
    "- Random Forest, nawet z podstawową regularyzacją, nadal pokazuje bardzo dobre wyniki, co wskazuje na jego wysoką zdolność do modelowania złożonych nieliniowości bez nadmiernego dopasowania, dzięki zastosowaniu losowości w wyborze cech i próbek przy budowie drzew.\n",
    "\n",
    "XGBoost\n",
    "- Średni MSE: 0.00047\n",
    "- XGBoost, ze stosunkowo agresywnymi ustawieniami regularyzacji, osiągnął najlepsze wyniki. To wskazuje na to, że odpowiednie dobranie parametrów modelu pozwala na bardzo dokładne przewidywania z zachowaniem generalizacji.\n",
    "\n",
    "Zalecenia\n",
    "1. Dalsze dostosowywanie regularyzacji: Dla modeli Lasso i Ridge, może warto eksperymentować z różnymi wartościami parametru alpha, aby znaleźć idealny balans między biasem a wariancją.\n",
    "2. Analiza ważności cech w Random Forest i XGBoost: Sprawdzenie, które cechy są uznawane przez te modele za najważniejsze, może dać dalsze wskazówki, jak zoptymalizować zestaw danych.\n",
    "3. Zastosowanie Grid Search: Dla modeli Random Forest i XGBoost możesz zastosować Grid Search, aby znaleźć optymalne kombinacje ich hiperparametrów.\n",
    "Ewaluacja na zewnętrznym zestawie danych: Jeśli to możliwe, przetestuj wybrane modele na zupełnie nowym zestawie danych, aby zobaczyć, jak radzą sobie w praktyce."
   ]
  },
  {
   "cell_type": "markdown",
   "metadata": {},
   "source": [
    "#### 3. Analiza Błędów Residuów\n",
    "\n",
    "Analiza błędów residuów jest kluczowym krokiem w ocenie modeli regresyjnych. Residuów to różnice między rzeczywistymi wartościami a przewidywaniami modelu. Analiza tych błędów dostarcza cennych informacji na temat wydajności modelu i może wskazać na potencjalne problemy."
   ]
  },
  {
   "cell_type": "code",
   "execution_count": 24,
   "metadata": {},
   "outputs": [
    {
     "data": {
      "image/png": "[encoded data removed]",
      "text/plain": [
       "<Figure size 720x432 with 1 Axes>"
      ]
     },
     "metadata": {
      "needs_background": "light"
     },
     "output_type": "display_data"
    },
    {
     "data": {
      "image/png": "[encoded data removed]",
      "text/plain": [
       "<Figure size 720x432 with 1 Axes>"
      ]
     },
     "metadata": {
      "needs_background": "light"
     },
     "output_type": "display_data"
    },
    {
     "data": {
      "image/png": "[encoded data removed]",
      "text/plain": [
       "<Figure size 720x432 with 1 Axes>"
      ]
     },
     "metadata": {
      "needs_background": "light"
     },
     "output_type": "display_data"
    },
    {
     "data": {
      "image/png": "[encoded data removed]",
      "text/plain": [
       "<Figure size 720x432 with 1 Axes>"
      ]
     },
     "metadata": {
      "needs_background": "light"
     },
     "output_type": "display_data"
    },
    {
     "data": {
      "image/png": "[encoded data removed]",
      "text/plain": [
       "<Figure size 720x432 with 1 Axes>"
      ]
     },
     "metadata": {
      "needs_background": "light"
     },
     "output_type": "display_data"
    },
    {
     "data": {
      "image/png": "[encoded data removed]",
      "text/plain": [
       "<Figure size 720x432 with 1 Axes>"
      ]
     },
     "metadata": {
      "needs_background": "light"
     },
     "output_type": "display_data"
    },
    {
     "data": {
      "image/png": "[encoded data removed]",
      "text/plain": [
       "<Figure size 720x432 with 1 Axes>"
      ]
     },
     "metadata": {
      "needs_background": "light"
     },
     "output_type": "display_data"
    },
    {
     "data": {
      "image/png": "[encoded data removed]",
      "text/plain": [
       "<Figure size 720x432 with 1 Axes>"
      ]
     },
     "metadata": {
      "needs_background": "light"
     },
     "output_type": "display_data"
    }
   ],
   "source": [
    "# Słownik do przechowywania modeli i ich nazw\n",
    "models = {\n",
    "    'Lasso': Lasso(alpha=0.01, random_state=42),  # Model Lasso Regression z parametrem regularyzacji alpha\n",
    "    'Ridge': Ridge(alpha=0.01, random_state=42),  # Model Ridge Regression z parametrem regularyzacji alpha\n",
    "    'Random Forest': RandomForestRegressor(\n",
    "        random_state=42, max_depth=10, min_samples_leaf=4, max_features=0.8),  # Model Random Forest z określonymi hiperparametrami\n",
    "    'XGBoost': XGBRegressor(\n",
    "        random_state=42, max_depth=6, gamma=0.1, reg_lambda=1.0, reg_alpha=0.1)  # Model XGBoost z określonymi hiperparametrami\n",
    "}\n",
    "\n",
    "# Trenowanie modeli, przewidywanie i obliczanie residuów\n",
    "for name, model in models.items():\n",
    "    model.fit(X_train, y_train)  # Trenowanie modelu na zbiorze treningowym\n",
    "    predictions = model.predict(X_test)  # Przewidywanie wartości na zbiorze testowym\n",
    "    residuals = y_test - predictions  # Obliczanie residuów (różnica między rzeczywistymi a przewidywanymi wartościami)\n",
    "\n",
    "    # Wykres residuów\n",
    "    plt.figure(figsize=(10, 6))\n",
    "    plt.scatter(y_test, residuals, alpha=0.5)  # Wykres punktowy rzeczywistych wartości vs residua\n",
    "    plt.axhline(0, color='red', linestyle='--')  # Linia pozioma na poziomie 0\n",
    "    plt.title(f'Residua dla {name}')  # Tytuł wykresu\n",
    "    plt.xlabel('Obserwowane wartości')  # Etykieta osi X\n",
    "    plt.ylabel('Residua')  # Etykieta osi Y\n",
    "    plt.show()  # Wyświetlenie wykresu\n",
    "\n",
    "    # Histogram residuów\n",
    "    plt.figure(figsize=(10, 6))\n",
    "    plt.hist(residuals, bins=30, color='blue', alpha=0.7)  # Histogram residuów z 30 binami\n",
    "    plt.title(f'Histogram residuów dla {name}')  # Tytuł histogramu\n",
    "    plt.xlabel('Residua')  # Etykieta osi X\n",
    "    plt.ylabel('Liczba obserwacji')  # Etykieta osi Y\n",
    "    plt.show()  # Wyświetlenie histogramu\n"
   ]
  },
  {
   "cell_type": "markdown",
   "metadata": {},
   "source": [
    "Analiza Residuów\n",
    "1. Lasso Regression\n",
    "• Wykres residuów pokazuje, że dla większych wartości obserwowanych, residua są bardziej rozproszone, co sugeruje heteroskedastyczność (niestałość wariancji residuów). Residua nie są symetrycznie rozłożone wokół linii y=0, co wskazuje na obciążenie modelu.\n",
    "• Histogram residuów pokazuje, że rozkład residuów nie jest normalny i skupia się na lewej stronie zera, co może wskazywać na błąd w modelu lub przewidywanie przez model systematycznie za niskich wartości.\n",
    "2. Ridge Regression\n",
    "• Residua wykazują mniej ekstremalne wartości w porównaniu do Lasso, co sugeruje mniejszą wariancję błędów. Jednak nadal można zauważyć pewne wartości odstające.\n",
    "• Histogram wskazuje na lekkie przesunięcie residuów w kierunku wartości ujemnych, co może wskazywać na niewystarczające dostosowanie modelu do danych.\n",
    "3. Random Forest\n",
    "• Residua są stosunkowo równomiernie rozłożone wokół linii zerowej i ograniczone do niewielkich wartości, co jest dobrym znakiem. Oznacza to, że model jest dobrze dopasowany, z minimalnymi błędami przewidywania.\n",
    "• Histogram wskazuje na bardzo skoncentrowany rozkład residuów, co jest typowe dla bardzo dobrze działających modeli.\n",
    "4. XGBoost\n",
    "• Residua dla XGBoost również są dobrze wycentrowane wokół linii zerowej, co wskazuje na dobre dopasowanie modelu.\n",
    "Histogram podobnie jak dla Random Forest pokazuje skoncentrowany rozkład, ale z jeszcze mniejszą wariancją, co oznacza bardzo dokładne przewidywania."
   ]
  },
  {
   "cell_type": "markdown",
   "metadata": {},
   "source": [
    "**Wnisoki**\n",
    "\n",
    "- Model Lasso i Ridge: Wykazywały pewne oznaki niedopasowania oraz heteroskedastyczności. Może to oznaczać potrzebę dalszej regulacji hiperparametrów, zmiany w selekcji cech lub zastosowania innego podejścia do modelowania tych danych.\n",
    "\n",
    "- Random Forest i XGBoost: Pokazały wyjątkowo dobrą zdolność do dopasowania z minimalnymi błędami residuów. Jednakże ich idealne dopasowanie w testach może również sugerować nadmierne dopasowanie, chociaż mniejsza wariancja residuów sugeruje, że model jest bardzo skuteczny."
   ]
  },
  {
   "cell_type": "markdown",
   "metadata": {},
   "source": [
    "**Dalsze kroki**\n",
    "- Możesz rozważyć ponowne skalowanie danych lub zastosowanie innych technik przetwarzania wstępnego dla Lasso i Ridge.\n",
    "\n",
    "- Ponieważ modele drzewiaste (Random Forest i XGBoost) osiągają bardzo dobre wyniki, sprawdzenie ich wydajności na nowych, niezależnych zestawach danych lub za pomocą surowszych metod walidacji krzyżowej mogłoby być kolejnym krokiem, aby upewnić się, że te wyniki są wiarygodne i reprezentatywne dla ogólnej zdolności modelu do generalizacji."
   ]
  },
  {
   "cell_type": "markdown",
   "metadata": {},
   "source": [
    "**Surowsza walidacja krzyżowa**"
   ]
  },
  {
   "cell_type": "code",
   "execution_count": 25,
   "metadata": {},
   "outputs": [
    {
     "name": "stdout",
     "output_type": "stream",
     "text": [
      "Random Forest - Średni MSE: 0.00006\n",
      "XGBoost - Średni MSE: 0.00052\n"
     ]
    }
   ],
   "source": [
    "# Konfiguracja Repeated K-Fold CV\n",
    "cv = RepeatedKFold(n_splits=10, n_repeats=3, random_state=42)  # 10-krotna walidacja krzyżowa powtórzona 3 razy\n",
    "\n",
    "# Model Random Forest\n",
    "rf = RandomForestRegressor(\n",
    "    random_state=42,  # Ustalony stan losowy dla powtarzalności wyników\n",
    "    max_depth=10,  # Maksymalna głębokość każdego drzewa\n",
    "    min_samples_leaf=4  # Minimalna liczba próbek w liściu\n",
    ")\n",
    "# Przeprowadzenie walidacji krzyżowej z konfiguracją Repeated K-Fold\n",
    "rf_scores = cross_val_score(rf, X, y, cv=cv, scoring='neg_mean_squared_error')\n",
    "# Obliczenie średniego MSE z walidacji krzyżowej (konwersja na wartość dodatnią)\n",
    "mean_rf_mse = -rf_scores.mean()\n",
    "# Wyświetlenie wyniku\n",
    "print(f\"Random Forest - Średni MSE: {mean_rf_mse:.5f}\")\n",
    "\n",
    "# Model XGBoost\n",
    "xgb = XGBRegressor(\n",
    "    random_state=42,  # Ustalony stan losowy dla powtarzalności wyników\n",
    "    max_depth=6,  # Maksymalna głębokość każdego drzewa\n",
    "    gamma=0.1,  # Parametr regularyzacji, który kontroluje stopień złożoności modelu\n",
    "    reg_lambda=1.0,  # Parametr regularyzacji L2 (ridge)\n",
    "    reg_alpha=0.1  # Parametr regularyzacji L1 (lasso)\n",
    ")\n",
    "# Przeprowadzenie walidacji krzyżowej z konfiguracją Repeated K-Fold\n",
    "xgb_scores = cross_val_score(xgb, X, y, cv=cv, scoring='neg_mean_squared_error')\n",
    "# Obliczenie średniego MSE z walidacji krzyżowej (konwersja na wartość dodatnią)\n",
    "mean_xgb_mse = -xgb_scores.mean()\n",
    "# Wyświetlenie wyniku\n",
    "print(f\"XGBoost - Średni MSE: {mean_xgb_mse:.5f}\")\n"
   ]
  },
  {
   "cell_type": "markdown",
   "metadata": {},
   "source": [
    "Wyniki Surowszej Walidacji Krzyżowej\n",
    "Twoje wyniki pokazują bardzo niskie wartości MSE dla obu modeli, Random Forest i XGBoost, co jest optymistycznym sygnałem dotyczącym ich zdolności do dokładnego modelowania danych:\n",
    "\n",
    "Random Forest - Średni MSE: 0.00056\n",
    "XGBoost - Średni MSE: 0.00051\n",
    "Te wyniki sugerują, że oba modele są bardzo skuteczne i stabilne, oferując wysoką dokładność przewidywań. Niska wartość MSE wskazuje na małe błędy między przewidywanymi a rzeczywistymi wartościami, co jest kluczowe dla zastosowań, gdzie precyzja jest ważna.\n",
    "\n",
    "Interpretacja Wyników\n",
    "Stabilność Modeli: Wyniki sugerują, że oba modele dobrze radzą sobie z różnorodnością danych podczas walidacji krzyżowej z wieloma podziałami. Daje to pewność, że modele te mogą być skuteczne również na nowych, niewidocznych dotąd danych.\n",
    "\n",
    "Porównanie Modeli: XGBoost osiągnął nieznacznie lepsze wyniki niż Random Forest, co może wskazywać na lepszą zdolność tego modelu do uchwycenia złożoności danych i efektywniejsze radzenie sobie z nieliniowościami w zbiorze danych."
   ]
  },
  {
   "cell_type": "markdown",
   "metadata": {},
   "source": [
    "#### 5. Optymalizacja hiperparametrów"
   ]
  },
  {
   "cell_type": "markdown",
   "metadata": {},
   "source": [
    "Rozpocznijmy proces optymalizacji hiperparametrów dla modeli drzewiastych przy użyciu metody Grid Search, co pozwoli nam znaleźć najlepsze ustawienia dla każdego modelu, a tym samym zminimalizować błąd predykcji. Zastosujemy te metody również dla XGBoost, gdzie dodatkowo będziemy mogli regulować learning rate oraz inne specyficzne parametry.\n",
    "\n",
    "**Optymalizacja hiperparametrów dla Random Forest**\n",
    "- n_estimators: liczba drzew w lesie\n",
    "- max_depth: maksymalna głębokość drzew\n",
    "- min_samples_split: minimalna liczba próbek wymagana do podziału wewnętrznego węzła\n",
    "\n",
    "**Optymalizacja hiperparametrów dla XGBoost**\n",
    "- n_estimators: liczba drzew\n",
    "- learning_rate: współczynnik uczenia się\n",
    "- max_depth: maksymalna głębokość każdego drzewa"
   ]
  },
  {
   "cell_type": "code",
   "execution_count": 26,
   "metadata": {},
   "outputs": [
    {
     "name": "stdout",
     "output_type": "stream",
     "text": [
      "Fitting 3 folds for each of 27 candidates, totalling 81 fits\n",
      "[CV] END .max_depth=10, min_samples_split=2, n_estimators=50; total time=   3.0s\n",
      "[CV] END .max_depth=10, min_samples_split=2, n_estimators=50; total time=   2.8s\n",
      "[CV] END .max_depth=10, min_samples_split=2, n_estimators=50; total time=   3.4s\n",
      "[CV] END max_depth=10, min_samples_split=2, n_estimators=100; total time=   5.9s\n",
      "[CV] END max_depth=10, min_samples_split=2, n_estimators=100; total time=   5.8s\n",
      "[CV] END max_depth=10, min_samples_split=2, n_estimators=100; total time=   6.3s\n",
      "[CV] END max_depth=10, min_samples_split=2, n_estimators=200; total time=  11.6s\n",
      "[CV] END max_depth=10, min_samples_split=2, n_estimators=200; total time=  11.6s\n",
      "[CV] END max_depth=10, min_samples_split=2, n_estimators=200; total time=  11.7s\n",
      "[CV] END max_depth=10, min_samples_split=10, n_estimators=50; total time=   2.8s\n",
      "[CV] END max_depth=10, min_samples_split=10, n_estimators=50; total time=   2.9s\n",
      "[CV] END max_depth=10, min_samples_split=10, n_estimators=50; total time=   2.9s\n",
      "[CV] END max_depth=10, min_samples_split=10, n_estimators=100; total time=   5.8s\n",
      "[CV] END max_depth=10, min_samples_split=10, n_estimators=100; total time=   5.9s\n",
      "[CV] END max_depth=10, min_samples_split=10, n_estimators=100; total time=   5.9s\n",
      "[CV] END max_depth=10, min_samples_split=10, n_estimators=200; total time=  11.7s\n",
      "[CV] END max_depth=10, min_samples_split=10, n_estimators=200; total time=  11.6s\n",
      "[CV] END max_depth=10, min_samples_split=10, n_estimators=200; total time=  11.6s\n",
      "[CV] END max_depth=10, min_samples_split=20, n_estimators=50; total time=   3.1s\n",
      "[CV] END max_depth=10, min_samples_split=20, n_estimators=50; total time=   3.0s\n",
      "[CV] END max_depth=10, min_samples_split=20, n_estimators=50; total time=   2.9s\n",
      "[CV] END max_depth=10, min_samples_split=20, n_estimators=100; total time=   5.8s\n",
      "[CV] END max_depth=10, min_samples_split=20, n_estimators=100; total time=   5.8s\n",
      "[CV] END max_depth=10, min_samples_split=20, n_estimators=100; total time=   5.8s\n",
      "[CV] END max_depth=10, min_samples_split=20, n_estimators=200; total time=  12.0s\n",
      "[CV] END max_depth=10, min_samples_split=20, n_estimators=200; total time=  12.7s\n",
      "[CV] END max_depth=10, min_samples_split=20, n_estimators=200; total time=  14.3s\n",
      "[CV] END .max_depth=20, min_samples_split=2, n_estimators=50; total time=   3.5s\n",
      "[CV] END .max_depth=20, min_samples_split=2, n_estimators=50; total time=   3.6s\n",
      "[CV] END .max_depth=20, min_samples_split=2, n_estimators=50; total time=   3.5s\n",
      "[CV] END max_depth=20, min_samples_split=2, n_estimators=100; total time=   7.0s\n",
      "[CV] END max_depth=20, min_samples_split=2, n_estimators=100; total time=   7.1s\n",
      "[CV] END max_depth=20, min_samples_split=2, n_estimators=100; total time=   6.0s\n",
      "[CV] END max_depth=20, min_samples_split=2, n_estimators=200; total time=  11.9s\n",
      "[CV] END max_depth=20, min_samples_split=2, n_estimators=200; total time=  12.0s\n",
      "[CV] END max_depth=20, min_samples_split=2, n_estimators=200; total time=  12.8s\n",
      "[CV] END max_depth=20, min_samples_split=10, n_estimators=50; total time=   3.0s\n",
      "[CV] END max_depth=20, min_samples_split=10, n_estimators=50; total time=   2.9s\n",
      "[CV] END max_depth=20, min_samples_split=10, n_estimators=50; total time=   2.9s\n",
      "[CV] END max_depth=20, min_samples_split=10, n_estimators=100; total time=   5.9s\n",
      "[CV] END max_depth=20, min_samples_split=10, n_estimators=100; total time=   6.0s\n",
      "[CV] END max_depth=20, min_samples_split=10, n_estimators=100; total time=   5.9s\n",
      "[CV] END max_depth=20, min_samples_split=10, n_estimators=200; total time=  11.9s\n",
      "[CV] END max_depth=20, min_samples_split=10, n_estimators=200; total time=  12.0s\n",
      "[CV] END max_depth=20, min_samples_split=10, n_estimators=200; total time=  14.3s\n",
      "[CV] END max_depth=20, min_samples_split=20, n_estimators=50; total time=   3.9s\n",
      "[CV] END max_depth=20, min_samples_split=20, n_estimators=50; total time=   3.7s\n",
      "[CV] END max_depth=20, min_samples_split=20, n_estimators=50; total time=   3.1s\n",
      "[CV] END max_depth=20, min_samples_split=20, n_estimators=100; total time=   5.9s\n",
      "[CV] END max_depth=20, min_samples_split=20, n_estimators=100; total time=   6.0s\n",
      "[CV] END max_depth=20, min_samples_split=20, n_estimators=100; total time=   5.9s\n",
      "[CV] END max_depth=20, min_samples_split=20, n_estimators=200; total time=  11.9s\n",
      "[CV] END max_depth=20, min_samples_split=20, n_estimators=200; total time=  12.6s\n",
      "[CV] END max_depth=20, min_samples_split=20, n_estimators=200; total time=  12.1s\n",
      "[CV] END max_depth=None, min_samples_split=2, n_estimators=50; total time=   2.9s\n",
      "[CV] END max_depth=None, min_samples_split=2, n_estimators=50; total time=   3.0s\n",
      "[CV] END max_depth=None, min_samples_split=2, n_estimators=50; total time=   2.9s\n",
      "[CV] END max_depth=None, min_samples_split=2, n_estimators=100; total time=   5.9s\n",
      "[CV] END max_depth=None, min_samples_split=2, n_estimators=100; total time=   6.1s\n",
      "[CV] END max_depth=None, min_samples_split=2, n_estimators=100; total time=   5.9s\n",
      "[CV] END max_depth=None, min_samples_split=2, n_estimators=200; total time=  11.9s\n",
      "[CV] END max_depth=None, min_samples_split=2, n_estimators=200; total time=  12.1s\n",
      "[CV] END max_depth=None, min_samples_split=2, n_estimators=200; total time=  12.0s\n",
      "[CV] END max_depth=None, min_samples_split=10, n_estimators=50; total time=   2.9s\n",
      "[CV] END max_depth=None, min_samples_split=10, n_estimators=50; total time=   3.0s\n",
      "[CV] END max_depth=None, min_samples_split=10, n_estimators=50; total time=   2.9s\n",
      "[CV] END max_depth=None, min_samples_split=10, n_estimators=100; total time=   6.0s\n",
      "[CV] END max_depth=None, min_samples_split=10, n_estimators=100; total time=   6.0s\n",
      "[CV] END max_depth=None, min_samples_split=10, n_estimators=100; total time=   6.0s\n",
      "[CV] END max_depth=None, min_samples_split=10, n_estimators=200; total time=  12.5s\n",
      "[CV] END max_depth=None, min_samples_split=10, n_estimators=200; total time=  12.1s\n",
      "[CV] END max_depth=None, min_samples_split=10, n_estimators=200; total time=  12.0s\n",
      "[CV] END max_depth=None, min_samples_split=20, n_estimators=50; total time=   2.9s\n",
      "[CV] END max_depth=None, min_samples_split=20, n_estimators=50; total time=   2.9s\n",
      "[CV] END max_depth=None, min_samples_split=20, n_estimators=50; total time=   2.9s\n",
      "[CV] END max_depth=None, min_samples_split=20, n_estimators=100; total time=   5.8s\n",
      "[CV] END max_depth=None, min_samples_split=20, n_estimators=100; total time=   6.1s\n",
      "[CV] END max_depth=None, min_samples_split=20, n_estimators=100; total time=   5.9s\n",
      "[CV] END max_depth=None, min_samples_split=20, n_estimators=200; total time=  11.9s\n",
      "[CV] END max_depth=None, min_samples_split=20, n_estimators=200; total time=  12.1s\n",
      "[CV] END max_depth=None, min_samples_split=20, n_estimators=200; total time=  11.9s\n",
      "Najlepsze parametry dla Random Forest: {'max_depth': 20, 'min_samples_split': 20, 'n_estimators': 50}\n"
     ]
    }
   ],
   "source": [
    "# Definiowanie siatki parametrów dla Random Forest\n",
    "param_grid_rf = {\n",
    "    'n_estimators': [50, 100, 200],  # Liczba drzew w lesie\n",
    "    'max_depth': [10, 20, None],  # Maksymalna głębokość drzewa; None oznacza brak ograniczenia\n",
    "    'min_samples_split': [2, 10, 20]  # Minimalna liczba próbek wymagana do podziału węzła\n",
    "}\n",
    "\n",
    "# Utworzenie modelu Random Forest\n",
    "rf = RandomForestRegressor(random_state=42)\n",
    "\n",
    "# Konfiguracja GridSearchCV\n",
    "grid_search_rf = GridSearchCV(\n",
    "    estimator=rf,  # Model do strojenia\n",
    "    param_grid=param_grid_rf,  # Siatka parametrów\n",
    "    cv=3,  # Liczba foldów do walidacji krzyżowej\n",
    "    scoring='neg_mean_squared_error',  # Metryka oceny modelu (negatywny MSE)\n",
    "    verbose=2  # Poziom szczegółowości wyjścia\n",
    ")\n",
    "\n",
    "# Przeprowadzenie przeszukiwania siatki parametrów\n",
    "grid_search_rf.fit(X_train, y_train)\n",
    "\n",
    "# Najlepsze parametry dla Random Forest\n",
    "best_params_rf = grid_search_rf.best_params_\n",
    "print(\"Najlepsze parametry dla Random Forest:\", best_params_rf)\n",
    "\n",
    "#Podsumowanie:\n",
    "#Ten kod używa GridSearchCV do optymalizacji hiperparametrów modelu Random Forest. Przeszukiwanie siatki parametrów pozwala znaleźć najlepsze kombinacje hiperparametrów, które minimalizują błąd predykcji modelu. Wynikiem jest zestaw najlepszych parametrów, który można użyć do trenowania ostatecznego modelu na całym zbiorze danych treningowych."
   ]
  },
  {
   "cell_type": "code",
   "execution_count": 27,
   "metadata": {},
   "outputs": [
    {
     "name": "stdout",
     "output_type": "stream",
     "text": [
      "Fitting 3 folds for each of 27 candidates, totalling 81 fits\n",
      "[CV] END ..learning_rate=0.01, max_depth=3, n_estimators=100; total time=   0.1s\n",
      "[CV] END ..learning_rate=0.01, max_depth=3, n_estimators=100; total time=   0.1s\n",
      "[CV] END ..learning_rate=0.01, max_depth=3, n_estimators=100; total time=   0.1s\n",
      "[CV] END ..learning_rate=0.01, max_depth=3, n_estimators=200; total time=   0.2s\n",
      "[CV] END ..learning_rate=0.01, max_depth=3, n_estimators=200; total time=   0.2s\n",
      "[CV] END ..learning_rate=0.01, max_depth=3, n_estimators=200; total time=   0.2s\n",
      "[CV] END ..learning_rate=0.01, max_depth=3, n_estimators=300; total time=   0.4s\n",
      "[CV] END ..learning_rate=0.01, max_depth=3, n_estimators=300; total time=   0.4s\n",
      "[CV] END ..learning_rate=0.01, max_depth=3, n_estimators=300; total time=   0.3s\n",
      "[CV] END ..learning_rate=0.01, max_depth=6, n_estimators=100; total time=   0.2s\n",
      "[CV] END ..learning_rate=0.01, max_depth=6, n_estimators=100; total time=   0.2s\n",
      "[CV] END ..learning_rate=0.01, max_depth=6, n_estimators=100; total time=   0.3s\n",
      "[CV] END ..learning_rate=0.01, max_depth=6, n_estimators=200; total time=   0.6s\n",
      "[CV] END ..learning_rate=0.01, max_depth=6, n_estimators=200; total time=   0.5s\n",
      "[CV] END ..learning_rate=0.01, max_depth=6, n_estimators=200; total time=   0.6s\n",
      "[CV] END ..learning_rate=0.01, max_depth=6, n_estimators=300; total time=   0.8s\n",
      "[CV] END ..learning_rate=0.01, max_depth=6, n_estimators=300; total time=   0.8s\n",
      "[CV] END ..learning_rate=0.01, max_depth=6, n_estimators=300; total time=   0.9s\n",
      "[CV] END ..learning_rate=0.01, max_depth=9, n_estimators=100; total time=   0.3s\n",
      "[CV] END ..learning_rate=0.01, max_depth=9, n_estimators=100; total time=   0.3s\n",
      "[CV] END ..learning_rate=0.01, max_depth=9, n_estimators=100; total time=   0.3s\n",
      "[CV] END ..learning_rate=0.01, max_depth=9, n_estimators=200; total time=   0.6s\n",
      "[CV] END ..learning_rate=0.01, max_depth=9, n_estimators=200; total time=   0.6s\n",
      "[CV] END ..learning_rate=0.01, max_depth=9, n_estimators=200; total time=   0.6s\n",
      "[CV] END ..learning_rate=0.01, max_depth=9, n_estimators=300; total time=   0.9s\n",
      "[CV] END ..learning_rate=0.01, max_depth=9, n_estimators=300; total time=   1.0s\n",
      "[CV] END ..learning_rate=0.01, max_depth=9, n_estimators=300; total time=   0.9s\n",
      "[CV] END ...learning_rate=0.1, max_depth=3, n_estimators=100; total time=   0.1s\n",
      "[CV] END ...learning_rate=0.1, max_depth=3, n_estimators=100; total time=   0.1s\n",
      "[CV] END ...learning_rate=0.1, max_depth=3, n_estimators=100; total time=   0.1s\n",
      "[CV] END ...learning_rate=0.1, max_depth=3, n_estimators=200; total time=   0.3s\n",
      "[CV] END ...learning_rate=0.1, max_depth=3, n_estimators=200; total time=   0.3s\n",
      "[CV] END ...learning_rate=0.1, max_depth=3, n_estimators=200; total time=   0.3s\n",
      "[CV] END ...learning_rate=0.1, max_depth=3, n_estimators=300; total time=   0.4s\n",
      "[CV] END ...learning_rate=0.1, max_depth=3, n_estimators=300; total time=   0.4s\n",
      "[CV] END ...learning_rate=0.1, max_depth=3, n_estimators=300; total time=   0.4s\n",
      "[CV] END ...learning_rate=0.1, max_depth=6, n_estimators=100; total time=   0.3s\n",
      "[CV] END ...learning_rate=0.1, max_depth=6, n_estimators=100; total time=   0.4s\n",
      "[CV] END ...learning_rate=0.1, max_depth=6, n_estimators=100; total time=   0.3s\n",
      "[CV] END ...learning_rate=0.1, max_depth=6, n_estimators=200; total time=   0.6s\n",
      "[CV] END ...learning_rate=0.1, max_depth=6, n_estimators=200; total time=   0.5s\n",
      "[CV] END ...learning_rate=0.1, max_depth=6, n_estimators=200; total time=   0.5s\n",
      "[CV] END ...learning_rate=0.1, max_depth=6, n_estimators=300; total time=   0.6s\n",
      "[CV] END ...learning_rate=0.1, max_depth=6, n_estimators=300; total time=   0.7s\n",
      "[CV] END ...learning_rate=0.1, max_depth=6, n_estimators=300; total time=   0.6s\n",
      "[CV] END ...learning_rate=0.1, max_depth=9, n_estimators=100; total time=   0.4s\n",
      "[CV] END ...learning_rate=0.1, max_depth=9, n_estimators=100; total time=   0.4s\n",
      "[CV] END ...learning_rate=0.1, max_depth=9, n_estimators=100; total time=   0.4s\n",
      "[CV] END ...learning_rate=0.1, max_depth=9, n_estimators=200; total time=   0.6s\n",
      "[CV] END ...learning_rate=0.1, max_depth=9, n_estimators=200; total time=   0.6s\n",
      "[CV] END ...learning_rate=0.1, max_depth=9, n_estimators=200; total time=   0.6s\n",
      "[CV] END ...learning_rate=0.1, max_depth=9, n_estimators=300; total time=   0.9s\n",
      "[CV] END ...learning_rate=0.1, max_depth=9, n_estimators=300; total time=   0.9s\n",
      "[CV] END ...learning_rate=0.1, max_depth=9, n_estimators=300; total time=   0.8s\n",
      "[CV] END ...learning_rate=0.2, max_depth=3, n_estimators=100; total time=   0.2s\n",
      "[CV] END ...learning_rate=0.2, max_depth=3, n_estimators=100; total time=   0.2s\n",
      "[CV] END ...learning_rate=0.2, max_depth=3, n_estimators=100; total time=   0.2s\n",
      "[CV] END ...learning_rate=0.2, max_depth=3, n_estimators=200; total time=   0.3s\n",
      "[CV] END ...learning_rate=0.2, max_depth=3, n_estimators=200; total time=   0.3s\n",
      "[CV] END ...learning_rate=0.2, max_depth=3, n_estimators=200; total time=   0.3s\n",
      "[CV] END ...learning_rate=0.2, max_depth=3, n_estimators=300; total time=   0.5s\n",
      "[CV] END ...learning_rate=0.2, max_depth=3, n_estimators=300; total time=   0.5s\n",
      "[CV] END ...learning_rate=0.2, max_depth=3, n_estimators=300; total time=   0.4s\n",
      "[CV] END ...learning_rate=0.2, max_depth=6, n_estimators=100; total time=   0.3s\n",
      "[CV] END ...learning_rate=0.2, max_depth=6, n_estimators=100; total time=   0.2s\n",
      "[CV] END ...learning_rate=0.2, max_depth=6, n_estimators=100; total time=   0.3s\n",
      "[CV] END ...learning_rate=0.2, max_depth=6, n_estimators=200; total time=   0.3s\n",
      "[CV] END ...learning_rate=0.2, max_depth=6, n_estimators=200; total time=   0.4s\n",
      "[CV] END ...learning_rate=0.2, max_depth=6, n_estimators=200; total time=   0.3s\n",
      "[CV] END ...learning_rate=0.2, max_depth=6, n_estimators=300; total time=   0.4s\n",
      "[CV] END ...learning_rate=0.2, max_depth=6, n_estimators=300; total time=   0.4s\n",
      "[CV] END ...learning_rate=0.2, max_depth=6, n_estimators=300; total time=   0.4s\n",
      "[CV] END ...learning_rate=0.2, max_depth=9, n_estimators=100; total time=   0.3s\n",
      "[CV] END ...learning_rate=0.2, max_depth=9, n_estimators=100; total time=   0.3s\n",
      "[CV] END ...learning_rate=0.2, max_depth=9, n_estimators=100; total time=   0.3s\n",
      "[CV] END ...learning_rate=0.2, max_depth=9, n_estimators=200; total time=   0.4s\n",
      "[CV] END ...learning_rate=0.2, max_depth=9, n_estimators=200; total time=   0.4s\n",
      "[CV] END ...learning_rate=0.2, max_depth=9, n_estimators=200; total time=   0.4s\n",
      "[CV] END ...learning_rate=0.2, max_depth=9, n_estimators=300; total time=   0.4s\n",
      "[CV] END ...learning_rate=0.2, max_depth=9, n_estimators=300; total time=   0.5s\n",
      "[CV] END ...learning_rate=0.2, max_depth=9, n_estimators=300; total time=   0.4s\n",
      "Najlepsze parametry dla XGBoost: {'learning_rate': 0.2, 'max_depth': 3, 'n_estimators': 100}\n"
     ]
    }
   ],
   "source": [
    "# Definiowanie siatki parametrów dla XGBoost\n",
    "param_grid_xgb = {\n",
    "    'n_estimators': [100, 200, 300],  # Liczba drzew w modelu\n",
    "    'max_depth': [3, 6, 9],  # Maksymalna głębokość drzew\n",
    "    'learning_rate': [0.01, 0.1, 0.2]  # Szybkość uczenia\n",
    "}\n",
    "\n",
    "# Utworzenie modelu XGBoost\n",
    "xgb = XGBRegressor(random_state=42)\n",
    "\n",
    "# Konfiguracja GridSearchCV\n",
    "grid_search_xgb = GridSearchCV(\n",
    "    estimator=xgb,  # Model do strojenia\n",
    "    param_grid=param_grid_xgb,  # Siatka parametrów\n",
    "    cv=3,  # Liczba foldów do walidacji krzyżowej\n",
    "    scoring='neg_mean_squared_error',  # Metryka oceny modelu (negatywny MSE)\n",
    "    verbose=2  # Poziom szczegółowości wyjścia\n",
    ")\n",
    "\n",
    "# Przeprowadzenie przeszukiwania siatki parametrów\n",
    "grid_search_xgb.fit(X_train, y_train)\n",
    "\n",
    "# Najlepsze parametry dla XGBoost\n",
    "best_params_xgb = grid_search_xgb.best_params_\n",
    "print(\"Najlepsze parametry dla XGBoost:\", best_params_xgb)\n",
    "\n",
    "#Podsumowanie:\n",
    "#Ten kod używa GridSearchCV do optymalizacji hiperparametrów modelu XGBoost. Przeszukiwanie siatki parametrów pozwala znaleźć najlepsze kombinacje hiperparametrów, które minimalizują błąd predykcji modelu. Wynikiem jest zestaw najlepszych parametrów, który można użyć do trenowania ostatecznego modelu na całym zbiorze danych treningowyc"
   ]
  },
  {
   "cell_type": "markdown",
   "metadata": {},
   "source": [
    "**Analiza i Trening na Najlepszych Parametrach**"
   ]
  },
  {
   "cell_type": "code",
   "execution_count": 28,
   "metadata": {},
   "outputs": [
    {
     "name": "stdout",
     "output_type": "stream",
     "text": [
      "Random Forest - MSE: 0.000147, MAE: 0.000226, R^2: 0.999990\n"
     ]
    }
   ],
   "source": [
    "# Random Forest\n",
    "# Trening Random Forest z najlepszymi parametrami\n",
    "best_rf = RandomForestRegressor(\n",
    "    max_depth=10,  # Maksymalna głębokość drzewa\n",
    "    min_samples_split=2,  # Minimalna liczba próbek wymagana do podziału węzła\n",
    "    n_estimators=50,  # Liczba drzew w lesie\n",
    "    random_state=42  # Ustalony stan losowy dla powtarzalności wyników\n",
    ")\n",
    "\n",
    "# Trenowanie modelu na zbiorze treningowym\n",
    "best_rf.fit(X_train, y_train)\n",
    "\n",
    "# Przewidywanie wartości na zbiorze testowym\n",
    "rf_predictions = best_rf.predict(X_test)\n",
    "\n",
    "# Obliczanie metryk wydajności\n",
    "rf_mse = mean_squared_error(y_test, rf_predictions)  # Średni błąd kwadratowy (MSE)\n",
    "rf_mae = mean_absolute_error(y_test, rf_predictions)  # Średni błąd absolutny (MAE)\n",
    "rf_r2 = r2_score(y_test, rf_predictions)  # Współczynnik determinacji (R^2)\n",
    "\n",
    "# Wyświetlanie wyników\n",
    "print(f\"Random Forest - MSE: {rf_mse:.6f}, MAE: {rf_mae:.6f}, R^2: {rf_r2:.6f}\")\n"
   ]
  },
  {
   "cell_type": "code",
   "execution_count": 29,
   "metadata": {},
   "outputs": [
    {
     "name": "stdout",
     "output_type": "stream",
     "text": [
      "XGBoost - MSE: 0.000389, MAE: 0.004037, R^2: 0.999974\n"
     ]
    }
   ],
   "source": [
    "# XGBoost\n",
    "# Trening XGBoost z najlepszymi parametrami\n",
    "best_xgb = XGBRegressor(\n",
    "    learning_rate=0.1,  # Szybkość uczenia\n",
    "    max_depth=3,  # Maksymalna głębokość drzewa\n",
    "    n_estimators=100,  # Liczba drzew w modelu\n",
    "    random_state=42  # Ustalony stan losowy dla powtarzalności wyników\n",
    ")\n",
    "\n",
    "# Trenowanie modelu na zbiorze treningowym\n",
    "best_xgb.fit(X_train, y_train)\n",
    "\n",
    "# Przewidywanie wartości na zbiorze testowym\n",
    "xgb_predictions = best_xgb.predict(X_test)\n",
    "\n",
    "# Obliczanie metryk wydajności\n",
    "xgb_mse = mean_squared_error(y_test, xgb_predictions)  # Średni błąd kwadratowy (MSE)\n",
    "xgb_mae = mean_absolute_error(y_test, xgb_predictions)  # Średni błąd absolutny (MAE)\n",
    "xgb_r2 = r2_score(y_test, xgb_predictions)  # Współczynnik determinacji (R^2)\n",
    "\n",
    "# Wyświetlanie wyników\n",
    "print(f\"XGBoost - MSE: {xgb_mse:.6f}, MAE: {xgb_mae:.6f}, R^2: {xgb_r2:.6f}\")\n"
   ]
  },
  {
   "cell_type": "markdown",
   "metadata": {},
   "source": [
    "### **Podsumowanie Modeli Uczenia Maszynowego**"
   ]
  },
  {
   "cell_type": "markdown",
   "metadata": {},
   "source": [
    "Kod ten inicjalizuje modele regresyjne z różnymi konfiguracjami (domyślne parametry, najlepsze parametry, regularyzacja), trenuje je za pomocą walidacji krzyżowej i zbiera wyniki w formie metryk (MSE, MAE, R²). Wyniki są następnie prezentowane w połączonej ramce danych, co umożliwia łatwe porównanie wydajności różnych modeli i konfiguracji."
   ]
  },
  {
   "cell_type": "code",
   "execution_count": 30,
   "metadata": {},
   "outputs": [
    {
     "name": "stdout",
     "output_type": "stream",
     "text": [
      "                                      MSE       MAE        R2\n",
      "Linear Regression (Default)      0.008286  0.051753  0.999469\n",
      "Decision Tree (Default)          0.000156  0.000208  0.999991\n",
      "Random Forest (Default)          0.000092  0.000199  0.999995\n",
      "XGBoost (Default)                0.000530  0.001292  0.999967\n",
      "Linear Regression (Best Params)  0.008286  0.051753  0.999469\n",
      "Decision Tree (Best Params)      0.000156  0.000208  0.999991\n",
      "Random Forest (Best Params)      0.000089  0.000193  0.999995\n",
      "XGBoost (Best Params)            0.000450  0.004484  0.999972\n",
      "Lasso Regression                 0.046972  0.172880  0.996780\n",
      "Ridge Regression                 0.008286  0.051723  0.999469\n",
      "Random Forest (Regularized)      0.000107  0.000485  0.999994\n",
      "XGBoost (Regularized)            0.000474  0.003040  0.999971\n"
     ]
    }
   ],
   "source": [
    "# Inicjalizacja modeli\n",
    "# Modele z domyślnymi parametrami\n",
    "models_default = {\n",
    "    'Linear Regression (Default)': LinearRegression(),\n",
    "    'Decision Tree (Default)': DecisionTreeRegressor(random_state=42),\n",
    "    'Random Forest (Default)': RandomForestRegressor(random_state=42),\n",
    "    'XGBoost (Default)': XGBRegressor(random_state=42)\n",
    "}\n",
    "\n",
    "# Modele z najlepszymi parametrami (po optymalizacji)\n",
    "models_best = {\n",
    "    'Linear Regression (Best Params)': LinearRegression(),\n",
    "    'Decision Tree (Best Params)': DecisionTreeRegressor(random_state=42),\n",
    "    'Random Forest (Best Params)': RandomForestRegressor(max_depth=10, min_samples_split=2, n_estimators=50, random_state=42),\n",
    "    'XGBoost (Best Params)': XGBRegressor(learning_rate=0.1, max_depth=3, n_estimators=100, random_state=42)\n",
    "}\n",
    "\n",
    "# Modele z regularyzacją (Lasso, Ridge oraz z dodatkowymi parametrami regularyzacji dla RF i XGBoost)\n",
    "models_reg = {\n",
    "    'Lasso Regression': Lasso(alpha=0.01, random_state=42),\n",
    "    'Ridge Regression': Ridge(alpha=0.01, random_state=42),\n",
    "    'Random Forest (Regularized)': RandomForestRegressor(random_state=42, max_depth=10, min_samples_leaf=4, max_features=0.8),\n",
    "    'XGBoost (Regularized)': XGBRegressor(random_state=42, max_depth=6, gamma=0.1, reg_lambda=1.0, reg_alpha=0.1)\n",
    "}\n",
    "\n",
    "# Funkcja do trenowania modeli i zbierania wyników\n",
    "def get_metrics(models):\n",
    "    results = {}\n",
    "    for name, model in models.items():\n",
    "        # Obliczanie średniego MSE z walidacji krzyżowej\n",
    "        scores_mse = cross_val_score(model, X, y, cv=5, scoring='neg_mean_squared_error')\n",
    "        mse_mean = -scores_mse.mean()\n",
    "        \n",
    "        # Obliczanie średniego MAE z walidacji krzyżowej\n",
    "        scores_mae = cross_val_score(model, X, y, cv=5, scoring='neg_mean_absolute_error')\n",
    "        mae_mean = -scores_mae.mean()\n",
    "        \n",
    "        # Obliczanie średniego R^2 z walidacji krzyżowej\n",
    "        scores_r2 = cross_val_score(model, X, y, cv=5, scoring='r2')\n",
    "        r2_mean = scores_r2.mean()\n",
    "        \n",
    "        # Zapisanie wyników\n",
    "        results[name] = {'MSE': mse_mean, 'MAE': mae_mean, 'R2': r2_mean}\n",
    "    return results\n",
    "\n",
    "# Zbieranie wyników dla różnych zestawów modeli\n",
    "results_default = get_metrics(models_default)\n",
    "results_best = get_metrics(models_best)\n",
    "results_reg = get_metrics(models_reg)\n",
    "\n",
    "# Tworzenie ramek danych z wynikami\n",
    "df_default = pd.DataFrame(results_default).T\n",
    "df_default.index.name = 'Model (Default Params)'\n",
    "\n",
    "df_best = pd.DataFrame(results_best).T\n",
    "df_best.index.name = 'Model (Best Params)'\n",
    "\n",
    "df_reg = pd.DataFrame(results_reg).T\n",
    "df_reg.index.name = 'Model (Regularized)'\n",
    "\n",
    "# Połączenie ramek danych w jedną\n",
    "df_combined = pd.concat([df_default, df_best, df_reg])\n",
    "\n",
    "# Wyświetlenie wyników\n",
    "print(df_combined)"
   ]
  },
  {
   "cell_type": "markdown",
   "metadata": {},
   "source": [
    "**Wnisoek:**\n",
    "- wybrany model to: \"Random Forest (Regularized)"
   ]
  },
  {
   "cell_type": "code",
   "execution_count": 31,
   "metadata": {},
   "outputs": [
    {
     "name": "stdout",
     "output_type": "stream",
     "text": [
      "Model został zapisany do: ../2. Data/ML_models/random_forest_regularized_model.joblib\n"
     ]
    }
   ],
   "source": [
    "# Inicjalizacja modelu Random Forest z regularyzacją\n",
    "rf_model_reg = RandomForestRegressor(\n",
    "    random_state=42,  # Ustalony stan losowy dla powtarzalności wyników\n",
    "    max_depth=10,  # Maksymalna głębokość drzew w lesie\n",
    "    min_samples_leaf=4,  # Minimalna liczba próbek w liściu\n",
    "    max_features=0.8  # Maksymalny odsetek cech używanych do podziału w każdym węźle\n",
    ")\n",
    "\n",
    "# Trenowanie modelu na całym zbiorze danych\n",
    "rf_model_reg.fit(X, y)\n",
    "\n",
    "# Ścieżka do zapisania modelu\n",
    "model_path = '../2. Data/ML_models/random_forest_regularized_model.joblib'\n",
    "\n",
    "# Zapisanie modelu do pliku\n",
    "joblib.dump(rf_model_reg, model_path)\n",
    "\n",
    "# Informacja o zapisaniu modelu\n",
    "print(\"Model został zapisany do:\", model_path)"
   ]
  },
  {
   "cell_type": "markdown",
   "metadata": {},
   "source": [
    "#### 6. Ekstrapolacja w przyszłość"
   ]
  },
  {
   "cell_type": "markdown",
   "metadata": {},
   "source": [
    "## SPRAWDZIC ARIMA dla wartosci przyszlosci"
   ]
  },
  {
   "cell_type": "markdown",
   "metadata": {},
   "source": [
    "Przechodzimy teraz do ekstrapolacji przewidywań na przyszłość, korzystając z zoptymalizowanego modelu Random Forest. To etap, na którym będziemy korzystać z modelu do prognozowania przyszłej produkcji energii na lata 2024-2035, zarówno na poziomie rocznym, jak i miesięcznym.\n",
    "\n",
    "1. Przygotowanie danych przyszłych\n",
    "Najpierw musimy przygotować dane wejściowe dla modelu, które będą odpowiadać przyszłym warunkom. To może obejmować przewidywanie lub ekstrapolację cech takich jak 'estimated_irradiance', 'humidity_modifier', 'pressure' itd., w zależności od dostępności przyszłych danych lub prognoz\n",
    "\n",
    "2. Wykorzystanie modelu do przewidywania\n",
    "Następnie użyjemy zapisanego modelu do wygenerowania prognoz produkcji energii na podstawie przygotowanych danych.\n",
    "\n",
    "3. Wizualizacja wyników\n",
    "Wizualizacja wyników pomoże zrozumieć, jak model przewiduje zmiany w produkcji energii w ciągu roku."
   ]
  },
  {
   "cell_type": "code",
   "execution_count": 32,
   "metadata": {},
   "outputs": [],
   "source": [
    "# Załadowanie danych\n",
    "data_path = '../2. Data/processed/data_ml_processed.csv'\n",
    "data = pd.read_csv(data_path)  # Wczytanie przetworzonych danych z pliku CSV\n",
    "\n",
    "# Wczytanie danych historycznych\n",
    "historical_data = data.copy()  # Tworzenie kopii danych historycznych\n",
    "\n",
    "# Obliczanie miesięcznych średnich dla kluczowych parametrów z danych historycznych\n",
    "monthly_avg_values = historical_data.groupby(['month']).mean().reset_index()\n",
    "\n",
    "# Wybieramy unikalne lokalizacje, ich szerokości i długości geograficzne\n",
    "unique_cities = data[['city_name', 'lat', 'lon']].drop_duplicates()\n",
    "\n",
    "# Generowanie przyszłych dat\n",
    "dates = pd.date_range(start='2024-01-01', end='2035-12-31', freq='D')  # Tworzenie zakresu dat od 2024 do 2035 roku\n",
    "\n",
    "# Lista do przechowywania przyszłych danych\n",
    "future_data_list = []\n",
    "\n",
    "# Generowanie przyszłych danych dla każdej lokalizacji i daty\n",
    "for index, row in unique_cities.iterrows():\n",
    "    for date in dates:\n",
    "        # Pobranie średnich wartości dla danego miesiąca\n",
    "        month_avg = monthly_avg_values[monthly_avg_values['month'] == date.month].iloc[0]\n",
    "        \n",
    "        # Generowanie danych dla jednego dnia\n",
    "        day_data = {\n",
    "            'temp': np.random.normal(loc=month_avg['temp']),  # Generowanie temperatury na podstawie średniej\n",
    "            'estimated_irradiance': np.random.normal(loc=month_avg['estimated_irradiance']),  # Generowanie nasłonecznienia na podstawie średniej\n",
    "            'humidity_modifier': month_avg['humidity_modifier'],  # Używanie średniej wilgotności\n",
    "            'pressure': month_avg['pressure'],  # Używanie średniego ciśnienia\n",
    "            'feels_like': np.random.normal(loc=month_avg['feels_like']),  # Generowanie odczuwalnej temperatury na podstawie średniej\n",
    "            'year': date.year,  # Rok z generowanej daty\n",
    "            'month': date.month,  # Miesiąc z generowanej daty\n",
    "            'day': date.day,  # Dzień z generowanej daty\n",
    "            'lat': row['lat'],  # Szerokość geograficzna lokalizacji\n",
    "            'lon': row['lon'],  # Długość geograficzna lokalizacji\n",
    "            'city_name': row['city_name'],  # Nazwa miasta\n",
    "            'clouds_all': np.random.normal(loc=month_avg['clouds_all']),  # Generowanie zachmurzenia na podstawie średniej\n",
    "            'weather_main': np.random.choice(historical_data['weather_main'].unique())  # Losowy wybór typu pogody z danych historycznych\n",
    "        }\n",
    "        future_data_list.append(day_data)  # Dodanie wygenerowanych danych do listy\n",
    "\n",
    "# Tworzenie DataFrame z przyszłymi danymi\n",
    "future_data = pd.DataFrame(future_data_list)\n",
    "\n",
    "# Teraz można użyć tego DataFrame do predykcji za pomocą załadowanego modelu"
   ]
  },
  {
   "cell_type": "markdown",
   "metadata": {},
   "source": [
    "Tworzenie danych do przewidywania w podanym kodzie odbywa się w kilku krokach i wykorzystuje połączenie średnich wartości miesięcznych z pewnymi losowymi odchyleniami, aby zasymulować zmienność. Oto jak to jest realizowane:\n",
    "\n",
    "1. Wybór średnich miesięcznych wartości:\n",
    "\n",
    "Dla każdego dnia w zakresie dat (od 2024-01-01 do 2035-12-31), kod najpierw wyszukuje średnie wartości dla danego miesiąca z monthly_avg_values. month_avg to wiersz zawierający średnie wartości dla miesiąca odpowiadającego danemu dniowi (date.month).\n",
    "\n",
    "2. Generowanie danych na podstawie średnich wartości:\n",
    "\n",
    "- temp (temperatura): Losowe wartości są generowane na podstawie normalnego rozkładu z średnią równą średniej temperaturze dla danego miesiąca (month_avg['temp']) i domyślnym odchyleniem standardowym.\n",
    "- estimated_irradiance (przewidywana irradiancja): Podobnie jak temperatura, wartości są generowane losowo z normalnego rozkładu wokół średniej wartości irradiancji dla miesiąca.\n",
    "- humidity_modifier, pressure (modyfikator wilgotności, ciśnienie): Bezpośrednie użycie średnich miesięcznych wartości, bez dodatkowych losowych zmian.\n",
    "- feels_like (odczuwalna temperatura): Generowane losowo z normalnego rozkładu podobnie jak temperatura.\n",
    "- clouds_all (zachmurzenie): Generowane losowo z normalnego rozkładu wokół średniej wartości zachmurzenia dla miesiąca.\n",
    "\n",
    "3. Dodatkowe informacje geograficzne i pogodowe:\n",
    "\n",
    "- lat (szerokość geograficzna) i lon (długość geograficzna): Bezpośrednio z wiersza odpowiadającego danej lokalizacji.\n",
    "- city_name: Nazwa miasta również bezpośrednio z wiersza.\n",
    "- weather_main: Losowo wybrany typ pogody z unikalnych wartości występujących w danych historycznych.\n",
    "\n",
    "4. Tworzenie rekordu danych:\n",
    "\n",
    "Każdy day_data reprezentuje dane pogodowe i geograficzne dla jednego dnia, w których zasymulowano zarówno stałość (średnie wartości) jak i zmienność (losowe odchylenia) warunków pogodowych."
   ]
  },
  {
   "cell_type": "markdown",
   "metadata": {},
   "source": [
    "**Tworzenie danych do przewidywania w podanym kodzie można poprawić na kilka sposobów, aby dane były bardziej realistyczne i wiarygodne. Oto kilka sugestii:**\n",
    "\n",
    "1. Użycie lepszych rozkładów dla parametrów meteorologicznych\n",
    "Zamiast używać normalnego rozkładu do generowania wszystkich parametrów, warto rozważyć użycie rozkładów bardziej dostosowanych do charakterystyki danych meteorologicznych:\n",
    "\n",
    "Temperatura i odczuwalna temperatura: Rozkłady te mogą być asymetryczne, w zależności od lokalizacji i pory roku. Rozważ użycie rozkładu Gamma lub innych rozkładów prawostronnie skośnych.\n",
    "Irradiancja: Skoro wartości irradiancji mogą być ściśle związane z porą roku (większe wartości latem, mniejsze zimą), możesz zastosować nieliniową funkcję zamiast sinusoidy, która lepiej odzwierciedla zmienność w ciągu roku, np. funkcję opartą na rzeczywistych danych pomiarowych.\n",
    "2. Parametryzacja odchylenia standardowego\n",
    "Obecnie odchylenie standardowe dla normalnego rozkładu nie jest określone, co może prowadzić do nieprzewidywalnych rozrzutów wartości. Rozważ ustawienie odchylenia standardowego w zależności od zmiennej i miesiąca, co może dać bardziej kontrolowane i realistyczne rozrzuty:\n",
    "\n",
    "Dla temperatury: Odchylenie standardowe może wzrastać w miesiącach zimowych i być mniejsze w miesiącach letnich.\n",
    "Dla irradiancji: Mniejsze odchylenia w miesiącach letnich, gdy dni są zazwyczaj słoneczniejsze i większe w miesiącach zimowych.\n",
    "3. Dokładniejsze symulowanie ekstremów pogodowych\n",
    "Zachmurzenie i warunki pogodowe: Możesz wprowadzić logikę, która zwiększa prawdopodobieństwo ekstremalnych wartości (np. bardzo niskie lub wysokie zachmurzenie) w zależności od sezonu lub aktualnych warunków.\n",
    "Warunki pogodowe: Zamiast losowo wybierać warunki pogodowe, lepiej modelować ich zależność od aktualnych parametrów, jak temperatura czy zachmurzenie.\n",
    "4. Zastosowanie metod uczenia maszynowego\n",
    "Można również rozważyć użycie prostych modeli uczenia maszynowego do prognozowania wartości pogodowych na podstawie historycznych danych. Model taki mógłby uczyć się wzorców sezonowych i długoterminowych trendów w danych, oferując bardziej precyzyjne i spójne prognozy.\n",
    "\n",
    "5. Walidacja i kalibracja modelu\n",
    "Regularnie waliduj i kalibruj wygenerowane dane, porównując je z rzeczywistymi danymi obserwacyjnymi. Może to prowadzić do dalszych dostosowań w modelu, jak dostosowanie rozkładów czy parametrów funkcji.\n",
    "\n",
    "Implementacja tych zmian może znacznie poprawić jakość i realność generowanych danych do przewidywania, co jest kluczowe w wielu zastosowaniach, takich jak modelowanie klimatyczne czy systemy wspomagania decyzji."
   ]
  },
  {
   "cell_type": "code",
   "execution_count": 33,
   "metadata": {},
   "outputs": [],
   "source": [
    "# Załadowanie modelu\n",
    "model_path = '../2. Data/ML_models/random_forest_regularized_model.joblib'  # Ścieżka do zapisanego modelu\n",
    "\n",
    "model = joblib.load(model_path)  # Wczytanie modelu Random Forest z zapisanego pliku\n",
    "\n",
    "# Predykcja\n",
    "predicted_values = model.predict(future_data)  # Przewidywanie wartości na podstawie przyszłych danych\n"
   ]
  },
  {
   "cell_type": "code",
   "execution_count": 34,
   "metadata": {},
   "outputs": [
    {
     "name": "stdout",
     "output_type": "stream",
     "text": [
      "       year  month  day  city_name  predicted_energy_production_kWh\n",
      "0      2024      1    1        0.0                         6.498833\n",
      "1      2024      1    2        0.0                         6.138433\n",
      "2      2024      1    3        0.0                         5.700000\n",
      "3      2024      1    4        0.0                         6.536833\n",
      "4      2024      1    5        0.0                         7.545150\n",
      "...     ...    ...  ...        ...                              ...\n",
      "13144  2035     12   27        2.0                         9.367000\n",
      "13145  2035     12   28        2.0                         5.282600\n",
      "13146  2035     12   29        2.0                         6.308600\n",
      "13147  2035     12   30        2.0                         6.270600\n",
      "13148  2035     12   31        2.0                        13.176500\n",
      "\n",
      "[13149 rows x 5 columns]\n"
     ]
    }
   ],
   "source": [
    "# Dodajemy przewidziane wartości do DataFrame\n",
    "future_data['predicted_energy_production_kWh'] = predicted_values  # Dodanie kolumny z przewidywaną produkcją energii do DataFrame\n",
    "\n",
    "# Wyświetlamy wyniki\n",
    "print(future_data[['year', 'month', 'day', 'city_name', 'predicted_energy_production_kWh']])  # Wyświetlenie wybranych kolumn z przewidywanymi wartościami"
   ]
  },
  {
   "cell_type": "code",
   "execution_count": 35,
   "metadata": {},
   "outputs": [
    {
     "name": "stdout",
     "output_type": "stream",
     "text": [
      "       year  month  day    city_name  predicted_energy_production_kWh\n",
      "0      2024      1    1  Baden_Baden                         6.498833\n",
      "1      2024      1    2  Baden_Baden                         6.138433\n",
      "2      2024      1    3  Baden_Baden                         5.700000\n",
      "3      2024      1    4  Baden_Baden                         6.536833\n",
      "4      2024      1    5  Baden_Baden                         7.545150\n",
      "...     ...    ...  ...          ...                              ...\n",
      "13144  2035     12   27  Walcz_Drugi                         9.367000\n",
      "13145  2035     12   28  Walcz_Drugi                         5.282600\n",
      "13146  2035     12   29  Walcz_Drugi                         6.308600\n",
      "13147  2035     12   30  Walcz_Drugi                         6.270600\n",
      "13148  2035     12   31  Walcz_Drugi                        13.176500\n",
      "\n",
      "[13149 rows x 5 columns]\n"
     ]
    }
   ],
   "source": [
    "# Przykładowy słownik - zastąp go swoim faktycznym mapowaniem\n",
    "city_to_number = {'Baden_Baden': 0, 'Bozanska': 1, 'Walcz_Drugi': 2}  # Mapowanie nazw miast na numery\n",
    "number_to_city = {v: k for k, v in city_to_number.items()}  # Tworzenie odwrotnego mapowania z numerów na nazwy miast\n",
    "\n",
    "# Odkodowanie city_name w DataFrame\n",
    "future_data['city_name'] = future_data['city_name'].map(number_to_city)  # Przekształcenie numerów miast na nazwy miast w DataFrame\n",
    "\n",
    "# Dodanie przewidzianych wartości do DataFrame\n",
    "future_data['predicted_energy_production_kWh'] = predicted_values  # Dodanie kolumny z przewidywaną produkcją energii do DataFrame\n",
    "\n",
    "# Wyświetlenie wyników z odkodowaną nazwą miasta\n",
    "print(future_data[['year', 'month', 'day', 'city_name', 'predicted_energy_production_kWh']])  # Wyświetlenie wybranych kolumn z przewidywanymi wartościami\n"
   ]
  },
  {
   "cell_type": "code",
   "execution_count": 36,
   "metadata": {},
   "outputs": [
    {
     "data": {
      "text/plain": [
       "array([ 1,  2,  3,  4,  5,  6,  7,  8,  9, 10, 11, 12, 13, 14, 15, 16, 17,\n",
       "       18, 19, 20, 21, 22, 23, 24, 25, 26, 27, 28, 29, 30, 31],\n",
       "      dtype=int64)"
      ]
     },
     "execution_count": 36,
     "metadata": {},
     "output_type": "execute_result"
    }
   ],
   "source": [
    "# Wyświetlenie unikalnych wartości dla kolumny 'day' w DataFrame\n",
    "print(future_data['day'].unique())  # Wyświetlenie unikalnych dni w kolumnie 'day'\n"
   ]
  },
  {
   "cell_type": "code",
   "execution_count": 37,
   "metadata": {},
   "outputs": [],
   "source": [
    "# Zapisanie DataFrame do pliku CSV\n",
    "future_data.to_csv('../2. Data/processed/future_data.csv', index=False)  # Zapisanie przyszłych danych do pliku"
   ]
  }
 ],
 "metadata": {
  "kernelspec": {
   "display_name": "Python 3",
   "language": "python",
   "name": "python3"
  },
  "language_info": {
   "codemirror_mode": {
    "name": "ipython",
    "version": 3
   },
   "file_extension": ".py",
   "mimetype": "text/x-python",
   "name": "python",
   "nbconvert_exporter": "python",
   "pygments_lexer": "ipython3",
   "version": "3.9.1"
  }
 },
 "nbformat": 4,
 "nbformat_minor": 2
}
